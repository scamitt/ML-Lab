{
 "cells": [
  {
   "cell_type": "markdown",
   "id": "49637508",
   "metadata": {},
   "source": [
    "### 1. Import libraries"
   ]
  },
  {
   "cell_type": "code",
   "execution_count": 1,
   "id": "8edc6604",
   "metadata": {},
   "outputs": [],
   "source": [
    "import pandas as pd\n",
    "import numpy as np\n",
    "import matplotlib.pyplot as plt\n",
    "import seaborn as sns\n",
    "from statistics import *\n",
    "\n",
    "from sklearn.model_selection import train_test_split\n",
    "from sklearn.metrics import *\n",
    "from sklearn.preprocessing import MinMaxScaler, LabelEncoder\n",
    "from sklearn.naive_bayes import GaussianNB\n",
    "from sklearn.model_selection import cross_val_score\n",
    "from sklearn.model_selection import StratifiedKFold"
   ]
  },
  {
   "cell_type": "markdown",
   "id": "8099e9d6",
   "metadata": {},
   "source": [
    "### 2. Import dataset "
   ]
  },
  {
   "cell_type": "code",
   "execution_count": 2,
   "id": "347c78d2",
   "metadata": {},
   "outputs": [
    {
     "data": {
      "text/html": [
       "<div>\n",
       "<style scoped>\n",
       "    .dataframe tbody tr th:only-of-type {\n",
       "        vertical-align: middle;\n",
       "    }\n",
       "\n",
       "    .dataframe tbody tr th {\n",
       "        vertical-align: top;\n",
       "    }\n",
       "\n",
       "    .dataframe thead th {\n",
       "        text-align: right;\n",
       "    }\n",
       "</style>\n",
       "<table border=\"1\" class=\"dataframe\">\n",
       "  <thead>\n",
       "    <tr style=\"text-align: right;\">\n",
       "      <th></th>\n",
       "      <th>credit.policy</th>\n",
       "      <th>purpose</th>\n",
       "      <th>int.rate</th>\n",
       "      <th>installment</th>\n",
       "      <th>log.annual.inc</th>\n",
       "      <th>dti</th>\n",
       "      <th>fico</th>\n",
       "      <th>days.with.cr.line</th>\n",
       "      <th>revol.bal</th>\n",
       "      <th>revol.util</th>\n",
       "      <th>inq.last.6mths</th>\n",
       "      <th>delinq.2yrs</th>\n",
       "      <th>pub.rec</th>\n",
       "      <th>not.fully.paid</th>\n",
       "    </tr>\n",
       "  </thead>\n",
       "  <tbody>\n",
       "    <tr>\n",
       "      <th>0</th>\n",
       "      <td>1</td>\n",
       "      <td>debt_consolidation</td>\n",
       "      <td>0.1189</td>\n",
       "      <td>829.10</td>\n",
       "      <td>11.350407</td>\n",
       "      <td>19.48</td>\n",
       "      <td>737</td>\n",
       "      <td>5639.958333</td>\n",
       "      <td>28854</td>\n",
       "      <td>52.1</td>\n",
       "      <td>0</td>\n",
       "      <td>0</td>\n",
       "      <td>0</td>\n",
       "      <td>0</td>\n",
       "    </tr>\n",
       "    <tr>\n",
       "      <th>1</th>\n",
       "      <td>1</td>\n",
       "      <td>credit_card</td>\n",
       "      <td>0.1071</td>\n",
       "      <td>228.22</td>\n",
       "      <td>11.082143</td>\n",
       "      <td>14.29</td>\n",
       "      <td>707</td>\n",
       "      <td>2760.000000</td>\n",
       "      <td>33623</td>\n",
       "      <td>76.7</td>\n",
       "      <td>0</td>\n",
       "      <td>0</td>\n",
       "      <td>0</td>\n",
       "      <td>0</td>\n",
       "    </tr>\n",
       "    <tr>\n",
       "      <th>2</th>\n",
       "      <td>1</td>\n",
       "      <td>debt_consolidation</td>\n",
       "      <td>0.1357</td>\n",
       "      <td>366.86</td>\n",
       "      <td>10.373491</td>\n",
       "      <td>11.63</td>\n",
       "      <td>682</td>\n",
       "      <td>4710.000000</td>\n",
       "      <td>3511</td>\n",
       "      <td>25.6</td>\n",
       "      <td>1</td>\n",
       "      <td>0</td>\n",
       "      <td>0</td>\n",
       "      <td>0</td>\n",
       "    </tr>\n",
       "    <tr>\n",
       "      <th>3</th>\n",
       "      <td>1</td>\n",
       "      <td>debt_consolidation</td>\n",
       "      <td>0.1008</td>\n",
       "      <td>162.34</td>\n",
       "      <td>11.350407</td>\n",
       "      <td>8.10</td>\n",
       "      <td>712</td>\n",
       "      <td>2699.958333</td>\n",
       "      <td>33667</td>\n",
       "      <td>73.2</td>\n",
       "      <td>1</td>\n",
       "      <td>0</td>\n",
       "      <td>0</td>\n",
       "      <td>0</td>\n",
       "    </tr>\n",
       "    <tr>\n",
       "      <th>4</th>\n",
       "      <td>1</td>\n",
       "      <td>credit_card</td>\n",
       "      <td>0.1426</td>\n",
       "      <td>102.92</td>\n",
       "      <td>11.299732</td>\n",
       "      <td>14.97</td>\n",
       "      <td>667</td>\n",
       "      <td>4066.000000</td>\n",
       "      <td>4740</td>\n",
       "      <td>39.5</td>\n",
       "      <td>0</td>\n",
       "      <td>1</td>\n",
       "      <td>0</td>\n",
       "      <td>0</td>\n",
       "    </tr>\n",
       "  </tbody>\n",
       "</table>\n",
       "</div>"
      ],
      "text/plain": [
       "   credit.policy             purpose  int.rate  installment  log.annual.inc  \\\n",
       "0              1  debt_consolidation    0.1189       829.10       11.350407   \n",
       "1              1         credit_card    0.1071       228.22       11.082143   \n",
       "2              1  debt_consolidation    0.1357       366.86       10.373491   \n",
       "3              1  debt_consolidation    0.1008       162.34       11.350407   \n",
       "4              1         credit_card    0.1426       102.92       11.299732   \n",
       "\n",
       "     dti  fico  days.with.cr.line  revol.bal  revol.util  inq.last.6mths  \\\n",
       "0  19.48   737        5639.958333      28854        52.1               0   \n",
       "1  14.29   707        2760.000000      33623        76.7               0   \n",
       "2  11.63   682        4710.000000       3511        25.6               1   \n",
       "3   8.10   712        2699.958333      33667        73.2               1   \n",
       "4  14.97   667        4066.000000       4740        39.5               0   \n",
       "\n",
       "   delinq.2yrs  pub.rec  not.fully.paid  \n",
       "0            0        0               0  \n",
       "1            0        0               0  \n",
       "2            0        0               0  \n",
       "3            0        0               0  \n",
       "4            1        0               0  "
      ]
     },
     "execution_count": 2,
     "metadata": {},
     "output_type": "execute_result"
    }
   ],
   "source": [
    "df = pd.read_csv(\"NB2.csv\")\n",
    "df.head()"
   ]
  },
  {
   "cell_type": "markdown",
   "id": "be1abddf",
   "metadata": {},
   "source": [
    "### 3. Explore the data to gain insights about the data "
   ]
  },
  {
   "cell_type": "code",
   "execution_count": 3,
   "id": "91ad89cb",
   "metadata": {},
   "outputs": [
    {
     "data": {
      "text/plain": [
       "(9578, 14)"
      ]
     },
     "execution_count": 3,
     "metadata": {},
     "output_type": "execute_result"
    }
   ],
   "source": [
    "df.shape"
   ]
  },
  {
   "cell_type": "markdown",
   "id": "406130b3",
   "metadata": {},
   "source": [
    "Rename column names"
   ]
  },
  {
   "cell_type": "code",
   "execution_count": 4,
   "id": "bd2618e0",
   "metadata": {},
   "outputs": [
    {
     "data": {
      "text/html": [
       "<div>\n",
       "<style scoped>\n",
       "    .dataframe tbody tr th:only-of-type {\n",
       "        vertical-align: middle;\n",
       "    }\n",
       "\n",
       "    .dataframe tbody tr th {\n",
       "        vertical-align: top;\n",
       "    }\n",
       "\n",
       "    .dataframe thead th {\n",
       "        text-align: right;\n",
       "    }\n",
       "</style>\n",
       "<table border=\"1\" class=\"dataframe\">\n",
       "  <thead>\n",
       "    <tr style=\"text-align: right;\">\n",
       "      <th></th>\n",
       "      <th>credit</th>\n",
       "      <th>purpose</th>\n",
       "      <th>rate</th>\n",
       "      <th>installment</th>\n",
       "      <th>inc</th>\n",
       "      <th>dti</th>\n",
       "      <th>fico</th>\n",
       "      <th>cr</th>\n",
       "      <th>bal</th>\n",
       "      <th>util</th>\n",
       "      <th>inq</th>\n",
       "      <th>delinq</th>\n",
       "      <th>rec</th>\n",
       "      <th>paid</th>\n",
       "    </tr>\n",
       "  </thead>\n",
       "  <tbody>\n",
       "    <tr>\n",
       "      <th>0</th>\n",
       "      <td>1</td>\n",
       "      <td>debt_consolidation</td>\n",
       "      <td>0.1189</td>\n",
       "      <td>829.10</td>\n",
       "      <td>11.350407</td>\n",
       "      <td>19.48</td>\n",
       "      <td>737</td>\n",
       "      <td>5639.958333</td>\n",
       "      <td>28854</td>\n",
       "      <td>52.1</td>\n",
       "      <td>0</td>\n",
       "      <td>0</td>\n",
       "      <td>0</td>\n",
       "      <td>0</td>\n",
       "    </tr>\n",
       "    <tr>\n",
       "      <th>1</th>\n",
       "      <td>1</td>\n",
       "      <td>credit_card</td>\n",
       "      <td>0.1071</td>\n",
       "      <td>228.22</td>\n",
       "      <td>11.082143</td>\n",
       "      <td>14.29</td>\n",
       "      <td>707</td>\n",
       "      <td>2760.000000</td>\n",
       "      <td>33623</td>\n",
       "      <td>76.7</td>\n",
       "      <td>0</td>\n",
       "      <td>0</td>\n",
       "      <td>0</td>\n",
       "      <td>0</td>\n",
       "    </tr>\n",
       "    <tr>\n",
       "      <th>2</th>\n",
       "      <td>1</td>\n",
       "      <td>debt_consolidation</td>\n",
       "      <td>0.1357</td>\n",
       "      <td>366.86</td>\n",
       "      <td>10.373491</td>\n",
       "      <td>11.63</td>\n",
       "      <td>682</td>\n",
       "      <td>4710.000000</td>\n",
       "      <td>3511</td>\n",
       "      <td>25.6</td>\n",
       "      <td>1</td>\n",
       "      <td>0</td>\n",
       "      <td>0</td>\n",
       "      <td>0</td>\n",
       "    </tr>\n",
       "    <tr>\n",
       "      <th>3</th>\n",
       "      <td>1</td>\n",
       "      <td>debt_consolidation</td>\n",
       "      <td>0.1008</td>\n",
       "      <td>162.34</td>\n",
       "      <td>11.350407</td>\n",
       "      <td>8.10</td>\n",
       "      <td>712</td>\n",
       "      <td>2699.958333</td>\n",
       "      <td>33667</td>\n",
       "      <td>73.2</td>\n",
       "      <td>1</td>\n",
       "      <td>0</td>\n",
       "      <td>0</td>\n",
       "      <td>0</td>\n",
       "    </tr>\n",
       "    <tr>\n",
       "      <th>4</th>\n",
       "      <td>1</td>\n",
       "      <td>credit_card</td>\n",
       "      <td>0.1426</td>\n",
       "      <td>102.92</td>\n",
       "      <td>11.299732</td>\n",
       "      <td>14.97</td>\n",
       "      <td>667</td>\n",
       "      <td>4066.000000</td>\n",
       "      <td>4740</td>\n",
       "      <td>39.5</td>\n",
       "      <td>0</td>\n",
       "      <td>1</td>\n",
       "      <td>0</td>\n",
       "      <td>0</td>\n",
       "    </tr>\n",
       "  </tbody>\n",
       "</table>\n",
       "</div>"
      ],
      "text/plain": [
       "   credit             purpose    rate  installment        inc    dti  fico  \\\n",
       "0       1  debt_consolidation  0.1189       829.10  11.350407  19.48   737   \n",
       "1       1         credit_card  0.1071       228.22  11.082143  14.29   707   \n",
       "2       1  debt_consolidation  0.1357       366.86  10.373491  11.63   682   \n",
       "3       1  debt_consolidation  0.1008       162.34  11.350407   8.10   712   \n",
       "4       1         credit_card  0.1426       102.92  11.299732  14.97   667   \n",
       "\n",
       "            cr    bal  util  inq  delinq  rec  paid  \n",
       "0  5639.958333  28854  52.1    0       0    0     0  \n",
       "1  2760.000000  33623  76.7    0       0    0     0  \n",
       "2  4710.000000   3511  25.6    1       0    0     0  \n",
       "3  2699.958333  33667  73.2    1       0    0     0  \n",
       "4  4066.000000   4740  39.5    0       1    0     0  "
      ]
     },
     "execution_count": 4,
     "metadata": {},
     "output_type": "execute_result"
    }
   ],
   "source": [
    "df = df.set_axis(['credit', 'purpose', 'rate', 'installment', 'inc', 'dti', 'fico', 'cr', 'bal', 'util', 'inq', 'delinq', 'rec', 'paid'], axis='columns')\n",
    "df.head()"
   ]
  },
  {
   "cell_type": "markdown",
   "id": "33c86be8",
   "metadata": {},
   "source": [
    "Explore categorical variables and view them"
   ]
  },
  {
   "cell_type": "code",
   "execution_count": 5,
   "id": "344f0c94",
   "metadata": {},
   "outputs": [
    {
     "name": "stdout",
     "output_type": "stream",
     "text": [
      "['purpose']\n",
      "['credit', 'rate', 'installment', 'inc', 'dti', 'fico', 'cr', 'bal', 'util', 'inq', 'delinq', 'rec', 'paid']\n"
     ]
    }
   ],
   "source": [
    "numCol = list(df._get_numeric_data().columns)\n",
    "catCol = list(set(df.columns) - set(numCol))\n",
    "print(catCol)\n",
    "print(numCol)"
   ]
  },
  {
   "cell_type": "markdown",
   "id": "8b09b40b",
   "metadata": {},
   "source": [
    "Check missing values in categorical variables"
   ]
  },
  {
   "cell_type": "code",
   "execution_count": 6,
   "id": "2d54d7d4",
   "metadata": {},
   "outputs": [
    {
     "name": "stdout",
     "output_type": "stream",
     "text": [
      "purpose = 0\n"
     ]
    }
   ],
   "source": [
    "df = df.applymap(lambda x: x.strip() if isinstance(x, str) else x)\n",
    "df = df.replace('?', np.nan)\n",
    "for col in catCol:\n",
    "    print(col, '=', df[col].isnull().sum())"
   ]
  },
  {
   "cell_type": "markdown",
   "id": "1f77cf35",
   "metadata": {},
   "source": [
    "View frequency count and distribution"
   ]
  },
  {
   "cell_type": "code",
   "execution_count": 7,
   "id": "1a846bb8",
   "metadata": {},
   "outputs": [
    {
     "name": "stdout",
     "output_type": "stream",
     "text": [
      "purpose \n",
      " purpose\n",
      "debt_consolidation    3957\n",
      "all_other             2331\n",
      "credit_card           1262\n",
      "home_improvement       629\n",
      "small_business         619\n",
      "major_purchase         437\n",
      "educational            343\n",
      "Name: count, dtype: int64 \n",
      "\n"
     ]
    }
   ],
   "source": [
    "for col in catCol:\n",
    "    print(col, '\\n', df[col].value_counts(), '\\n')"
   ]
  },
  {
   "cell_type": "markdown",
   "id": "caa58caf",
   "metadata": {},
   "source": [
    "Missing values"
   ]
  },
  {
   "cell_type": "code",
   "execution_count": 8,
   "id": "9e22e1bf",
   "metadata": {},
   "outputs": [
    {
     "data": {
      "text/plain": [
       "credit         0\n",
       "purpose        0\n",
       "rate           0\n",
       "installment    0\n",
       "inc            0\n",
       "dti            0\n",
       "fico           0\n",
       "cr             0\n",
       "bal            0\n",
       "util           0\n",
       "inq            0\n",
       "delinq         0\n",
       "rec            0\n",
       "paid           0\n",
       "dtype: int64"
      ]
     },
     "execution_count": 8,
     "metadata": {},
     "output_type": "execute_result"
    }
   ],
   "source": [
    "df.isnull().sum()"
   ]
  },
  {
   "cell_type": "markdown",
   "id": "3fa9da45",
   "metadata": {},
   "source": [
    "Explore numerical values"
   ]
  },
  {
   "cell_type": "code",
   "execution_count": 9,
   "id": "2f7a85f2",
   "metadata": {},
   "outputs": [
    {
     "name": "stdout",
     "output_type": "stream",
     "text": [
      "credit \n",
      " credit\n",
      "1    7710\n",
      "0    1868\n",
      "Name: count, dtype: int64 \n",
      "\n",
      "rate \n",
      " rate\n",
      "0.1253    354\n",
      "0.0894    299\n",
      "0.1183    243\n",
      "0.1218    215\n",
      "0.0963    210\n",
      "         ... \n",
      "0.2016      1\n",
      "0.1683      1\n",
      "0.1778      1\n",
      "0.1756      1\n",
      "0.1867      1\n",
      "Name: count, Length: 249, dtype: int64 \n",
      "\n",
      "installment \n",
      " installment\n",
      "317.72    41\n",
      "316.11    34\n",
      "319.47    29\n",
      "381.26    27\n",
      "662.68    27\n",
      "          ..\n",
      "97.53      1\n",
      "76.26      1\n",
      "150.84     1\n",
      "158.99     1\n",
      "853.43     1\n",
      "Name: count, Length: 4788, dtype: int64 \n",
      "\n",
      "inc \n",
      " inc\n",
      "11.002100    308\n",
      "10.819778    248\n",
      "10.308953    224\n",
      "10.596635    224\n",
      "10.714418    221\n",
      "            ... \n",
      "11.217534      1\n",
      "12.078239      1\n",
      "10.068451      1\n",
      "9.621788       1\n",
      "10.110472      1\n",
      "Name: count, Length: 1987, dtype: int64 \n",
      "\n",
      "dti \n",
      " dti\n",
      "0.00     89\n",
      "10.00    19\n",
      "0.60     16\n",
      "15.10    13\n",
      "12.00    13\n",
      "         ..\n",
      "5.90      1\n",
      "19.74     1\n",
      "29.15     1\n",
      "1.09      1\n",
      "24.05     1\n",
      "Name: count, Length: 2529, dtype: int64 \n",
      "\n",
      "fico \n",
      " fico\n",
      "687    548\n",
      "682    536\n",
      "692    498\n",
      "697    476\n",
      "702    472\n",
      "707    444\n",
      "667    438\n",
      "677    427\n",
      "717    424\n",
      "662    414\n",
      "712    395\n",
      "672    395\n",
      "722    388\n",
      "727    361\n",
      "732    330\n",
      "742    324\n",
      "737    313\n",
      "752    258\n",
      "747    236\n",
      "757    231\n",
      "762    220\n",
      "772    158\n",
      "767    142\n",
      "777    140\n",
      "652    131\n",
      "657    127\n",
      "782    118\n",
      "647    112\n",
      "642    102\n",
      "792     97\n",
      "787     85\n",
      "797     76\n",
      "802     55\n",
      "807     45\n",
      "812     33\n",
      "632      6\n",
      "817      6\n",
      "822      5\n",
      "637      5\n",
      "627      2\n",
      "612      2\n",
      "827      1\n",
      "617      1\n",
      "622      1\n",
      "Name: count, dtype: int64 \n",
      "\n",
      "cr \n",
      " cr\n",
      "3660.000000     50\n",
      "3630.000000     48\n",
      "3990.000000     46\n",
      "4410.000000     44\n",
      "3600.000000     41\n",
      "                ..\n",
      "9395.000000      1\n",
      "5613.958333      1\n",
      "2884.000000      1\n",
      "1728.000000      1\n",
      "10474.000000     1\n",
      "Name: count, Length: 2687, dtype: int64 \n",
      "\n",
      "bal \n",
      " bal\n",
      "0        321\n",
      "298       10\n",
      "255       10\n",
      "682        9\n",
      "346        8\n",
      "        ... \n",
      "24876      1\n",
      "14588      1\n",
      "9866       1\n",
      "13450      1\n",
      "37879      1\n",
      "Name: count, Length: 7869, dtype: int64 \n",
      "\n",
      "util \n",
      " util\n",
      "0.00     297\n",
      "0.50      26\n",
      "47.80     22\n",
      "0.30      22\n",
      "73.70     22\n",
      "        ... \n",
      "49.63      1\n",
      "0.04       1\n",
      "91.40      1\n",
      "7.28       1\n",
      "69.14      1\n",
      "Name: count, Length: 1035, dtype: int64 \n",
      "\n",
      "inq \n",
      " inq\n",
      "0     3637\n",
      "1     2462\n",
      "2     1384\n",
      "3      864\n",
      "4      475\n",
      "5      278\n",
      "6      165\n",
      "7      100\n",
      "8       72\n",
      "9       47\n",
      "10      23\n",
      "11      15\n",
      "12      15\n",
      "15       9\n",
      "13       6\n",
      "14       6\n",
      "18       4\n",
      "16       3\n",
      "19       2\n",
      "24       2\n",
      "17       2\n",
      "33       1\n",
      "20       1\n",
      "27       1\n",
      "25       1\n",
      "28       1\n",
      "31       1\n",
      "32       1\n",
      "Name: count, dtype: int64 \n",
      "\n",
      "delinq \n",
      " delinq\n",
      "0     8458\n",
      "1      832\n",
      "2      192\n",
      "3       65\n",
      "4       19\n",
      "5        6\n",
      "6        2\n",
      "13       1\n",
      "7        1\n",
      "8        1\n",
      "11       1\n",
      "Name: count, dtype: int64 \n",
      "\n",
      "rec \n",
      " rec\n",
      "0    9019\n",
      "1     533\n",
      "2      19\n",
      "3       5\n",
      "4       1\n",
      "5       1\n",
      "Name: count, dtype: int64 \n",
      "\n",
      "paid \n",
      " paid\n",
      "0    8045\n",
      "1    1533\n",
      "Name: count, dtype: int64 \n",
      "\n"
     ]
    }
   ],
   "source": [
    "for col in numCol:\n",
    "    print(col, '\\n', df[col].value_counts(), '\\n')"
   ]
  },
  {
   "cell_type": "code",
   "execution_count": 10,
   "id": "e50a8f74",
   "metadata": {},
   "outputs": [
    {
     "name": "stdout",
     "output_type": "stream",
     "text": [
      "credit = 0\n",
      "rate = 0\n",
      "installment = 0\n",
      "inc = 0\n",
      "dti = 0\n",
      "fico = 0\n",
      "cr = 0\n",
      "bal = 0\n",
      "util = 0\n",
      "inq = 0\n",
      "delinq = 0\n",
      "rec = 0\n",
      "paid = 0\n"
     ]
    }
   ],
   "source": [
    "for col in numCol:\n",
    "    print(col, '=', df[col].isnull().sum())"
   ]
  },
  {
   "cell_type": "markdown",
   "id": "c99e4dd2",
   "metadata": {},
   "source": [
    "### 4. Declare feature vector and target variable "
   ]
  },
  {
   "cell_type": "code",
   "execution_count": 11,
   "id": "c864b741",
   "metadata": {},
   "outputs": [
    {
     "name": "stdout",
     "output_type": "stream",
     "text": [
      "      credit             purpose    rate  installment        inc    dti  fico  \\\n",
      "0          1  debt_consolidation  0.1189       829.10  11.350407  19.48   737   \n",
      "1          1         credit_card  0.1071       228.22  11.082143  14.29   707   \n",
      "2          1  debt_consolidation  0.1357       366.86  10.373491  11.63   682   \n",
      "3          1  debt_consolidation  0.1008       162.34  11.350407   8.10   712   \n",
      "4          1         credit_card  0.1426       102.92  11.299732  14.97   667   \n",
      "...      ...                 ...     ...          ...        ...    ...   ...   \n",
      "9573       0           all_other  0.1461       344.76  12.180755  10.39   672   \n",
      "9574       0           all_other  0.1253       257.70  11.141862   0.21   722   \n",
      "9575       0  debt_consolidation  0.1071        97.81  10.596635  13.09   687   \n",
      "9576       0    home_improvement  0.1600       351.58  10.819778  19.18   692   \n",
      "9577       0  debt_consolidation  0.1392       853.43  11.264464  16.28   732   \n",
      "\n",
      "                cr     bal  util  inq  delinq  rec  \n",
      "0      5639.958333   28854  52.1    0       0    0  \n",
      "1      2760.000000   33623  76.7    0       0    0  \n",
      "2      4710.000000    3511  25.6    1       0    0  \n",
      "3      2699.958333   33667  73.2    1       0    0  \n",
      "4      4066.000000    4740  39.5    0       1    0  \n",
      "...            ...     ...   ...  ...     ...  ...  \n",
      "9573  10474.000000  215372  82.1    2       0    0  \n",
      "9574   4380.000000     184   1.1    5       0    0  \n",
      "9575   3450.041667   10036  82.9    8       0    0  \n",
      "9576   1800.000000       0   3.2    5       0    0  \n",
      "9577   4740.000000   37879  57.0    6       0    0  \n",
      "\n",
      "[9578 rows x 13 columns]\n",
      "0       0\n",
      "1       0\n",
      "2       0\n",
      "3       0\n",
      "4       0\n",
      "       ..\n",
      "9573    1\n",
      "9574    1\n",
      "9575    1\n",
      "9576    1\n",
      "9577    1\n",
      "Name: paid, Length: 9578, dtype: int64\n"
     ]
    }
   ],
   "source": [
    "x = df.drop('paid', axis=1)\n",
    "y = df['paid']\n",
    "print(x)\n",
    "print(y)"
   ]
  },
  {
   "cell_type": "markdown",
   "id": "4fa11d1c",
   "metadata": {},
   "source": [
    "### 5. Split data into separate training and test set"
   ]
  },
  {
   "cell_type": "code",
   "execution_count": 12,
   "id": "b238ae58",
   "metadata": {},
   "outputs": [],
   "source": [
    "x_train, x_test, y_train, y_test = train_test_split(x, y, test_size=0.3, random_state=42)"
   ]
  },
  {
   "cell_type": "markdown",
   "id": "3be623b4",
   "metadata": {},
   "source": [
    "### 6. print the percentage of missing values in the categorical variables in the training set"
   ]
  },
  {
   "cell_type": "code",
   "execution_count": 13,
   "id": "1c8c885e",
   "metadata": {},
   "outputs": [
    {
     "name": "stdout",
     "output_type": "stream",
     "text": [
      "purpose = 0.0\n"
     ]
    }
   ],
   "source": [
    "for col in catCol:\n",
    "    print(col, '=', x_train[col].isnull().sum() * 100 / x_train[col].count())"
   ]
  },
  {
   "cell_type": "markdown",
   "id": "194d4470",
   "metadata": {},
   "source": [
    "### 7. print categorical variables with missing data"
   ]
  },
  {
   "cell_type": "code",
   "execution_count": 14,
   "id": "38402038",
   "metadata": {},
   "outputs": [],
   "source": [
    "for col in catCol:\n",
    "    if (x[col].isnull().sum() != 0):\n",
    "        print(col, '=', x[col].isnull().sum())"
   ]
  },
  {
   "cell_type": "markdown",
   "id": "9ab1a3f5",
   "metadata": {},
   "source": [
    "### 8. impute missing categorical variables with the most frequent value"
   ]
  },
  {
   "cell_type": "code",
   "execution_count": 15,
   "id": "806a42de",
   "metadata": {},
   "outputs": [],
   "source": [
    "x_train = x_train.apply(lambda x: x.fillna(x.value_counts().index[0]))\n",
    "x_test = x_test.apply(lambda x: x.fillna(x.value_counts().index[0]))"
   ]
  },
  {
   "cell_type": "markdown",
   "id": "6ffbbb4a",
   "metadata": {},
   "source": [
    "### 9. Encode categorical variables"
   ]
  },
  {
   "cell_type": "code",
   "execution_count": 16,
   "id": "a759b20c",
   "metadata": {},
   "outputs": [],
   "source": [
    "le = LabelEncoder()\n",
    "for col in catCol:\n",
    "    x_train[col] = le.fit_transform(x_train[col])\n",
    "    x_test[col] = le.transform(x_test[col])\n",
    "y_train = le.fit_transform(y_train)\n",
    "y_test = le.fit_transform(y_test)"
   ]
  },
  {
   "cell_type": "markdown",
   "id": "a8a31f8d",
   "metadata": {},
   "source": [
    "### 10. Feature Scaling"
   ]
  },
  {
   "cell_type": "code",
   "execution_count": 17,
   "id": "575f5260",
   "metadata": {},
   "outputs": [],
   "source": [
    "scaler = MinMaxScaler()\n",
    "x_train = scaler.fit_transform(x_train)\n",
    "x_test = scaler.transform(x_test)"
   ]
  },
  {
   "cell_type": "markdown",
   "id": "ebd356b5",
   "metadata": {},
   "source": [
    "### 11. Model training"
   ]
  },
  {
   "cell_type": "code",
   "execution_count": 18,
   "id": "de01e1ca",
   "metadata": {},
   "outputs": [
    {
     "data": {
      "text/html": [
       "<style>#sk-container-id-1 {\n",
       "  /* Definition of color scheme common for light and dark mode */\n",
       "  --sklearn-color-text: black;\n",
       "  --sklearn-color-line: gray;\n",
       "  /* Definition of color scheme for unfitted estimators */\n",
       "  --sklearn-color-unfitted-level-0: #fff5e6;\n",
       "  --sklearn-color-unfitted-level-1: #f6e4d2;\n",
       "  --sklearn-color-unfitted-level-2: #ffe0b3;\n",
       "  --sklearn-color-unfitted-level-3: chocolate;\n",
       "  /* Definition of color scheme for fitted estimators */\n",
       "  --sklearn-color-fitted-level-0: #f0f8ff;\n",
       "  --sklearn-color-fitted-level-1: #d4ebff;\n",
       "  --sklearn-color-fitted-level-2: #b3dbfd;\n",
       "  --sklearn-color-fitted-level-3: cornflowerblue;\n",
       "\n",
       "  /* Specific color for light theme */\n",
       "  --sklearn-color-text-on-default-background: var(--sg-text-color, var(--theme-code-foreground, var(--jp-content-font-color1, black)));\n",
       "  --sklearn-color-background: var(--sg-background-color, var(--theme-background, var(--jp-layout-color0, white)));\n",
       "  --sklearn-color-border-box: var(--sg-text-color, var(--theme-code-foreground, var(--jp-content-font-color1, black)));\n",
       "  --sklearn-color-icon: #696969;\n",
       "\n",
       "  @media (prefers-color-scheme: dark) {\n",
       "    /* Redefinition of color scheme for dark theme */\n",
       "    --sklearn-color-text-on-default-background: var(--sg-text-color, var(--theme-code-foreground, var(--jp-content-font-color1, white)));\n",
       "    --sklearn-color-background: var(--sg-background-color, var(--theme-background, var(--jp-layout-color0, #111)));\n",
       "    --sklearn-color-border-box: var(--sg-text-color, var(--theme-code-foreground, var(--jp-content-font-color1, white)));\n",
       "    --sklearn-color-icon: #878787;\n",
       "  }\n",
       "}\n",
       "\n",
       "#sk-container-id-1 {\n",
       "  color: var(--sklearn-color-text);\n",
       "}\n",
       "\n",
       "#sk-container-id-1 pre {\n",
       "  padding: 0;\n",
       "}\n",
       "\n",
       "#sk-container-id-1 input.sk-hidden--visually {\n",
       "  border: 0;\n",
       "  clip: rect(1px 1px 1px 1px);\n",
       "  clip: rect(1px, 1px, 1px, 1px);\n",
       "  height: 1px;\n",
       "  margin: -1px;\n",
       "  overflow: hidden;\n",
       "  padding: 0;\n",
       "  position: absolute;\n",
       "  width: 1px;\n",
       "}\n",
       "\n",
       "#sk-container-id-1 div.sk-dashed-wrapped {\n",
       "  border: 1px dashed var(--sklearn-color-line);\n",
       "  margin: 0 0.4em 0.5em 0.4em;\n",
       "  box-sizing: border-box;\n",
       "  padding-bottom: 0.4em;\n",
       "  background-color: var(--sklearn-color-background);\n",
       "}\n",
       "\n",
       "#sk-container-id-1 div.sk-container {\n",
       "  /* jupyter's `normalize.less` sets `[hidden] { display: none; }`\n",
       "     but bootstrap.min.css set `[hidden] { display: none !important; }`\n",
       "     so we also need the `!important` here to be able to override the\n",
       "     default hidden behavior on the sphinx rendered scikit-learn.org.\n",
       "     See: https://github.com/scikit-learn/scikit-learn/issues/21755 */\n",
       "  display: inline-block !important;\n",
       "  position: relative;\n",
       "}\n",
       "\n",
       "#sk-container-id-1 div.sk-text-repr-fallback {\n",
       "  display: none;\n",
       "}\n",
       "\n",
       "div.sk-parallel-item,\n",
       "div.sk-serial,\n",
       "div.sk-item {\n",
       "  /* draw centered vertical line to link estimators */\n",
       "  background-image: linear-gradient(var(--sklearn-color-text-on-default-background), var(--sklearn-color-text-on-default-background));\n",
       "  background-size: 2px 100%;\n",
       "  background-repeat: no-repeat;\n",
       "  background-position: center center;\n",
       "}\n",
       "\n",
       "/* Parallel-specific style estimator block */\n",
       "\n",
       "#sk-container-id-1 div.sk-parallel-item::after {\n",
       "  content: \"\";\n",
       "  width: 100%;\n",
       "  border-bottom: 2px solid var(--sklearn-color-text-on-default-background);\n",
       "  flex-grow: 1;\n",
       "}\n",
       "\n",
       "#sk-container-id-1 div.sk-parallel {\n",
       "  display: flex;\n",
       "  align-items: stretch;\n",
       "  justify-content: center;\n",
       "  background-color: var(--sklearn-color-background);\n",
       "  position: relative;\n",
       "}\n",
       "\n",
       "#sk-container-id-1 div.sk-parallel-item {\n",
       "  display: flex;\n",
       "  flex-direction: column;\n",
       "}\n",
       "\n",
       "#sk-container-id-1 div.sk-parallel-item:first-child::after {\n",
       "  align-self: flex-end;\n",
       "  width: 50%;\n",
       "}\n",
       "\n",
       "#sk-container-id-1 div.sk-parallel-item:last-child::after {\n",
       "  align-self: flex-start;\n",
       "  width: 50%;\n",
       "}\n",
       "\n",
       "#sk-container-id-1 div.sk-parallel-item:only-child::after {\n",
       "  width: 0;\n",
       "}\n",
       "\n",
       "/* Serial-specific style estimator block */\n",
       "\n",
       "#sk-container-id-1 div.sk-serial {\n",
       "  display: flex;\n",
       "  flex-direction: column;\n",
       "  align-items: center;\n",
       "  background-color: var(--sklearn-color-background);\n",
       "  padding-right: 1em;\n",
       "  padding-left: 1em;\n",
       "}\n",
       "\n",
       "\n",
       "/* Toggleable style: style used for estimator/Pipeline/ColumnTransformer box that is\n",
       "clickable and can be expanded/collapsed.\n",
       "- Pipeline and ColumnTransformer use this feature and define the default style\n",
       "- Estimators will overwrite some part of the style using the `sk-estimator` class\n",
       "*/\n",
       "\n",
       "/* Pipeline and ColumnTransformer style (default) */\n",
       "\n",
       "#sk-container-id-1 div.sk-toggleable {\n",
       "  /* Default theme specific background. It is overwritten whether we have a\n",
       "  specific estimator or a Pipeline/ColumnTransformer */\n",
       "  background-color: var(--sklearn-color-background);\n",
       "}\n",
       "\n",
       "/* Toggleable label */\n",
       "#sk-container-id-1 label.sk-toggleable__label {\n",
       "  cursor: pointer;\n",
       "  display: block;\n",
       "  width: 100%;\n",
       "  margin-bottom: 0;\n",
       "  padding: 0.5em;\n",
       "  box-sizing: border-box;\n",
       "  text-align: center;\n",
       "}\n",
       "\n",
       "#sk-container-id-1 label.sk-toggleable__label-arrow:before {\n",
       "  /* Arrow on the left of the label */\n",
       "  content: \"▸\";\n",
       "  float: left;\n",
       "  margin-right: 0.25em;\n",
       "  color: var(--sklearn-color-icon);\n",
       "}\n",
       "\n",
       "#sk-container-id-1 label.sk-toggleable__label-arrow:hover:before {\n",
       "  color: var(--sklearn-color-text);\n",
       "}\n",
       "\n",
       "/* Toggleable content - dropdown */\n",
       "\n",
       "#sk-container-id-1 div.sk-toggleable__content {\n",
       "  max-height: 0;\n",
       "  max-width: 0;\n",
       "  overflow: hidden;\n",
       "  text-align: left;\n",
       "  /* unfitted */\n",
       "  background-color: var(--sklearn-color-unfitted-level-0);\n",
       "}\n",
       "\n",
       "#sk-container-id-1 div.sk-toggleable__content.fitted {\n",
       "  /* fitted */\n",
       "  background-color: var(--sklearn-color-fitted-level-0);\n",
       "}\n",
       "\n",
       "#sk-container-id-1 div.sk-toggleable__content pre {\n",
       "  margin: 0.2em;\n",
       "  border-radius: 0.25em;\n",
       "  color: var(--sklearn-color-text);\n",
       "  /* unfitted */\n",
       "  background-color: var(--sklearn-color-unfitted-level-0);\n",
       "}\n",
       "\n",
       "#sk-container-id-1 div.sk-toggleable__content.fitted pre {\n",
       "  /* unfitted */\n",
       "  background-color: var(--sklearn-color-fitted-level-0);\n",
       "}\n",
       "\n",
       "#sk-container-id-1 input.sk-toggleable__control:checked~div.sk-toggleable__content {\n",
       "  /* Expand drop-down */\n",
       "  max-height: 200px;\n",
       "  max-width: 100%;\n",
       "  overflow: auto;\n",
       "}\n",
       "\n",
       "#sk-container-id-1 input.sk-toggleable__control:checked~label.sk-toggleable__label-arrow:before {\n",
       "  content: \"▾\";\n",
       "}\n",
       "\n",
       "/* Pipeline/ColumnTransformer-specific style */\n",
       "\n",
       "#sk-container-id-1 div.sk-label input.sk-toggleable__control:checked~label.sk-toggleable__label {\n",
       "  color: var(--sklearn-color-text);\n",
       "  background-color: var(--sklearn-color-unfitted-level-2);\n",
       "}\n",
       "\n",
       "#sk-container-id-1 div.sk-label.fitted input.sk-toggleable__control:checked~label.sk-toggleable__label {\n",
       "  background-color: var(--sklearn-color-fitted-level-2);\n",
       "}\n",
       "\n",
       "/* Estimator-specific style */\n",
       "\n",
       "/* Colorize estimator box */\n",
       "#sk-container-id-1 div.sk-estimator input.sk-toggleable__control:checked~label.sk-toggleable__label {\n",
       "  /* unfitted */\n",
       "  background-color: var(--sklearn-color-unfitted-level-2);\n",
       "}\n",
       "\n",
       "#sk-container-id-1 div.sk-estimator.fitted input.sk-toggleable__control:checked~label.sk-toggleable__label {\n",
       "  /* fitted */\n",
       "  background-color: var(--sklearn-color-fitted-level-2);\n",
       "}\n",
       "\n",
       "#sk-container-id-1 div.sk-label label.sk-toggleable__label,\n",
       "#sk-container-id-1 div.sk-label label {\n",
       "  /* The background is the default theme color */\n",
       "  color: var(--sklearn-color-text-on-default-background);\n",
       "}\n",
       "\n",
       "/* On hover, darken the color of the background */\n",
       "#sk-container-id-1 div.sk-label:hover label.sk-toggleable__label {\n",
       "  color: var(--sklearn-color-text);\n",
       "  background-color: var(--sklearn-color-unfitted-level-2);\n",
       "}\n",
       "\n",
       "/* Label box, darken color on hover, fitted */\n",
       "#sk-container-id-1 div.sk-label.fitted:hover label.sk-toggleable__label.fitted {\n",
       "  color: var(--sklearn-color-text);\n",
       "  background-color: var(--sklearn-color-fitted-level-2);\n",
       "}\n",
       "\n",
       "/* Estimator label */\n",
       "\n",
       "#sk-container-id-1 div.sk-label label {\n",
       "  font-family: monospace;\n",
       "  font-weight: bold;\n",
       "  display: inline-block;\n",
       "  line-height: 1.2em;\n",
       "}\n",
       "\n",
       "#sk-container-id-1 div.sk-label-container {\n",
       "  text-align: center;\n",
       "}\n",
       "\n",
       "/* Estimator-specific */\n",
       "#sk-container-id-1 div.sk-estimator {\n",
       "  font-family: monospace;\n",
       "  border: 1px dotted var(--sklearn-color-border-box);\n",
       "  border-radius: 0.25em;\n",
       "  box-sizing: border-box;\n",
       "  margin-bottom: 0.5em;\n",
       "  /* unfitted */\n",
       "  background-color: var(--sklearn-color-unfitted-level-0);\n",
       "}\n",
       "\n",
       "#sk-container-id-1 div.sk-estimator.fitted {\n",
       "  /* fitted */\n",
       "  background-color: var(--sklearn-color-fitted-level-0);\n",
       "}\n",
       "\n",
       "/* on hover */\n",
       "#sk-container-id-1 div.sk-estimator:hover {\n",
       "  /* unfitted */\n",
       "  background-color: var(--sklearn-color-unfitted-level-2);\n",
       "}\n",
       "\n",
       "#sk-container-id-1 div.sk-estimator.fitted:hover {\n",
       "  /* fitted */\n",
       "  background-color: var(--sklearn-color-fitted-level-2);\n",
       "}\n",
       "\n",
       "/* Specification for estimator info (e.g. \"i\" and \"?\") */\n",
       "\n",
       "/* Common style for \"i\" and \"?\" */\n",
       "\n",
       ".sk-estimator-doc-link,\n",
       "a:link.sk-estimator-doc-link,\n",
       "a:visited.sk-estimator-doc-link {\n",
       "  float: right;\n",
       "  font-size: smaller;\n",
       "  line-height: 1em;\n",
       "  font-family: monospace;\n",
       "  background-color: var(--sklearn-color-background);\n",
       "  border-radius: 1em;\n",
       "  height: 1em;\n",
       "  width: 1em;\n",
       "  text-decoration: none !important;\n",
       "  margin-left: 1ex;\n",
       "  /* unfitted */\n",
       "  border: var(--sklearn-color-unfitted-level-1) 1pt solid;\n",
       "  color: var(--sklearn-color-unfitted-level-1);\n",
       "}\n",
       "\n",
       ".sk-estimator-doc-link.fitted,\n",
       "a:link.sk-estimator-doc-link.fitted,\n",
       "a:visited.sk-estimator-doc-link.fitted {\n",
       "  /* fitted */\n",
       "  border: var(--sklearn-color-fitted-level-1) 1pt solid;\n",
       "  color: var(--sklearn-color-fitted-level-1);\n",
       "}\n",
       "\n",
       "/* On hover */\n",
       "div.sk-estimator:hover .sk-estimator-doc-link:hover,\n",
       ".sk-estimator-doc-link:hover,\n",
       "div.sk-label-container:hover .sk-estimator-doc-link:hover,\n",
       ".sk-estimator-doc-link:hover {\n",
       "  /* unfitted */\n",
       "  background-color: var(--sklearn-color-unfitted-level-3);\n",
       "  color: var(--sklearn-color-background);\n",
       "  text-decoration: none;\n",
       "}\n",
       "\n",
       "div.sk-estimator.fitted:hover .sk-estimator-doc-link.fitted:hover,\n",
       ".sk-estimator-doc-link.fitted:hover,\n",
       "div.sk-label-container:hover .sk-estimator-doc-link.fitted:hover,\n",
       ".sk-estimator-doc-link.fitted:hover {\n",
       "  /* fitted */\n",
       "  background-color: var(--sklearn-color-fitted-level-3);\n",
       "  color: var(--sklearn-color-background);\n",
       "  text-decoration: none;\n",
       "}\n",
       "\n",
       "/* Span, style for the box shown on hovering the info icon */\n",
       ".sk-estimator-doc-link span {\n",
       "  display: none;\n",
       "  z-index: 9999;\n",
       "  position: relative;\n",
       "  font-weight: normal;\n",
       "  right: .2ex;\n",
       "  padding: .5ex;\n",
       "  margin: .5ex;\n",
       "  width: min-content;\n",
       "  min-width: 20ex;\n",
       "  max-width: 50ex;\n",
       "  color: var(--sklearn-color-text);\n",
       "  box-shadow: 2pt 2pt 4pt #999;\n",
       "  /* unfitted */\n",
       "  background: var(--sklearn-color-unfitted-level-0);\n",
       "  border: .5pt solid var(--sklearn-color-unfitted-level-3);\n",
       "}\n",
       "\n",
       ".sk-estimator-doc-link.fitted span {\n",
       "  /* fitted */\n",
       "  background: var(--sklearn-color-fitted-level-0);\n",
       "  border: var(--sklearn-color-fitted-level-3);\n",
       "}\n",
       "\n",
       ".sk-estimator-doc-link:hover span {\n",
       "  display: block;\n",
       "}\n",
       "\n",
       "/* \"?\"-specific style due to the `<a>` HTML tag */\n",
       "\n",
       "#sk-container-id-1 a.estimator_doc_link {\n",
       "  float: right;\n",
       "  font-size: 1rem;\n",
       "  line-height: 1em;\n",
       "  font-family: monospace;\n",
       "  background-color: var(--sklearn-color-background);\n",
       "  border-radius: 1rem;\n",
       "  height: 1rem;\n",
       "  width: 1rem;\n",
       "  text-decoration: none;\n",
       "  /* unfitted */\n",
       "  color: var(--sklearn-color-unfitted-level-1);\n",
       "  border: var(--sklearn-color-unfitted-level-1) 1pt solid;\n",
       "}\n",
       "\n",
       "#sk-container-id-1 a.estimator_doc_link.fitted {\n",
       "  /* fitted */\n",
       "  border: var(--sklearn-color-fitted-level-1) 1pt solid;\n",
       "  color: var(--sklearn-color-fitted-level-1);\n",
       "}\n",
       "\n",
       "/* On hover */\n",
       "#sk-container-id-1 a.estimator_doc_link:hover {\n",
       "  /* unfitted */\n",
       "  background-color: var(--sklearn-color-unfitted-level-3);\n",
       "  color: var(--sklearn-color-background);\n",
       "  text-decoration: none;\n",
       "}\n",
       "\n",
       "#sk-container-id-1 a.estimator_doc_link.fitted:hover {\n",
       "  /* fitted */\n",
       "  background-color: var(--sklearn-color-fitted-level-3);\n",
       "}\n",
       "</style><div id=\"sk-container-id-1\" class=\"sk-top-container\"><div class=\"sk-text-repr-fallback\"><pre>GaussianNB()</pre><b>In a Jupyter environment, please rerun this cell to show the HTML representation or trust the notebook. <br />On GitHub, the HTML representation is unable to render, please try loading this page with nbviewer.org.</b></div><div class=\"sk-container\" hidden><div class=\"sk-item\"><div class=\"sk-estimator fitted sk-toggleable\"><input class=\"sk-toggleable__control sk-hidden--visually\" id=\"sk-estimator-id-1\" type=\"checkbox\" checked><label for=\"sk-estimator-id-1\" class=\"sk-toggleable__label fitted sk-toggleable__label-arrow fitted\">&nbsp;&nbsp;GaussianNB<a class=\"sk-estimator-doc-link fitted\" rel=\"noreferrer\" target=\"_blank\" href=\"https://scikit-learn.org/1.4/modules/generated/sklearn.naive_bayes.GaussianNB.html\">?<span>Documentation for GaussianNB</span></a><span class=\"sk-estimator-doc-link fitted\">i<span>Fitted</span></span></label><div class=\"sk-toggleable__content fitted\"><pre>GaussianNB()</pre></div> </div></div></div></div>"
      ],
      "text/plain": [
       "GaussianNB()"
      ]
     },
     "execution_count": 18,
     "metadata": {},
     "output_type": "execute_result"
    }
   ],
   "source": [
    "gnb = GaussianNB()\n",
    "gnb.fit(x_train, y_train)"
   ]
  },
  {
   "cell_type": "markdown",
   "id": "3eb2f3e6",
   "metadata": {},
   "source": [
    "### 12. Predict the results"
   ]
  },
  {
   "cell_type": "code",
   "execution_count": 19,
   "id": "d74a4f1e",
   "metadata": {},
   "outputs": [
    {
     "name": "stdout",
     "output_type": "stream",
     "text": [
      "[1 0 0 ... 0 0 0]\n"
     ]
    }
   ],
   "source": [
    "y_pred_train = gnb.predict(x_train)\n",
    "y_pred_test = gnb.predict(x_test)\n",
    "print(y_pred_test)"
   ]
  },
  {
   "cell_type": "markdown",
   "id": "0bc7380b",
   "metadata": {},
   "source": [
    "### 13. Check the accuracy score"
   ]
  },
  {
   "cell_type": "code",
   "execution_count": 20,
   "id": "04a19b6b",
   "metadata": {},
   "outputs": [
    {
     "name": "stdout",
     "output_type": "stream",
     "text": [
      "0.7922755741127349\n"
     ]
    }
   ],
   "source": [
    "acc_test = accuracy_score(y_test, y_pred_test)\n",
    "print(acc_test)"
   ]
  },
  {
   "cell_type": "markdown",
   "id": "925cdd2f",
   "metadata": {},
   "source": [
    "### 14. Compare the train-set and test-set accuracy"
   ]
  },
  {
   "cell_type": "code",
   "execution_count": 21,
   "id": "b47434cd",
   "metadata": {},
   "outputs": [
    {
     "name": "stdout",
     "output_type": "stream",
     "text": [
      "Train Accuracy = 0.7896778042959427\n",
      "Test Accuracy = 0.7922755741127349\n"
     ]
    }
   ],
   "source": [
    "acc_train = accuracy_score(y_train, y_pred_train)\n",
    "print(\"Train Accuracy =\", acc_train)\n",
    "print(\"Test Accuracy =\", acc_test)"
   ]
  },
  {
   "cell_type": "markdown",
   "id": "ff5ad588",
   "metadata": {},
   "source": [
    "### 15. Visualize confusion matrix with seaborn heatmap"
   ]
  },
  {
   "cell_type": "code",
   "execution_count": 22,
   "id": "12dac36a",
   "metadata": {},
   "outputs": [
    {
     "data": {
      "text/plain": [
       "<Axes: >"
      ]
     },
     "execution_count": 22,
     "metadata": {},
     "output_type": "execute_result"
    },
    {
     "data": {
      "image/png": "[encoded data removed]",
      "text/plain": [
       "<Figure size 640x480 with 2 Axes>"
      ]
     },
     "metadata": {},
     "output_type": "display_data"
    }
   ],
   "source": [
    "sns.heatmap(confusion_matrix(y_test, y_pred_test), annot=True)"
   ]
  },
  {
   "cell_type": "markdown",
   "id": "3dbecadc",
   "metadata": {},
   "source": [
    "### 16. Generate Classification Report"
   ]
  },
  {
   "cell_type": "code",
   "execution_count": 23,
   "id": "6340e743",
   "metadata": {},
   "outputs": [
    {
     "name": "stdout",
     "output_type": "stream",
     "text": [
      "              precision    recall  f1-score   support\n",
      "\n",
      "           0       0.86      0.90      0.88      2408\n",
      "           1       0.32      0.25      0.28       466\n",
      "\n",
      "    accuracy                           0.79      2874\n",
      "   macro avg       0.59      0.57      0.58      2874\n",
      "weighted avg       0.77      0.79      0.78      2874\n",
      "\n"
     ]
    }
   ],
   "source": [
    "print(classification_report(y_test, y_pred_test))"
   ]
  },
  {
   "cell_type": "markdown",
   "id": "c6aca600",
   "metadata": {},
   "source": [
    "### 17. Evaluate Classification accuracy"
   ]
  },
  {
   "cell_type": "code",
   "execution_count": 24,
   "id": "5b31817e",
   "metadata": {},
   "outputs": [
    {
     "name": "stdout",
     "output_type": "stream",
     "text": [
      "Classification accuracy = 0.7922755741127349\n"
     ]
    }
   ],
   "source": [
    "print(\"Classification accuracy =\", acc_test)"
   ]
  },
  {
   "cell_type": "markdown",
   "id": "db7b774e",
   "metadata": {},
   "source": [
    "### 18. Evaluate Classification error"
   ]
  },
  {
   "cell_type": "code",
   "execution_count": 25,
   "id": "4bc19283",
   "metadata": {},
   "outputs": [
    {
     "name": "stdout",
     "output_type": "stream",
     "text": [
      "Classification error = 0.20772442588726514\n"
     ]
    }
   ],
   "source": [
    "print(\"Classification error =\", 1 - acc_test)"
   ]
  },
  {
   "cell_type": "markdown",
   "id": "e4b5470f",
   "metadata": {},
   "source": [
    "### 19. Calculate class probabilities and store the probabilities in data frame with appropriate heading"
   ]
  },
  {
   "cell_type": "code",
   "execution_count": 26,
   "id": "50da49a5",
   "metadata": {},
   "outputs": [
    {
     "name": "stdout",
     "output_type": "stream",
     "text": [
      "             0         1\n",
      "0     0.468372  0.531628\n",
      "1     0.958065  0.041935\n",
      "2     0.939285  0.060715\n",
      "3     0.492612  0.507388\n",
      "4     0.977624  0.022376\n",
      "...        ...       ...\n",
      "2869  0.549830  0.450170\n",
      "2870  0.957853  0.042147\n",
      "2871  0.809260  0.190740\n",
      "2872  0.814337  0.185663\n",
      "2873  0.970897  0.029103\n",
      "\n",
      "[2874 rows x 2 columns]\n"
     ]
    }
   ],
   "source": [
    "class_prob = gnb.predict_proba(x_test)\n",
    "class_prob_df = pd.DataFrame(class_prob, columns=gnb.classes_)\n",
    "print(class_prob_df)"
   ]
  },
  {
   "cell_type": "markdown",
   "id": "374dc76c",
   "metadata": {},
   "source": [
    "### 20. Plot histogram of predicted probabilities"
   ]
  },
  {
   "cell_type": "code",
   "execution_count": 27,
   "id": "e9042930",
   "metadata": {},
   "outputs": [
    {
     "data": {
      "image/png": "[encoded data removed]",
      "text/plain": [
       "<Figure size 1500x500 with 2 Axes>"
      ]
     },
     "metadata": {},
     "output_type": "display_data"
    }
   ],
   "source": [
    "class_prob_df.hist(figsize=(15,5))\n",
    "plt.show()"
   ]
  },
  {
   "cell_type": "markdown",
   "id": "d9690a9d",
   "metadata": {},
   "source": [
    "### 21. Plot ROC Curve"
   ]
  },
  {
   "cell_type": "code",
   "execution_count": 28,
   "id": "4d73caf8",
   "metadata": {},
   "outputs": [
    {
     "data": {
      "image/png": "[encoded data removed]",
      "text/plain": [
       "<Figure size 640x480 with 1 Axes>"
      ]
     },
     "metadata": {},
     "output_type": "display_data"
    }
   ],
   "source": [
    "gnb_disp = RocCurveDisplay.from_estimator(gnb, x_test, y_test)"
   ]
  },
  {
   "cell_type": "markdown",
   "id": "bc72f997",
   "metadata": {},
   "source": [
    "### 22. Compute ROC AUC"
   ]
  },
  {
   "cell_type": "code",
   "execution_count": 29,
   "id": "0669b1f0",
   "metadata": {},
   "outputs": [
    {
     "data": {
      "text/plain": [
       "0.6660817660730327"
      ]
     },
     "execution_count": 29,
     "metadata": {},
     "output_type": "execute_result"
    }
   ],
   "source": [
    "roc_auc_score(y_test, class_prob[:, 1])"
   ]
  },
  {
   "cell_type": "markdown",
   "id": "0a8789b6",
   "metadata": {},
   "source": [
    "### 23. Calculate cross-validated ROC AUC"
   ]
  },
  {
   "cell_type": "code",
   "execution_count": 30,
   "id": "4847cc1f",
   "metadata": {},
   "outputs": [],
   "source": [
    "x_test_df = pd.DataFrame(x_test)\n",
    "x_train_df = pd.DataFrame(x_train)\n",
    "y_test_df = pd.Series(y_test)\n",
    "y_train_df = pd.Series(y_train)\n",
    "\n",
    "x = pd.concat([x_test_df, x_train_df])\n",
    "y = pd.concat([y_test_df, y_train_df])"
   ]
  },
  {
   "cell_type": "code",
   "execution_count": 31,
   "id": "e0d6ad8d",
   "metadata": {},
   "outputs": [
    {
     "name": "stdout",
     "output_type": "stream",
     "text": [
      "[0.68295297 0.64488838 0.66982345 0.6593904  0.64608188]\n"
     ]
    }
   ],
   "source": [
    "cross_val_scores = cross_val_score(gnb, x, y, cv=5, scoring='roc_auc')\n",
    "print(cross_val_scores)"
   ]
  },
  {
   "cell_type": "markdown",
   "id": "6a44c2c4",
   "metadata": {},
   "source": [
    "### 24. Applying 10-Fold Cross Validation"
   ]
  },
  {
   "cell_type": "code",
   "execution_count": 32,
   "id": "08d53c81",
   "metadata": {},
   "outputs": [
    {
     "name": "stdout",
     "output_type": "stream",
     "text": [
      "[0.63623188 0.64846344 0.70064548 0.69661024 0.68769537 0.62613879\n",
      " 0.6826016  0.64209795 0.64218125 0.66564238]\n"
     ]
    }
   ],
   "source": [
    "cv = StratifiedKFold(n_splits=10, shuffle=True, random_state=42)\n",
    "\n",
    "cross_val_scores = cross_val_score(gnb, x, y, cv=cv, scoring='roc_auc')\n",
    "print(cross_val_scores)"
   ]
  },
  {
   "cell_type": "markdown",
   "id": "0a0f3602",
   "metadata": {},
   "source": [
    "### 25. Compute the Average cross-validation score"
   ]
  },
  {
   "cell_type": "code",
   "execution_count": 33,
   "id": "91b2fc18",
   "metadata": {},
   "outputs": [
    {
     "data": {
      "text/plain": [
       "0.662830837701529"
      ]
     },
     "execution_count": 33,
     "metadata": {},
     "output_type": "execute_result"
    }
   ],
   "source": [
    "cross_val_scores.mean()"
   ]
  }
 ],
 "metadata": {
  "kernelspec": {
   "display_name": "Python 3 (ipykernel)",
   "language": "python",
   "name": "python3"
  },
  "language_info": {
   "codemirror_mode": {
    "name": "ipython",
    "version": 3
   },
   "file_extension": ".py",
   "mimetype": "text/x-python",
   "name": "python",
   "nbconvert_exporter": "python",
   "pygments_lexer": "ipython3",
   "version": "3.11.5"
  }
 },
 "nbformat": 4,
 "nbformat_minor": 5
}

{
 "cells": [
  {
   "cell_type": "code",
   "execution_count": 1,
   "id": "00c8ed43",
   "metadata": {},
   "outputs": [
    {
     "name": "stderr",
     "output_type": "stream",
     "text": [
      "C:\\ProgramData\\Anaconda3\\lib\\site-packages\\scipy\\__init__.py:155: UserWarning: A NumPy version >=1.18.5 and <1.25.0 is required for this version of SciPy (detected version 1.26.4\n",
      "  warnings.warn(f\"A NumPy version >={np_minversion} and <{np_maxversion}\"\n"
     ]
    }
   ],
   "source": [
    "import pandas as pd\n",
    "from matplotlib import pyplot as plt\n",
    "import seaborn as sns\n",
    "import numpy as np\n",
    "from sklearn.model_selection import train_test_split\n",
    "from sklearn.preprocessing import StandardScaler\n",
    "from sklearn.metrics import confusion_matrix,accuracy_score,classification_report\n",
    "from sklearn.svm import SVC"
   ]
  },
  {
   "cell_type": "code",
   "execution_count": 2,
   "id": "74160803",
   "metadata": {},
   "outputs": [],
   "source": [
    "df=pd.read_csv(\"pulsar_data.csv\")"
   ]
  },
  {
   "cell_type": "code",
   "execution_count": 3,
   "id": "e89adb27",
   "metadata": {
    "scrolled": true
   },
   "outputs": [
    {
     "data": {
      "text/html": [
       "<div>\n",
       "<style scoped>\n",
       "    .dataframe tbody tr th:only-of-type {\n",
       "        vertical-align: middle;\n",
       "    }\n",
       "\n",
       "    .dataframe tbody tr th {\n",
       "        vertical-align: top;\n",
       "    }\n",
       "\n",
       "    .dataframe thead th {\n",
       "        text-align: right;\n",
       "    }\n",
       "</style>\n",
       "<table border=\"1\" class=\"dataframe\">\n",
       "  <thead>\n",
       "    <tr style=\"text-align: right;\">\n",
       "      <th></th>\n",
       "      <th>Mean of the integrated profile</th>\n",
       "      <th>Standard deviation of the integrated profile</th>\n",
       "      <th>Excess kurtosis of the integrated profile</th>\n",
       "      <th>Skewness of the integrated profile</th>\n",
       "      <th>Mean of the DM-SNR curve</th>\n",
       "      <th>Standard deviation of the DM-SNR curve</th>\n",
       "      <th>Excess kurtosis of the DM-SNR curve</th>\n",
       "      <th>Skewness of the DM-SNR curve</th>\n",
       "      <th>target_class</th>\n",
       "    </tr>\n",
       "  </thead>\n",
       "  <tbody>\n",
       "    <tr>\n",
       "      <th>0</th>\n",
       "      <td>121.156250</td>\n",
       "      <td>48.372971</td>\n",
       "      <td>0.375485</td>\n",
       "      <td>-0.013165</td>\n",
       "      <td>3.168896</td>\n",
       "      <td>18.399367</td>\n",
       "      <td>7.449874</td>\n",
       "      <td>65.159298</td>\n",
       "      <td>0.0</td>\n",
       "    </tr>\n",
       "    <tr>\n",
       "      <th>1</th>\n",
       "      <td>76.968750</td>\n",
       "      <td>36.175557</td>\n",
       "      <td>0.712898</td>\n",
       "      <td>3.388719</td>\n",
       "      <td>2.399666</td>\n",
       "      <td>17.570997</td>\n",
       "      <td>9.414652</td>\n",
       "      <td>102.722975</td>\n",
       "      <td>0.0</td>\n",
       "    </tr>\n",
       "    <tr>\n",
       "      <th>2</th>\n",
       "      <td>130.585938</td>\n",
       "      <td>53.229534</td>\n",
       "      <td>0.133408</td>\n",
       "      <td>-0.297242</td>\n",
       "      <td>2.743311</td>\n",
       "      <td>22.362553</td>\n",
       "      <td>8.508364</td>\n",
       "      <td>74.031324</td>\n",
       "      <td>0.0</td>\n",
       "    </tr>\n",
       "    <tr>\n",
       "      <th>3</th>\n",
       "      <td>156.398438</td>\n",
       "      <td>48.865942</td>\n",
       "      <td>-0.215989</td>\n",
       "      <td>-0.171294</td>\n",
       "      <td>17.471572</td>\n",
       "      <td>NaN</td>\n",
       "      <td>2.958066</td>\n",
       "      <td>7.197842</td>\n",
       "      <td>0.0</td>\n",
       "    </tr>\n",
       "    <tr>\n",
       "      <th>4</th>\n",
       "      <td>84.804688</td>\n",
       "      <td>36.117659</td>\n",
       "      <td>0.825013</td>\n",
       "      <td>3.274125</td>\n",
       "      <td>2.790134</td>\n",
       "      <td>20.618009</td>\n",
       "      <td>8.405008</td>\n",
       "      <td>76.291128</td>\n",
       "      <td>0.0</td>\n",
       "    </tr>\n",
       "  </tbody>\n",
       "</table>\n",
       "</div>"
      ],
      "text/plain": [
       "    Mean of the integrated profile  \\\n",
       "0                       121.156250   \n",
       "1                        76.968750   \n",
       "2                       130.585938   \n",
       "3                       156.398438   \n",
       "4                        84.804688   \n",
       "\n",
       "    Standard deviation of the integrated profile  \\\n",
       "0                                      48.372971   \n",
       "1                                      36.175557   \n",
       "2                                      53.229534   \n",
       "3                                      48.865942   \n",
       "4                                      36.117659   \n",
       "\n",
       "    Excess kurtosis of the integrated profile  \\\n",
       "0                                    0.375485   \n",
       "1                                    0.712898   \n",
       "2                                    0.133408   \n",
       "3                                   -0.215989   \n",
       "4                                    0.825013   \n",
       "\n",
       "    Skewness of the integrated profile   Mean of the DM-SNR curve  \\\n",
       "0                            -0.013165                   3.168896   \n",
       "1                             3.388719                   2.399666   \n",
       "2                            -0.297242                   2.743311   \n",
       "3                            -0.171294                  17.471572   \n",
       "4                             3.274125                   2.790134   \n",
       "\n",
       "    Standard deviation of the DM-SNR curve  \\\n",
       "0                                18.399367   \n",
       "1                                17.570997   \n",
       "2                                22.362553   \n",
       "3                                      NaN   \n",
       "4                                20.618009   \n",
       "\n",
       "    Excess kurtosis of the DM-SNR curve   Skewness of the DM-SNR curve  \\\n",
       "0                              7.449874                      65.159298   \n",
       "1                              9.414652                     102.722975   \n",
       "2                              8.508364                      74.031324   \n",
       "3                              2.958066                       7.197842   \n",
       "4                              8.405008                      76.291128   \n",
       "\n",
       "   target_class  \n",
       "0           0.0  \n",
       "1           0.0  \n",
       "2           0.0  \n",
       "3           0.0  \n",
       "4           0.0  "
      ]
     },
     "execution_count": 3,
     "metadata": {},
     "output_type": "execute_result"
    }
   ],
   "source": [
    "df.head()"
   ]
  },
  {
   "cell_type": "code",
   "execution_count": 4,
   "id": "35fbfd1e",
   "metadata": {
    "scrolled": true
   },
   "outputs": [
    {
     "data": {
      "text/html": [
       "<div>\n",
       "<style scoped>\n",
       "    .dataframe tbody tr th:only-of-type {\n",
       "        vertical-align: middle;\n",
       "    }\n",
       "\n",
       "    .dataframe tbody tr th {\n",
       "        vertical-align: top;\n",
       "    }\n",
       "\n",
       "    .dataframe thead th {\n",
       "        text-align: right;\n",
       "    }\n",
       "</style>\n",
       "<table border=\"1\" class=\"dataframe\">\n",
       "  <thead>\n",
       "    <tr style=\"text-align: right;\">\n",
       "      <th></th>\n",
       "      <th>Mean of the integrated profile</th>\n",
       "      <th>Standard deviation of the integrated profile</th>\n",
       "      <th>Excess kurtosis of the integrated profile</th>\n",
       "      <th>Skewness of the integrated profile</th>\n",
       "      <th>Mean of the DM-SNR curve</th>\n",
       "      <th>Standard deviation of the DM-SNR curve</th>\n",
       "      <th>Excess kurtosis of the DM-SNR curve</th>\n",
       "      <th>Skewness of the DM-SNR curve</th>\n",
       "      <th>target_class</th>\n",
       "    </tr>\n",
       "  </thead>\n",
       "  <tbody>\n",
       "    <tr>\n",
       "      <th>count</th>\n",
       "      <td>12528.000000</td>\n",
       "      <td>12528.000000</td>\n",
       "      <td>10793.000000</td>\n",
       "      <td>12528.000000</td>\n",
       "      <td>12528.000000</td>\n",
       "      <td>11350.000000</td>\n",
       "      <td>12528.000000</td>\n",
       "      <td>11903.000000</td>\n",
       "      <td>12528.000000</td>\n",
       "    </tr>\n",
       "    <tr>\n",
       "      <th>mean</th>\n",
       "      <td>111.041841</td>\n",
       "      <td>46.521437</td>\n",
       "      <td>0.478548</td>\n",
       "      <td>1.778431</td>\n",
       "      <td>12.674758</td>\n",
       "      <td>26.351318</td>\n",
       "      <td>8.333489</td>\n",
       "      <td>105.525779</td>\n",
       "      <td>0.092034</td>\n",
       "    </tr>\n",
       "    <tr>\n",
       "      <th>std</th>\n",
       "      <td>25.672828</td>\n",
       "      <td>6.801077</td>\n",
       "      <td>1.064708</td>\n",
       "      <td>6.208450</td>\n",
       "      <td>29.613230</td>\n",
       "      <td>19.610842</td>\n",
       "      <td>4.535783</td>\n",
       "      <td>107.399585</td>\n",
       "      <td>0.289085</td>\n",
       "    </tr>\n",
       "    <tr>\n",
       "      <th>min</th>\n",
       "      <td>5.812500</td>\n",
       "      <td>24.772042</td>\n",
       "      <td>-1.738021</td>\n",
       "      <td>-1.791886</td>\n",
       "      <td>0.213211</td>\n",
       "      <td>7.370432</td>\n",
       "      <td>-3.139270</td>\n",
       "      <td>-1.976976</td>\n",
       "      <td>0.000000</td>\n",
       "    </tr>\n",
       "    <tr>\n",
       "      <th>25%</th>\n",
       "      <td>100.871094</td>\n",
       "      <td>42.362222</td>\n",
       "      <td>0.024652</td>\n",
       "      <td>-0.188142</td>\n",
       "      <td>1.910535</td>\n",
       "      <td>14.404353</td>\n",
       "      <td>5.803063</td>\n",
       "      <td>35.199899</td>\n",
       "      <td>0.000000</td>\n",
       "    </tr>\n",
       "    <tr>\n",
       "      <th>50%</th>\n",
       "      <td>115.183594</td>\n",
       "      <td>46.931022</td>\n",
       "      <td>0.223678</td>\n",
       "      <td>0.203317</td>\n",
       "      <td>2.792642</td>\n",
       "      <td>18.412402</td>\n",
       "      <td>8.451097</td>\n",
       "      <td>83.126301</td>\n",
       "      <td>0.000000</td>\n",
       "    </tr>\n",
       "    <tr>\n",
       "      <th>75%</th>\n",
       "      <td>127.109375</td>\n",
       "      <td>50.979103</td>\n",
       "      <td>0.473125</td>\n",
       "      <td>0.932374</td>\n",
       "      <td>5.413253</td>\n",
       "      <td>28.337418</td>\n",
       "      <td>10.727927</td>\n",
       "      <td>139.997850</td>\n",
       "      <td>0.000000</td>\n",
       "    </tr>\n",
       "    <tr>\n",
       "      <th>max</th>\n",
       "      <td>189.734375</td>\n",
       "      <td>91.808628</td>\n",
       "      <td>8.069522</td>\n",
       "      <td>68.101622</td>\n",
       "      <td>222.421405</td>\n",
       "      <td>110.642211</td>\n",
       "      <td>34.539844</td>\n",
       "      <td>1191.000837</td>\n",
       "      <td>1.000000</td>\n",
       "    </tr>\n",
       "  </tbody>\n",
       "</table>\n",
       "</div>"
      ],
      "text/plain": [
       "        Mean of the integrated profile  \\\n",
       "count                     12528.000000   \n",
       "mean                        111.041841   \n",
       "std                          25.672828   \n",
       "min                           5.812500   \n",
       "25%                         100.871094   \n",
       "50%                         115.183594   \n",
       "75%                         127.109375   \n",
       "max                         189.734375   \n",
       "\n",
       "        Standard deviation of the integrated profile  \\\n",
       "count                                   12528.000000   \n",
       "mean                                       46.521437   \n",
       "std                                         6.801077   \n",
       "min                                        24.772042   \n",
       "25%                                        42.362222   \n",
       "50%                                        46.931022   \n",
       "75%                                        50.979103   \n",
       "max                                        91.808628   \n",
       "\n",
       "        Excess kurtosis of the integrated profile  \\\n",
       "count                                10793.000000   \n",
       "mean                                     0.478548   \n",
       "std                                      1.064708   \n",
       "min                                     -1.738021   \n",
       "25%                                      0.024652   \n",
       "50%                                      0.223678   \n",
       "75%                                      0.473125   \n",
       "max                                      8.069522   \n",
       "\n",
       "        Skewness of the integrated profile   Mean of the DM-SNR curve  \\\n",
       "count                         12528.000000               12528.000000   \n",
       "mean                              1.778431                  12.674758   \n",
       "std                               6.208450                  29.613230   \n",
       "min                              -1.791886                   0.213211   \n",
       "25%                              -0.188142                   1.910535   \n",
       "50%                               0.203317                   2.792642   \n",
       "75%                               0.932374                   5.413253   \n",
       "max                              68.101622                 222.421405   \n",
       "\n",
       "        Standard deviation of the DM-SNR curve  \\\n",
       "count                             11350.000000   \n",
       "mean                                 26.351318   \n",
       "std                                  19.610842   \n",
       "min                                   7.370432   \n",
       "25%                                  14.404353   \n",
       "50%                                  18.412402   \n",
       "75%                                  28.337418   \n",
       "max                                 110.642211   \n",
       "\n",
       "        Excess kurtosis of the DM-SNR curve   Skewness of the DM-SNR curve  \\\n",
       "count                          12528.000000                   11903.000000   \n",
       "mean                               8.333489                     105.525779   \n",
       "std                                4.535783                     107.399585   \n",
       "min                               -3.139270                      -1.976976   \n",
       "25%                                5.803063                      35.199899   \n",
       "50%                                8.451097                      83.126301   \n",
       "75%                               10.727927                     139.997850   \n",
       "max                               34.539844                    1191.000837   \n",
       "\n",
       "       target_class  \n",
       "count  12528.000000  \n",
       "mean       0.092034  \n",
       "std        0.289085  \n",
       "min        0.000000  \n",
       "25%        0.000000  \n",
       "50%        0.000000  \n",
       "75%        0.000000  \n",
       "max        1.000000  "
      ]
     },
     "execution_count": 4,
     "metadata": {},
     "output_type": "execute_result"
    }
   ],
   "source": [
    "df.describe()"
   ]
  },
  {
   "cell_type": "code",
   "execution_count": 5,
   "id": "3e37ef0f",
   "metadata": {
    "scrolled": true
   },
   "outputs": [
    {
     "name": "stdout",
     "output_type": "stream",
     "text": [
      "<class 'pandas.core.frame.DataFrame'>\n",
      "RangeIndex: 12528 entries, 0 to 12527\n",
      "Data columns (total 9 columns):\n",
      " #   Column                                         Non-Null Count  Dtype  \n",
      "---  ------                                         --------------  -----  \n",
      " 0    Mean of the integrated profile                12528 non-null  float64\n",
      " 1    Standard deviation of the integrated profile  12528 non-null  float64\n",
      " 2    Excess kurtosis of the integrated profile     10793 non-null  float64\n",
      " 3    Skewness of the integrated profile            12528 non-null  float64\n",
      " 4    Mean of the DM-SNR curve                      12528 non-null  float64\n",
      " 5    Standard deviation of the DM-SNR curve        11350 non-null  float64\n",
      " 6    Excess kurtosis of the DM-SNR curve           12528 non-null  float64\n",
      " 7    Skewness of the DM-SNR curve                  11903 non-null  float64\n",
      " 8   target_class                                   12528 non-null  float64\n",
      "dtypes: float64(9)\n",
      "memory usage: 881.0 KB\n"
     ]
    }
   ],
   "source": [
    "df.info()"
   ]
  },
  {
   "cell_type": "code",
   "execution_count": 6,
   "id": "6101c443",
   "metadata": {},
   "outputs": [],
   "source": [
    "df.columns=['mean_ip','std_dev_ip','excess_kurtosis_ip','skewness_ip','mean_dmsnr','std_dev_dmsnr','excess_kurtosis_dmsnr','skewness_dmsnr','target_class']"
   ]
  },
  {
   "cell_type": "code",
   "execution_count": 7,
   "id": "fe036255",
   "metadata": {
    "scrolled": true
   },
   "outputs": [
    {
     "data": {
      "text/html": [
       "<div>\n",
       "<style scoped>\n",
       "    .dataframe tbody tr th:only-of-type {\n",
       "        vertical-align: middle;\n",
       "    }\n",
       "\n",
       "    .dataframe tbody tr th {\n",
       "        vertical-align: top;\n",
       "    }\n",
       "\n",
       "    .dataframe thead th {\n",
       "        text-align: right;\n",
       "    }\n",
       "</style>\n",
       "<table border=\"1\" class=\"dataframe\">\n",
       "  <thead>\n",
       "    <tr style=\"text-align: right;\">\n",
       "      <th></th>\n",
       "      <th>mean_ip</th>\n",
       "      <th>std_dev_ip</th>\n",
       "      <th>excess_kurtosis_ip</th>\n",
       "      <th>skewness_ip</th>\n",
       "      <th>mean_dmsnr</th>\n",
       "      <th>std_dev_dmsnr</th>\n",
       "      <th>excess_kurtosis_dmsnr</th>\n",
       "      <th>skewness_dmsnr</th>\n",
       "      <th>target_class</th>\n",
       "    </tr>\n",
       "  </thead>\n",
       "  <tbody>\n",
       "    <tr>\n",
       "      <th>0</th>\n",
       "      <td>121.156250</td>\n",
       "      <td>48.372971</td>\n",
       "      <td>0.375485</td>\n",
       "      <td>-0.013165</td>\n",
       "      <td>3.168896</td>\n",
       "      <td>18.399367</td>\n",
       "      <td>7.449874</td>\n",
       "      <td>65.159298</td>\n",
       "      <td>0.0</td>\n",
       "    </tr>\n",
       "    <tr>\n",
       "      <th>1</th>\n",
       "      <td>76.968750</td>\n",
       "      <td>36.175557</td>\n",
       "      <td>0.712898</td>\n",
       "      <td>3.388719</td>\n",
       "      <td>2.399666</td>\n",
       "      <td>17.570997</td>\n",
       "      <td>9.414652</td>\n",
       "      <td>102.722975</td>\n",
       "      <td>0.0</td>\n",
       "    </tr>\n",
       "    <tr>\n",
       "      <th>2</th>\n",
       "      <td>130.585938</td>\n",
       "      <td>53.229534</td>\n",
       "      <td>0.133408</td>\n",
       "      <td>-0.297242</td>\n",
       "      <td>2.743311</td>\n",
       "      <td>22.362553</td>\n",
       "      <td>8.508364</td>\n",
       "      <td>74.031324</td>\n",
       "      <td>0.0</td>\n",
       "    </tr>\n",
       "    <tr>\n",
       "      <th>3</th>\n",
       "      <td>156.398438</td>\n",
       "      <td>48.865942</td>\n",
       "      <td>-0.215989</td>\n",
       "      <td>-0.171294</td>\n",
       "      <td>17.471572</td>\n",
       "      <td>NaN</td>\n",
       "      <td>2.958066</td>\n",
       "      <td>7.197842</td>\n",
       "      <td>0.0</td>\n",
       "    </tr>\n",
       "    <tr>\n",
       "      <th>4</th>\n",
       "      <td>84.804688</td>\n",
       "      <td>36.117659</td>\n",
       "      <td>0.825013</td>\n",
       "      <td>3.274125</td>\n",
       "      <td>2.790134</td>\n",
       "      <td>20.618009</td>\n",
       "      <td>8.405008</td>\n",
       "      <td>76.291128</td>\n",
       "      <td>0.0</td>\n",
       "    </tr>\n",
       "  </tbody>\n",
       "</table>\n",
       "</div>"
      ],
      "text/plain": [
       "      mean_ip  std_dev_ip  excess_kurtosis_ip  skewness_ip  mean_dmsnr  \\\n",
       "0  121.156250   48.372971            0.375485    -0.013165    3.168896   \n",
       "1   76.968750   36.175557            0.712898     3.388719    2.399666   \n",
       "2  130.585938   53.229534            0.133408    -0.297242    2.743311   \n",
       "3  156.398438   48.865942           -0.215989    -0.171294   17.471572   \n",
       "4   84.804688   36.117659            0.825013     3.274125    2.790134   \n",
       "\n",
       "   std_dev_dmsnr  excess_kurtosis_dmsnr  skewness_dmsnr  target_class  \n",
       "0      18.399367               7.449874       65.159298           0.0  \n",
       "1      17.570997               9.414652      102.722975           0.0  \n",
       "2      22.362553               8.508364       74.031324           0.0  \n",
       "3            NaN               2.958066        7.197842           0.0  \n",
       "4      20.618009               8.405008       76.291128           0.0  "
      ]
     },
     "execution_count": 7,
     "metadata": {},
     "output_type": "execute_result"
    }
   ],
   "source": [
    "df.head()"
   ]
  },
  {
   "cell_type": "code",
   "execution_count": 8,
   "id": "cd5c62b6",
   "metadata": {
    "scrolled": true
   },
   "outputs": [
    {
     "data": {
      "text/plain": [
       "array([0., 1.])"
      ]
     },
     "execution_count": 8,
     "metadata": {},
     "output_type": "execute_result"
    }
   ],
   "source": [
    "df['target_class'].unique()"
   ]
  },
  {
   "cell_type": "code",
   "execution_count": 9,
   "id": "3eae279e",
   "metadata": {
    "scrolled": true
   },
   "outputs": [],
   "source": [
    "count0=len(df[df['target_class']==0.0])"
   ]
  },
  {
   "cell_type": "code",
   "execution_count": 10,
   "id": "1d0d861f",
   "metadata": {},
   "outputs": [],
   "source": [
    "count1=len(df[df['target_class']==1.0])"
   ]
  },
  {
   "cell_type": "code",
   "execution_count": 11,
   "id": "03272cd7",
   "metadata": {},
   "outputs": [
    {
     "data": {
      "text/plain": [
       "90.79661558109834"
      ]
     },
     "execution_count": 11,
     "metadata": {},
     "output_type": "execute_result"
    }
   ],
   "source": [
    "count0perc = count0*100/(count0+count1)\n",
    "count0perc"
   ]
  },
  {
   "cell_type": "code",
   "execution_count": 12,
   "id": "f26258ea",
   "metadata": {},
   "outputs": [
    {
     "data": {
      "text/plain": [
       "9.20338441890166"
      ]
     },
     "execution_count": 12,
     "metadata": {},
     "output_type": "execute_result"
    }
   ],
   "source": [
    "count1perc = count1*100/(count0+count1)\n",
    "count1perc"
   ]
  },
  {
   "cell_type": "code",
   "execution_count": 13,
   "id": "835656c0",
   "metadata": {
    "scrolled": false
   },
   "outputs": [
    {
     "data": {
      "text/plain": [
       "mean_ip                     0\n",
       "std_dev_ip                  0\n",
       "excess_kurtosis_ip       1735\n",
       "skewness_ip                 0\n",
       "mean_dmsnr                  0\n",
       "std_dev_dmsnr            1178\n",
       "excess_kurtosis_dmsnr       0\n",
       "skewness_dmsnr            625\n",
       "target_class                0\n",
       "dtype: int64"
      ]
     },
     "execution_count": 13,
     "metadata": {},
     "output_type": "execute_result"
    }
   ],
   "source": [
    "df.isnull().sum()"
   ]
  },
  {
   "cell_type": "code",
   "execution_count": 14,
   "id": "a90bc6fc",
   "metadata": {},
   "outputs": [
    {
     "data": {
      "text/plain": [
       "0        0.375485\n",
       "1        0.712898\n",
       "2        0.133408\n",
       "3       -0.215989\n",
       "4        0.825013\n",
       "           ...   \n",
       "12523   -0.012418\n",
       "12524    0.218177\n",
       "12525    0.663456\n",
       "12526   -0.089940\n",
       "12527    0.346178\n",
       "Name: excess_kurtosis_ip, Length: 12528, dtype: float64"
      ]
     },
     "execution_count": 14,
     "metadata": {},
     "output_type": "execute_result"
    }
   ],
   "source": [
    "df['excess_kurtosis_ip'].fillna(df['excess_kurtosis_ip'].median())"
   ]
  },
  {
   "cell_type": "code",
   "execution_count": 15,
   "id": "400e1f67",
   "metadata": {},
   "outputs": [
    {
     "data": {
      "text/plain": [
       "mean_ip                     0\n",
       "std_dev_ip                  0\n",
       "excess_kurtosis_ip       1735\n",
       "skewness_ip                 0\n",
       "mean_dmsnr                  0\n",
       "std_dev_dmsnr            1178\n",
       "excess_kurtosis_dmsnr       0\n",
       "skewness_dmsnr            625\n",
       "target_class                0\n",
       "dtype: int64"
      ]
     },
     "execution_count": 15,
     "metadata": {},
     "output_type": "execute_result"
    }
   ],
   "source": [
    "df.isnull().sum()"
   ]
  },
  {
   "cell_type": "code",
   "execution_count": 16,
   "id": "9cc1ddf2",
   "metadata": {},
   "outputs": [],
   "source": [
    "df['excess_kurtosis_ip']=df['excess_kurtosis_ip'].fillna(df['excess_kurtosis_ip'].median())"
   ]
  },
  {
   "cell_type": "code",
   "execution_count": 17,
   "id": "1c69ceab",
   "metadata": {},
   "outputs": [],
   "source": [
    "df['std_dev_dmsnr']=df['std_dev_dmsnr'].fillna(df['std_dev_dmsnr'].median())"
   ]
  },
  {
   "cell_type": "code",
   "execution_count": 18,
   "id": "a5f32678",
   "metadata": {},
   "outputs": [],
   "source": [
    "df['skewness_dmsnr']=df['skewness_dmsnr'].fillna(df['skewness_dmsnr'].median())"
   ]
  },
  {
   "cell_type": "code",
   "execution_count": 19,
   "id": "864888b7",
   "metadata": {
    "scrolled": false
   },
   "outputs": [
    {
     "data": {
      "text/plain": [
       "mean_ip                  0\n",
       "std_dev_ip               0\n",
       "excess_kurtosis_ip       0\n",
       "skewness_ip              0\n",
       "mean_dmsnr               0\n",
       "std_dev_dmsnr            0\n",
       "excess_kurtosis_dmsnr    0\n",
       "skewness_dmsnr           0\n",
       "target_class             0\n",
       "dtype: int64"
      ]
     },
     "execution_count": 19,
     "metadata": {},
     "output_type": "execute_result"
    }
   ],
   "source": [
    "df.isnull().sum()"
   ]
  },
  {
   "cell_type": "code",
   "execution_count": 20,
   "id": "a4f7ca05",
   "metadata": {},
   "outputs": [
    {
     "name": "stdout",
     "output_type": "stream",
     "text": [
      "<class 'pandas.core.frame.DataFrame'>\n",
      "RangeIndex: 12528 entries, 0 to 12527\n",
      "Data columns (total 9 columns):\n",
      " #   Column                 Non-Null Count  Dtype  \n",
      "---  ------                 --------------  -----  \n",
      " 0   mean_ip                12528 non-null  float64\n",
      " 1   std_dev_ip             12528 non-null  float64\n",
      " 2   excess_kurtosis_ip     12528 non-null  float64\n",
      " 3   skewness_ip            12528 non-null  float64\n",
      " 4   mean_dmsnr             12528 non-null  float64\n",
      " 5   std_dev_dmsnr          12528 non-null  float64\n",
      " 6   excess_kurtosis_dmsnr  12528 non-null  float64\n",
      " 7   skewness_dmsnr         12528 non-null  float64\n",
      " 8   target_class           12528 non-null  float64\n",
      "dtypes: float64(9)\n",
      "memory usage: 881.0 KB\n"
     ]
    }
   ],
   "source": [
    "df.info()"
   ]
  },
  {
   "cell_type": "code",
   "execution_count": 21,
   "id": "75955482",
   "metadata": {
    "scrolled": true
   },
   "outputs": [
    {
     "data": {
      "text/html": [
       "<div>\n",
       "<style scoped>\n",
       "    .dataframe tbody tr th:only-of-type {\n",
       "        vertical-align: middle;\n",
       "    }\n",
       "\n",
       "    .dataframe tbody tr th {\n",
       "        vertical-align: top;\n",
       "    }\n",
       "\n",
       "    .dataframe thead th {\n",
       "        text-align: right;\n",
       "    }\n",
       "</style>\n",
       "<table border=\"1\" class=\"dataframe\">\n",
       "  <thead>\n",
       "    <tr style=\"text-align: right;\">\n",
       "      <th></th>\n",
       "      <th>mean_ip</th>\n",
       "      <th>std_dev_ip</th>\n",
       "      <th>excess_kurtosis_ip</th>\n",
       "      <th>skewness_ip</th>\n",
       "      <th>mean_dmsnr</th>\n",
       "      <th>std_dev_dmsnr</th>\n",
       "      <th>excess_kurtosis_dmsnr</th>\n",
       "      <th>skewness_dmsnr</th>\n",
       "      <th>target_class</th>\n",
       "    </tr>\n",
       "  </thead>\n",
       "  <tbody>\n",
       "    <tr>\n",
       "      <th>count</th>\n",
       "      <td>12528.000000</td>\n",
       "      <td>12528.000000</td>\n",
       "      <td>12528.000000</td>\n",
       "      <td>12528.000000</td>\n",
       "      <td>12528.000000</td>\n",
       "      <td>12528.000000</td>\n",
       "      <td>12528.000000</td>\n",
       "      <td>12528.000000</td>\n",
       "      <td>12528.000000</td>\n",
       "    </tr>\n",
       "    <tr>\n",
       "      <th>mean</th>\n",
       "      <td>111.041841</td>\n",
       "      <td>46.521437</td>\n",
       "      <td>0.443251</td>\n",
       "      <td>1.778431</td>\n",
       "      <td>12.674758</td>\n",
       "      <td>25.604827</td>\n",
       "      <td>8.333489</td>\n",
       "      <td>104.408308</td>\n",
       "      <td>0.092034</td>\n",
       "    </tr>\n",
       "    <tr>\n",
       "      <th>std</th>\n",
       "      <td>25.672828</td>\n",
       "      <td>6.801077</td>\n",
       "      <td>0.992144</td>\n",
       "      <td>6.208450</td>\n",
       "      <td>29.613230</td>\n",
       "      <td>18.809291</td>\n",
       "      <td>4.535783</td>\n",
       "      <td>104.799639</td>\n",
       "      <td>0.289085</td>\n",
       "    </tr>\n",
       "    <tr>\n",
       "      <th>min</th>\n",
       "      <td>5.812500</td>\n",
       "      <td>24.772042</td>\n",
       "      <td>-1.738021</td>\n",
       "      <td>-1.791886</td>\n",
       "      <td>0.213211</td>\n",
       "      <td>7.370432</td>\n",
       "      <td>-3.139270</td>\n",
       "      <td>-1.976976</td>\n",
       "      <td>0.000000</td>\n",
       "    </tr>\n",
       "    <tr>\n",
       "      <th>25%</th>\n",
       "      <td>100.871094</td>\n",
       "      <td>42.362222</td>\n",
       "      <td>0.057820</td>\n",
       "      <td>-0.188142</td>\n",
       "      <td>1.910535</td>\n",
       "      <td>14.761144</td>\n",
       "      <td>5.803063</td>\n",
       "      <td>38.128424</td>\n",
       "      <td>0.000000</td>\n",
       "    </tr>\n",
       "    <tr>\n",
       "      <th>50%</th>\n",
       "      <td>115.183594</td>\n",
       "      <td>46.931022</td>\n",
       "      <td>0.223678</td>\n",
       "      <td>0.203317</td>\n",
       "      <td>2.792642</td>\n",
       "      <td>18.412402</td>\n",
       "      <td>8.451097</td>\n",
       "      <td>83.126301</td>\n",
       "      <td>0.000000</td>\n",
       "    </tr>\n",
       "    <tr>\n",
       "      <th>75%</th>\n",
       "      <td>127.109375</td>\n",
       "      <td>50.979103</td>\n",
       "      <td>0.421239</td>\n",
       "      <td>0.932374</td>\n",
       "      <td>5.413253</td>\n",
       "      <td>26.473142</td>\n",
       "      <td>10.727927</td>\n",
       "      <td>135.774973</td>\n",
       "      <td>0.000000</td>\n",
       "    </tr>\n",
       "    <tr>\n",
       "      <th>max</th>\n",
       "      <td>189.734375</td>\n",
       "      <td>91.808628</td>\n",
       "      <td>8.069522</td>\n",
       "      <td>68.101622</td>\n",
       "      <td>222.421405</td>\n",
       "      <td>110.642211</td>\n",
       "      <td>34.539844</td>\n",
       "      <td>1191.000837</td>\n",
       "      <td>1.000000</td>\n",
       "    </tr>\n",
       "  </tbody>\n",
       "</table>\n",
       "</div>"
      ],
      "text/plain": [
       "            mean_ip    std_dev_ip  excess_kurtosis_ip   skewness_ip  \\\n",
       "count  12528.000000  12528.000000        12528.000000  12528.000000   \n",
       "mean     111.041841     46.521437            0.443251      1.778431   \n",
       "std       25.672828      6.801077            0.992144      6.208450   \n",
       "min        5.812500     24.772042           -1.738021     -1.791886   \n",
       "25%      100.871094     42.362222            0.057820     -0.188142   \n",
       "50%      115.183594     46.931022            0.223678      0.203317   \n",
       "75%      127.109375     50.979103            0.421239      0.932374   \n",
       "max      189.734375     91.808628            8.069522     68.101622   \n",
       "\n",
       "         mean_dmsnr  std_dev_dmsnr  excess_kurtosis_dmsnr  skewness_dmsnr  \\\n",
       "count  12528.000000   12528.000000           12528.000000    12528.000000   \n",
       "mean      12.674758      25.604827               8.333489      104.408308   \n",
       "std       29.613230      18.809291               4.535783      104.799639   \n",
       "min        0.213211       7.370432              -3.139270       -1.976976   \n",
       "25%        1.910535      14.761144               5.803063       38.128424   \n",
       "50%        2.792642      18.412402               8.451097       83.126301   \n",
       "75%        5.413253      26.473142              10.727927      135.774973   \n",
       "max      222.421405     110.642211              34.539844     1191.000837   \n",
       "\n",
       "       target_class  \n",
       "count  12528.000000  \n",
       "mean       0.092034  \n",
       "std        0.289085  \n",
       "min        0.000000  \n",
       "25%        0.000000  \n",
       "50%        0.000000  \n",
       "75%        0.000000  \n",
       "max        1.000000  "
      ]
     },
     "execution_count": 21,
     "metadata": {},
     "output_type": "execute_result"
    }
   ],
   "source": [
    "df.describe()"
   ]
  },
  {
   "cell_type": "code",
   "execution_count": 22,
   "id": "71311584",
   "metadata": {},
   "outputs": [
    {
     "data": {
      "image/png": "[encoded data removed]",
      "text/plain": [
       "<Figure size 1000x600 with 1 Axes>"
      ]
     },
     "metadata": {},
     "output_type": "display_data"
    },
    {
     "data": {
      "image/png": "[encoded data removed]",
      "text/plain": [
       "<Figure size 1000x600 with 1 Axes>"
      ]
     },
     "metadata": {},
     "output_type": "display_data"
    },
    {
     "data": {
      "image/png": "[encoded data removed]",
      "text/plain": [
       "<Figure size 1000x600 with 1 Axes>"
      ]
     },
     "metadata": {},
     "output_type": "display_data"
    },
    {
     "data": {
      "image/png": "[encoded data removed]",
      "text/plain": [
       "<Figure size 1000x600 with 1 Axes>"
      ]
     },
     "metadata": {},
     "output_type": "display_data"
    },
    {
     "data": {
      "image/png": "[encoded data removed]",
      "text/plain": [
       "<Figure size 1000x600 with 1 Axes>"
      ]
     },
     "metadata": {},
     "output_type": "display_data"
    },
    {
     "data": {
      "image/png": "[encoded data removed]",
      "text/plain": [
       "<Figure size 1000x600 with 1 Axes>"
      ]
     },
     "metadata": {},
     "output_type": "display_data"
    },
    {
     "data": {
      "image/png": "[encoded data removed]",
      "text/plain": [
       "<Figure size 1000x600 with 1 Axes>"
      ]
     },
     "metadata": {},
     "output_type": "display_data"
    },
    {
     "data": {
      "image/png": "[encoded data removed]",
      "text/plain": [
       "<Figure size 1000x600 with 1 Axes>"
      ]
     },
     "metadata": {},
     "output_type": "display_data"
    }
   ],
   "source": [
    "for column in df.columns[:-1]:  # Exclude the 'Class' column\n",
    "    plt.figure(figsize=(10, 6))\n",
    "    sns.boxplot(x=df['target_class'], y=column, data=df, palette=\"coolwarm\")\n",
    "    plt.title(f'Boxplot of {column} for two classes')\n",
    "    plt.xlabel('Class')\n",
    "    plt.ylabel(column)\n",
    "    plt.show()"
   ]
  },
  {
   "cell_type": "code",
   "execution_count": 23,
   "id": "2ee53d08",
   "metadata": {},
   "outputs": [
    {
     "data": {
      "text/plain": [
       "StandardScaler()"
      ]
     },
     "execution_count": 23,
     "metadata": {},
     "output_type": "execute_result"
    }
   ],
   "source": [
    "scaler = StandardScaler()\n",
    "scaler.fit(df)"
   ]
  },
  {
   "cell_type": "code",
   "execution_count": 24,
   "id": "30e386cf",
   "metadata": {},
   "outputs": [],
   "source": [
    "X=df.iloc[:,:-1]\n",
    "y=df['target_class']"
   ]
  },
  {
   "cell_type": "code",
   "execution_count": 25,
   "id": "67cc3697",
   "metadata": {
    "scrolled": false
   },
   "outputs": [
    {
     "data": {
      "text/plain": [
       "12528"
      ]
     },
     "execution_count": 25,
     "metadata": {},
     "output_type": "execute_result"
    }
   ],
   "source": [
    "len(X)"
   ]
  },
  {
   "cell_type": "code",
   "execution_count": 26,
   "id": "7ff0086a",
   "metadata": {},
   "outputs": [
    {
     "data": {
      "text/plain": [
       "12528"
      ]
     },
     "execution_count": 26,
     "metadata": {},
     "output_type": "execute_result"
    }
   ],
   "source": [
    "len(y)"
   ]
  },
  {
   "cell_type": "code",
   "execution_count": 27,
   "id": "2193346f",
   "metadata": {},
   "outputs": [],
   "source": [
    "X_train, X_test, y_train, y_test = train_test_split(X, y, test_size=0.33, random_state=42)"
   ]
  },
  {
   "cell_type": "markdown",
   "id": "3cd0afa1",
   "metadata": {},
   "source": [
    "## Default:"
   ]
  },
  {
   "cell_type": "code",
   "execution_count": 28,
   "id": "fbc7fe8e",
   "metadata": {},
   "outputs": [
    {
     "data": {
      "text/plain": [
       "SVC()"
      ]
     },
     "execution_count": 28,
     "metadata": {},
     "output_type": "execute_result"
    }
   ],
   "source": [
    "svc = SVC()\n",
    "svc.fit(X_train,y_train)"
   ]
  },
  {
   "cell_type": "code",
   "execution_count": 29,
   "id": "dfca1440",
   "metadata": {},
   "outputs": [],
   "source": [
    "y_pred=svc.predict(X_test)"
   ]
  },
  {
   "cell_type": "code",
   "execution_count": 30,
   "id": "da50cf67",
   "metadata": {
    "scrolled": false
   },
   "outputs": [
    {
     "name": "stdout",
     "output_type": "stream",
     "text": [
      "Accuracy is 0.9702539298669891\n"
     ]
    }
   ],
   "source": [
    "acc=accuracy_score(y_test,y_pred)\n",
    "print(f\"Accuracy is {acc}\")"
   ]
  },
  {
   "cell_type": "code",
   "execution_count": 31,
   "id": "eeb893aa",
   "metadata": {
    "scrolled": true
   },
   "outputs": [
    {
     "name": "stdout",
     "output_type": "stream",
     "text": [
      "[[3735  111]\n",
      " [  12  277]]\n"
     ]
    }
   ],
   "source": [
    "cm = confusion_matrix(y_pred,y_test)\n",
    "print(cm)"
   ]
  },
  {
   "cell_type": "code",
   "execution_count": 32,
   "id": "2f48b7aa",
   "metadata": {
    "scrolled": true
   },
   "outputs": [
    {
     "data": {
      "text/plain": [
       "<AxesSubplot:>"
      ]
     },
     "execution_count": 32,
     "metadata": {},
     "output_type": "execute_result"
    },
    {
     "data": {
      "image/png": "[encoded data removed]",
      "text/plain": [
       "<Figure size 640x480 with 2 Axes>"
      ]
     },
     "metadata": {},
     "output_type": "display_data"
    }
   ],
   "source": [
    "sns.heatmap(cm,annot=True, fmt=\".1f\")"
   ]
  },
  {
   "cell_type": "code",
   "execution_count": 33,
   "id": "97653715",
   "metadata": {
    "scrolled": false
   },
   "outputs": [
    {
     "name": "stdout",
     "output_type": "stream",
     "text": [
      "              precision    recall  f1-score   support\n",
      "\n",
      "         0.0       0.97      1.00      0.98      3747\n",
      "         1.0       0.96      0.71      0.82       388\n",
      "\n",
      "    accuracy                           0.97      4135\n",
      "   macro avg       0.96      0.86      0.90      4135\n",
      "weighted avg       0.97      0.97      0.97      4135\n",
      "\n"
     ]
    }
   ],
   "source": [
    "report = classification_report(y_test, y_pred)\n",
    "print(report)"
   ]
  },
  {
   "cell_type": "markdown",
   "id": "901c0aca",
   "metadata": {},
   "source": [
    "## rbf kernel and C=1.0 and gamma=auto"
   ]
  },
  {
   "cell_type": "code",
   "execution_count": 34,
   "id": "b2aa8ce8",
   "metadata": {},
   "outputs": [],
   "source": [
    "svcrbf1auto=SVC(kernel='rbf',C=1.0,gamma='auto')"
   ]
  },
  {
   "cell_type": "code",
   "execution_count": 35,
   "id": "6195e2a4",
   "metadata": {},
   "outputs": [
    {
     "data": {
      "text/plain": [
       "SVC(gamma='auto')"
      ]
     },
     "execution_count": 35,
     "metadata": {},
     "output_type": "execute_result"
    }
   ],
   "source": [
    "svcrbf1auto.fit(X_train,y_train)"
   ]
  },
  {
   "cell_type": "code",
   "execution_count": 36,
   "id": "a8f97e09",
   "metadata": {},
   "outputs": [],
   "source": [
    "y_pred=svcrbf1auto.predict(X_test)"
   ]
  },
  {
   "cell_type": "code",
   "execution_count": 37,
   "id": "26087149",
   "metadata": {
    "scrolled": false
   },
   "outputs": [
    {
     "name": "stdout",
     "output_type": "stream",
     "text": [
      "Accuracy is 0.9064087061668682\n"
     ]
    }
   ],
   "source": [
    "acc=accuracy_score(y_test,y_pred)\n",
    "print(f\"Accuracy is {acc}\")"
   ]
  },
  {
   "cell_type": "code",
   "execution_count": 38,
   "id": "69ad9944",
   "metadata": {
    "scrolled": true
   },
   "outputs": [
    {
     "name": "stdout",
     "output_type": "stream",
     "text": [
      "[[3747  387]\n",
      " [   0    1]]\n"
     ]
    }
   ],
   "source": [
    "cm = confusion_matrix(y_pred,y_test)\n",
    "print(cm)"
   ]
  },
  {
   "cell_type": "code",
   "execution_count": 39,
   "id": "ed4a21bf",
   "metadata": {
    "scrolled": false
   },
   "outputs": [
    {
     "data": {
      "text/plain": [
       "<AxesSubplot:>"
      ]
     },
     "execution_count": 39,
     "metadata": {},
     "output_type": "execute_result"
    },
    {
     "data": {
      "image/png": "[encoded data removed]",
      "text/plain": [
       "<Figure size 640x480 with 2 Axes>"
      ]
     },
     "metadata": {},
     "output_type": "display_data"
    }
   ],
   "source": [
    "sns.heatmap(cm,annot=True, fmt=\".1f\")"
   ]
  },
  {
   "cell_type": "code",
   "execution_count": 40,
   "id": "95185ef0",
   "metadata": {
    "scrolled": true
   },
   "outputs": [
    {
     "name": "stdout",
     "output_type": "stream",
     "text": [
      "              precision    recall  f1-score   support\n",
      "\n",
      "         0.0       0.91      1.00      0.95      3747\n",
      "         1.0       1.00      0.00      0.01       388\n",
      "\n",
      "    accuracy                           0.91      4135\n",
      "   macro avg       0.95      0.50      0.48      4135\n",
      "weighted avg       0.92      0.91      0.86      4135\n",
      "\n"
     ]
    }
   ],
   "source": [
    "report = classification_report(y_test, y_pred)\n",
    "print(report)"
   ]
  },
  {
   "cell_type": "markdown",
   "id": "f10aa776",
   "metadata": {},
   "source": [
    "## rbf kernel and C=10.0 "
   ]
  },
  {
   "cell_type": "code",
   "execution_count": 41,
   "id": "ea3a9f51",
   "metadata": {},
   "outputs": [],
   "source": [
    "svcrbf10=SVC(kernel='rbf',C=10.0)"
   ]
  },
  {
   "cell_type": "code",
   "execution_count": 42,
   "id": "30d975c7",
   "metadata": {},
   "outputs": [
    {
     "data": {
      "text/plain": [
       "SVC(C=10.0)"
      ]
     },
     "execution_count": 42,
     "metadata": {},
     "output_type": "execute_result"
    }
   ],
   "source": [
    "svcrbf10.fit(X_train,y_train)"
   ]
  },
  {
   "cell_type": "code",
   "execution_count": 43,
   "id": "a4a1e0ef",
   "metadata": {},
   "outputs": [],
   "source": [
    "y_pred=svcrbf10.predict(X_test)"
   ]
  },
  {
   "cell_type": "code",
   "execution_count": 44,
   "id": "ca5662b1",
   "metadata": {
    "scrolled": false
   },
   "outputs": [
    {
     "name": "stdout",
     "output_type": "stream",
     "text": [
      "Accuracy is 0.9726723095525998\n"
     ]
    }
   ],
   "source": [
    "acc=accuracy_score(y_test,y_pred)\n",
    "print(f\"Accuracy is {acc}\")"
   ]
  },
  {
   "cell_type": "code",
   "execution_count": 45,
   "id": "d97dd69f",
   "metadata": {
    "scrolled": true
   },
   "outputs": [
    {
     "name": "stdout",
     "output_type": "stream",
     "text": [
      "[[3736  102]\n",
      " [  11  286]]\n"
     ]
    }
   ],
   "source": [
    "cm = confusion_matrix(y_pred,y_test)\n",
    "print(cm)"
   ]
  },
  {
   "cell_type": "code",
   "execution_count": 46,
   "id": "ebb90cea",
   "metadata": {
    "scrolled": true
   },
   "outputs": [
    {
     "data": {
      "text/plain": [
       "<AxesSubplot:>"
      ]
     },
     "execution_count": 46,
     "metadata": {},
     "output_type": "execute_result"
    },
    {
     "data": {
      "image/png": "[encoded data removed]",
      "text/plain": [
       "<Figure size 640x480 with 2 Axes>"
      ]
     },
     "metadata": {},
     "output_type": "display_data"
    }
   ],
   "source": [
    "sns.heatmap(cm,annot=True, fmt=\".1f\")"
   ]
  },
  {
   "cell_type": "code",
   "execution_count": 47,
   "id": "0397c652",
   "metadata": {
    "scrolled": true
   },
   "outputs": [
    {
     "name": "stdout",
     "output_type": "stream",
     "text": [
      "              precision    recall  f1-score   support\n",
      "\n",
      "         0.0       0.97      1.00      0.99      3747\n",
      "         1.0       0.96      0.74      0.84       388\n",
      "\n",
      "    accuracy                           0.97      4135\n",
      "   macro avg       0.97      0.87      0.91      4135\n",
      "weighted avg       0.97      0.97      0.97      4135\n",
      "\n"
     ]
    }
   ],
   "source": [
    "report = classification_report(y_test, y_pred)\n",
    "print(report)"
   ]
  },
  {
   "cell_type": "markdown",
   "id": "7a15f587",
   "metadata": {},
   "source": [
    "## rbf kernel and C=20.0 "
   ]
  },
  {
   "cell_type": "code",
   "execution_count": 48,
   "id": "7aed12d6",
   "metadata": {},
   "outputs": [],
   "source": [
    "svcrbf20=SVC(kernel='rbf',C=20.0)"
   ]
  },
  {
   "cell_type": "code",
   "execution_count": 49,
   "id": "a38816d0",
   "metadata": {},
   "outputs": [
    {
     "data": {
      "text/plain": [
       "SVC(C=20.0)"
      ]
     },
     "execution_count": 49,
     "metadata": {},
     "output_type": "execute_result"
    }
   ],
   "source": [
    "svcrbf20.fit(X_train,y_train)"
   ]
  },
  {
   "cell_type": "code",
   "execution_count": 50,
   "id": "d590df55",
   "metadata": {},
   "outputs": [],
   "source": [
    "y_pred=svcrbf20.predict(X_test)"
   ]
  },
  {
   "cell_type": "code",
   "execution_count": 51,
   "id": "1292db83",
   "metadata": {
    "scrolled": false
   },
   "outputs": [
    {
     "name": "stdout",
     "output_type": "stream",
     "text": [
      "Accuracy is 0.9743651753325272\n"
     ]
    }
   ],
   "source": [
    "acc=accuracy_score(y_test,y_pred)\n",
    "print(f\"Accuracy is {acc}\")"
   ]
  },
  {
   "cell_type": "code",
   "execution_count": 52,
   "id": "51ed02e8",
   "metadata": {
    "scrolled": true
   },
   "outputs": [
    {
     "name": "stdout",
     "output_type": "stream",
     "text": [
      "[[3736   95]\n",
      " [  11  293]]\n"
     ]
    }
   ],
   "source": [
    "cm = confusion_matrix(y_pred,y_test)\n",
    "print(cm)"
   ]
  },
  {
   "cell_type": "code",
   "execution_count": 53,
   "id": "fb9082d2",
   "metadata": {
    "scrolled": true
   },
   "outputs": [
    {
     "data": {
      "text/plain": [
       "<AxesSubplot:>"
      ]
     },
     "execution_count": 53,
     "metadata": {},
     "output_type": "execute_result"
    },
    {
     "data": {
      "image/png": "[encoded data removed]",
      "text/plain": [
       "<Figure size 640x480 with 2 Axes>"
      ]
     },
     "metadata": {},
     "output_type": "display_data"
    }
   ],
   "source": [
    "sns.heatmap(cm,annot=True, fmt=\".1f\")"
   ]
  },
  {
   "cell_type": "code",
   "execution_count": 54,
   "id": "21ac677e",
   "metadata": {
    "scrolled": true
   },
   "outputs": [
    {
     "name": "stdout",
     "output_type": "stream",
     "text": [
      "              precision    recall  f1-score   support\n",
      "\n",
      "         0.0       0.98      1.00      0.99      3747\n",
      "         1.0       0.96      0.76      0.85       388\n",
      "\n",
      "    accuracy                           0.97      4135\n",
      "   macro avg       0.97      0.88      0.92      4135\n",
      "weighted avg       0.97      0.97      0.97      4135\n",
      "\n"
     ]
    }
   ],
   "source": [
    "report = classification_report(y_test, y_pred)\n",
    "print(report)"
   ]
  },
  {
   "cell_type": "markdown",
   "id": "b7777018",
   "metadata": {},
   "source": [
    "## Linear kernel and C=1.0 "
   ]
  },
  {
   "cell_type": "code",
   "execution_count": 55,
   "id": "900cac32",
   "metadata": {},
   "outputs": [],
   "source": [
    "svclinear1=SVC(kernel='linear',C=1.0)"
   ]
  },
  {
   "cell_type": "code",
   "execution_count": 56,
   "id": "8ecb3724",
   "metadata": {},
   "outputs": [
    {
     "data": {
      "text/plain": [
       "SVC(kernel='linear')"
      ]
     },
     "execution_count": 56,
     "metadata": {},
     "output_type": "execute_result"
    }
   ],
   "source": [
    "svclinear1.fit(X_train,y_train)"
   ]
  },
  {
   "cell_type": "code",
   "execution_count": 57,
   "id": "8879d623",
   "metadata": {},
   "outputs": [],
   "source": [
    "y_pred=svclinear1.predict(X_test)"
   ]
  },
  {
   "cell_type": "code",
   "execution_count": 58,
   "id": "121ca4d6",
   "metadata": {
    "scrolled": false
   },
   "outputs": [
    {
     "name": "stdout",
     "output_type": "stream",
     "text": [
      "Accuracy is 0.9750906892382104\n"
     ]
    }
   ],
   "source": [
    "acc=accuracy_score(y_test,y_pred)\n",
    "print(f\"Accuracy is {acc}\")"
   ]
  },
  {
   "cell_type": "code",
   "execution_count": 59,
   "id": "3d9e7c9c",
   "metadata": {
    "scrolled": true
   },
   "outputs": [
    {
     "name": "stdout",
     "output_type": "stream",
     "text": [
      "[[3737   93]\n",
      " [  10  295]]\n"
     ]
    }
   ],
   "source": [
    "cm = confusion_matrix(y_pred,y_test)\n",
    "print(cm)"
   ]
  },
  {
   "cell_type": "code",
   "execution_count": 60,
   "id": "dd401431",
   "metadata": {
    "scrolled": true
   },
   "outputs": [
    {
     "data": {
      "text/plain": [
       "<AxesSubplot:>"
      ]
     },
     "execution_count": 60,
     "metadata": {},
     "output_type": "execute_result"
    },
    {
     "data": {
      "image/png": "[encoded data removed]",
      "text/plain": [
       "<Figure size 640x480 with 2 Axes>"
      ]
     },
     "metadata": {},
     "output_type": "display_data"
    }
   ],
   "source": [
    "sns.heatmap(cm,annot=True, fmt=\".1f\")"
   ]
  },
  {
   "cell_type": "code",
   "execution_count": 61,
   "id": "3f0f64ce",
   "metadata": {
    "scrolled": true
   },
   "outputs": [
    {
     "name": "stdout",
     "output_type": "stream",
     "text": [
      "              precision    recall  f1-score   support\n",
      "\n",
      "         0.0       0.98      1.00      0.99      3747\n",
      "         1.0       0.97      0.76      0.85       388\n",
      "\n",
      "    accuracy                           0.98      4135\n",
      "   macro avg       0.97      0.88      0.92      4135\n",
      "weighted avg       0.97      0.98      0.97      4135\n",
      "\n"
     ]
    }
   ],
   "source": [
    "report = classification_report(y_test, y_pred)\n",
    "print(report)"
   ]
  },
  {
   "cell_type": "markdown",
   "id": "dcb57d89",
   "metadata": {},
   "source": [
    "## Linear kernel and C=10.0 "
   ]
  },
  {
   "cell_type": "code",
   "execution_count": 62,
   "id": "502ec413",
   "metadata": {},
   "outputs": [],
   "source": [
    "svclinear10=SVC(kernel='linear',C=10.0)"
   ]
  },
  {
   "cell_type": "code",
   "execution_count": 63,
   "id": "14c0289c",
   "metadata": {},
   "outputs": [
    {
     "data": {
      "text/plain": [
       "SVC(C=10.0, kernel='linear')"
      ]
     },
     "execution_count": 63,
     "metadata": {},
     "output_type": "execute_result"
    }
   ],
   "source": [
    "svclinear10.fit(X_train,y_train)"
   ]
  },
  {
   "cell_type": "code",
   "execution_count": 64,
   "id": "5277ae41",
   "metadata": {},
   "outputs": [],
   "source": [
    "y_pred=svclinear10.predict(X_test)"
   ]
  },
  {
   "cell_type": "code",
   "execution_count": 65,
   "id": "a13195ad",
   "metadata": {
    "scrolled": false
   },
   "outputs": [
    {
     "name": "stdout",
     "output_type": "stream",
     "text": [
      "Accuracy is 0.9750906892382104\n"
     ]
    }
   ],
   "source": [
    "acc=accuracy_score(y_test,y_pred)\n",
    "print(f\"Accuracy is {acc}\")"
   ]
  },
  {
   "cell_type": "code",
   "execution_count": 66,
   "id": "852067a1",
   "metadata": {
    "scrolled": false
   },
   "outputs": [
    {
     "name": "stdout",
     "output_type": "stream",
     "text": [
      "[[3738   94]\n",
      " [   9  294]]\n"
     ]
    }
   ],
   "source": [
    "cm = confusion_matrix(y_pred,y_test)\n",
    "print(cm)"
   ]
  },
  {
   "cell_type": "code",
   "execution_count": 67,
   "id": "7fbc6204",
   "metadata": {
    "scrolled": true
   },
   "outputs": [
    {
     "data": {
      "text/plain": [
       "<AxesSubplot:>"
      ]
     },
     "execution_count": 67,
     "metadata": {},
     "output_type": "execute_result"
    },
    {
     "data": {
      "image/png": "[encoded data removed]",
      "text/plain": [
       "<Figure size 640x480 with 2 Axes>"
      ]
     },
     "metadata": {},
     "output_type": "display_data"
    }
   ],
   "source": [
    "sns.heatmap(cm,annot=True, fmt=\".1f\")"
   ]
  },
  {
   "cell_type": "code",
   "execution_count": 68,
   "id": "ff98b09a",
   "metadata": {
    "scrolled": false
   },
   "outputs": [
    {
     "name": "stdout",
     "output_type": "stream",
     "text": [
      "              precision    recall  f1-score   support\n",
      "\n",
      "         0.0       0.98      1.00      0.99      3747\n",
      "         1.0       0.97      0.76      0.85       388\n",
      "\n",
      "    accuracy                           0.98      4135\n",
      "   macro avg       0.97      0.88      0.92      4135\n",
      "weighted avg       0.97      0.98      0.97      4135\n",
      "\n"
     ]
    }
   ],
   "source": [
    "report = classification_report(y_test, y_pred)\n",
    "print(report)"
   ]
  },
  {
   "cell_type": "markdown",
   "id": "c048c387",
   "metadata": {},
   "source": [
    "## Linear kernel and C=20.0 "
   ]
  },
  {
   "cell_type": "code",
   "execution_count": 69,
   "id": "e29101be",
   "metadata": {},
   "outputs": [],
   "source": [
    "svclinear20=SVC(kernel='linear',C=20.0)"
   ]
  },
  {
   "cell_type": "code",
   "execution_count": 70,
   "id": "00b721f4",
   "metadata": {},
   "outputs": [
    {
     "data": {
      "text/plain": [
       "SVC(C=20.0, kernel='linear')"
      ]
     },
     "execution_count": 70,
     "metadata": {},
     "output_type": "execute_result"
    }
   ],
   "source": [
    "svclinear20.fit(X_train,y_train)"
   ]
  },
  {
   "cell_type": "code",
   "execution_count": 71,
   "id": "e8613b2a",
   "metadata": {},
   "outputs": [],
   "source": [
    "y_pred=svclinear20.predict(X_test)"
   ]
  },
  {
   "cell_type": "code",
   "execution_count": 72,
   "id": "b11be2fc",
   "metadata": {
    "scrolled": false
   },
   "outputs": [
    {
     "name": "stdout",
     "output_type": "stream",
     "text": [
      "Accuracy is 0.9753325272067714\n"
     ]
    }
   ],
   "source": [
    "acc=accuracy_score(y_test,y_pred)\n",
    "print(f\"Accuracy is {acc}\")"
   ]
  },
  {
   "cell_type": "code",
   "execution_count": 73,
   "id": "610d0f8c",
   "metadata": {
    "scrolled": true
   },
   "outputs": [
    {
     "name": "stdout",
     "output_type": "stream",
     "text": [
      "[[3738   93]\n",
      " [   9  295]]\n"
     ]
    }
   ],
   "source": [
    "cm = confusion_matrix(y_pred,y_test)\n",
    "print(cm)"
   ]
  },
  {
   "cell_type": "code",
   "execution_count": 74,
   "id": "b9667a8f",
   "metadata": {
    "scrolled": true
   },
   "outputs": [
    {
     "data": {
      "text/plain": [
       "<AxesSubplot:>"
      ]
     },
     "execution_count": 74,
     "metadata": {},
     "output_type": "execute_result"
    },
    {
     "data": {
      "image/png": "[encoded data removed]",
      "text/plain": [
       "<Figure size 640x480 with 2 Axes>"
      ]
     },
     "metadata": {},
     "output_type": "display_data"
    }
   ],
   "source": [
    "sns.heatmap(cm,annot=True, fmt=\".1f\")"
   ]
  },
  {
   "cell_type": "code",
   "execution_count": 75,
   "id": "0124a807",
   "metadata": {
    "scrolled": false
   },
   "outputs": [
    {
     "name": "stdout",
     "output_type": "stream",
     "text": [
      "              precision    recall  f1-score   support\n",
      "\n",
      "         0.0       0.98      1.00      0.99      3747\n",
      "         1.0       0.97      0.76      0.85       388\n",
      "\n",
      "    accuracy                           0.98      4135\n",
      "   macro avg       0.97      0.88      0.92      4135\n",
      "weighted avg       0.98      0.98      0.97      4135\n",
      "\n"
     ]
    }
   ],
   "source": [
    "report = classification_report(y_test, y_pred)\n",
    "print(report)"
   ]
  },
  {
   "cell_type": "markdown",
   "id": "d3e97045",
   "metadata": {},
   "source": [
    "## Polynomial kernel and C=1.0 "
   ]
  },
  {
   "cell_type": "code",
   "execution_count": 76,
   "id": "9a57faa6",
   "metadata": {},
   "outputs": [],
   "source": [
    "svcpoly1=SVC(kernel='poly',C=1.0)"
   ]
  },
  {
   "cell_type": "code",
   "execution_count": 77,
   "id": "eacc07fe",
   "metadata": {},
   "outputs": [
    {
     "data": {
      "text/plain": [
       "SVC(kernel='poly')"
      ]
     },
     "execution_count": 77,
     "metadata": {},
     "output_type": "execute_result"
    }
   ],
   "source": [
    "svcpoly1.fit(X_train,y_train)"
   ]
  },
  {
   "cell_type": "code",
   "execution_count": 78,
   "id": "c940da5e",
   "metadata": {},
   "outputs": [],
   "source": [
    "y_pred=svcpoly1.predict(X_test)"
   ]
  },
  {
   "cell_type": "code",
   "execution_count": 79,
   "id": "5e09770b",
   "metadata": {
    "scrolled": false
   },
   "outputs": [
    {
     "name": "stdout",
     "output_type": "stream",
     "text": [
      "Accuracy is 0.9704957678355501\n"
     ]
    }
   ],
   "source": [
    "acc=accuracy_score(y_test,y_pred)\n",
    "print(f\"Accuracy is {acc}\")"
   ]
  },
  {
   "cell_type": "code",
   "execution_count": 80,
   "id": "b059a969",
   "metadata": {
    "scrolled": true
   },
   "outputs": [
    {
     "name": "stdout",
     "output_type": "stream",
     "text": [
      "[[3728  103]\n",
      " [  19  285]]\n"
     ]
    }
   ],
   "source": [
    "cm = confusion_matrix(y_pred,y_test)\n",
    "print(cm)"
   ]
  },
  {
   "cell_type": "code",
   "execution_count": 81,
   "id": "f31eb629",
   "metadata": {
    "scrolled": true
   },
   "outputs": [
    {
     "data": {
      "text/plain": [
       "<AxesSubplot:>"
      ]
     },
     "execution_count": 81,
     "metadata": {},
     "output_type": "execute_result"
    },
    {
     "data": {
      "image/png": "[encoded data removed]",
      "text/plain": [
       "<Figure size 640x480 with 2 Axes>"
      ]
     },
     "metadata": {},
     "output_type": "display_data"
    }
   ],
   "source": [
    "sns.heatmap(cm,annot=True, fmt=\".1f\")"
   ]
  },
  {
   "cell_type": "code",
   "execution_count": 82,
   "id": "62c3ac06",
   "metadata": {
    "scrolled": false
   },
   "outputs": [
    {
     "name": "stdout",
     "output_type": "stream",
     "text": [
      "              precision    recall  f1-score   support\n",
      "\n",
      "         0.0       0.97      0.99      0.98      3747\n",
      "         1.0       0.94      0.73      0.82       388\n",
      "\n",
      "    accuracy                           0.97      4135\n",
      "   macro avg       0.96      0.86      0.90      4135\n",
      "weighted avg       0.97      0.97      0.97      4135\n",
      "\n"
     ]
    }
   ],
   "source": [
    "report = classification_report(y_test, y_pred)\n",
    "print(report)"
   ]
  },
  {
   "cell_type": "markdown",
   "id": "254cb424",
   "metadata": {},
   "source": [
    "## Polynomial kernel and C=10.0 "
   ]
  },
  {
   "cell_type": "code",
   "execution_count": 83,
   "id": "d5f78ee2",
   "metadata": {},
   "outputs": [],
   "source": [
    "svcpoly10=SVC(kernel='poly',C=100.0)"
   ]
  },
  {
   "cell_type": "code",
   "execution_count": 84,
   "id": "552d5c57",
   "metadata": {},
   "outputs": [
    {
     "data": {
      "text/plain": [
       "SVC(C=100.0, kernel='poly')"
      ]
     },
     "execution_count": 84,
     "metadata": {},
     "output_type": "execute_result"
    }
   ],
   "source": [
    "svcpoly10.fit(X_train,y_train)"
   ]
  },
  {
   "cell_type": "code",
   "execution_count": 85,
   "id": "85deafae",
   "metadata": {},
   "outputs": [],
   "source": [
    "y_pred=svcpoly10.predict(X_test)"
   ]
  },
  {
   "cell_type": "code",
   "execution_count": 86,
   "id": "a238fbd2",
   "metadata": {
    "scrolled": false
   },
   "outputs": [
    {
     "name": "stdout",
     "output_type": "stream",
     "text": [
      "Accuracy is 0.9753325272067714\n"
     ]
    }
   ],
   "source": [
    "acc=accuracy_score(y_test,y_pred)\n",
    "print(f\"Accuracy is {acc}\")"
   ]
  },
  {
   "cell_type": "code",
   "execution_count": 87,
   "id": "cb6f8140",
   "metadata": {
    "scrolled": true
   },
   "outputs": [
    {
     "name": "stdout",
     "output_type": "stream",
     "text": [
      "[[3733   88]\n",
      " [  14  300]]\n"
     ]
    }
   ],
   "source": [
    "cm = confusion_matrix(y_pred,y_test)\n",
    "print(cm)"
   ]
  },
  {
   "cell_type": "code",
   "execution_count": 88,
   "id": "5b16c11c",
   "metadata": {
    "scrolled": true
   },
   "outputs": [
    {
     "data": {
      "text/plain": [
       "<AxesSubplot:>"
      ]
     },
     "execution_count": 88,
     "metadata": {},
     "output_type": "execute_result"
    },
    {
     "data": {
      "image/png": "[encoded data removed]",
      "text/plain": [
       "<Figure size 640x480 with 2 Axes>"
      ]
     },
     "metadata": {},
     "output_type": "display_data"
    }
   ],
   "source": [
    "sns.heatmap(cm,annot=True, fmt=\".1f\")"
   ]
  },
  {
   "cell_type": "code",
   "execution_count": 89,
   "id": "80d5fe4e",
   "metadata": {
    "scrolled": false
   },
   "outputs": [
    {
     "name": "stdout",
     "output_type": "stream",
     "text": [
      "              precision    recall  f1-score   support\n",
      "\n",
      "         0.0       0.98      1.00      0.99      3747\n",
      "         1.0       0.96      0.77      0.85       388\n",
      "\n",
      "    accuracy                           0.98      4135\n",
      "   macro avg       0.97      0.88      0.92      4135\n",
      "weighted avg       0.97      0.98      0.97      4135\n",
      "\n"
     ]
    },
    {
     "data": {
      "image/png": "[encoded data removed]",
      "text/plain": [
       "<Figure size 640x480 with 2 Axes>"
      ]
     },
     "metadata": {},
     "output_type": "display_data"
    }
   ],
   "source": [
    "report = classification_report(y_test, y_pred)\n",
    "print(report)"
   ]
  },
  {
   "cell_type": "markdown",
   "id": "df51db6e",
   "metadata": {},
   "source": [
    "## Polynomial kernel and C=20.0 "
   ]
  },
  {
   "cell_type": "code",
   "execution_count": 90,
   "id": "b2f0bf03",
   "metadata": {},
   "outputs": [],
   "source": [
    "svcpoly20=SVC(kernel='poly',C=20.0)"
   ]
  },
  {
   "cell_type": "code",
   "execution_count": 91,
   "id": "3d3208d2",
   "metadata": {},
   "outputs": [
    {
     "data": {
      "text/plain": [
       "SVC(C=20.0, kernel='poly')"
      ]
     },
     "execution_count": 91,
     "metadata": {},
     "output_type": "execute_result"
    }
   ],
   "source": [
    "svcpoly20.fit(X_train,y_train)"
   ]
  },
  {
   "cell_type": "code",
   "execution_count": 92,
   "id": "9690959a",
   "metadata": {},
   "outputs": [],
   "source": [
    "y_pred=svcpoly20.predict(X_test)"
   ]
  },
  {
   "cell_type": "code",
   "execution_count": 93,
   "id": "84126b49",
   "metadata": {
    "scrolled": false
   },
   "outputs": [
    {
     "name": "stdout",
     "output_type": "stream",
     "text": [
      "Accuracy is 0.9714631197097945\n"
     ]
    }
   ],
   "source": [
    "acc=accuracy_score(y_test,y_pred)\n",
    "print(f\"Accuracy is {acc}\")"
   ]
  },
  {
   "cell_type": "code",
   "execution_count": 94,
   "id": "983a1260",
   "metadata": {
    "scrolled": true
   },
   "outputs": [
    {
     "name": "stdout",
     "output_type": "stream",
     "text": [
      "[[3733  104]\n",
      " [  14  284]]\n"
     ]
    }
   ],
   "source": [
    "cm = confusion_matrix(y_pred,y_test)\n",
    "print(cm)"
   ]
  },
  {
   "cell_type": "code",
   "execution_count": 95,
   "id": "eeee4e70",
   "metadata": {
    "scrolled": true
   },
   "outputs": [
    {
     "data": {
      "text/plain": [
       "<AxesSubplot:>"
      ]
     },
     "execution_count": 95,
     "metadata": {},
     "output_type": "execute_result"
    },
    {
     "data": {
      "image/png": "[encoded data removed]",
      "text/plain": [
       "<Figure size 640x480 with 2 Axes>"
      ]
     },
     "metadata": {},
     "output_type": "display_data"
    }
   ],
   "source": [
    "sns.heatmap(cm,annot=True, fmt=\".1f\")"
   ]
  },
  {
   "cell_type": "code",
   "execution_count": 97,
   "id": "c417e5fa",
   "metadata": {
    "scrolled": false
   },
   "outputs": [
    {
     "name": "stdout",
     "output_type": "stream",
     "text": [
      "              precision    recall  f1-score   support\n",
      "\n",
      "         0.0       0.97      1.00      0.98      3747\n",
      "         1.0       0.95      0.73      0.83       388\n",
      "\n",
      "    accuracy                           0.97      4135\n",
      "   macro avg       0.96      0.86      0.91      4135\n",
      "weighted avg       0.97      0.97      0.97      4135\n",
      "\n"
     ]
    },
    {
     "data": {
      "image/png": "[encoded data removed]",
      "text/plain": [
       "<Figure size 640x480 with 2 Axes>"
      ]
     },
     "metadata": {},
     "output_type": "display_data"
    }
   ],
   "source": [
    "report = classification_report(y_test, y_pred)\n",
    "print(report)"
   ]
  },
  {
   "cell_type": "markdown",
   "id": "e21d3df5",
   "metadata": {},
   "source": [
    "## Sigmoid kernel and C=1.0 "
   ]
  },
  {
   "cell_type": "code",
   "execution_count": 98,
   "id": "86395659",
   "metadata": {},
   "outputs": [],
   "source": [
    "svcsigmoid1=SVC(kernel='sigmoid',C=1.0)"
   ]
  },
  {
   "cell_type": "code",
   "execution_count": 99,
   "id": "0064f8bb",
   "metadata": {},
   "outputs": [
    {
     "data": {
      "text/plain": [
       "SVC(kernel='sigmoid')"
      ]
     },
     "execution_count": 99,
     "metadata": {},
     "output_type": "execute_result"
    }
   ],
   "source": [
    "svcsigmoid1.fit(X_train,y_train)"
   ]
  },
  {
   "cell_type": "code",
   "execution_count": 100,
   "id": "ba9917f0",
   "metadata": {},
   "outputs": [],
   "source": [
    "y_pred=svcsigmoid1.predict(X_test)"
   ]
  },
  {
   "cell_type": "code",
   "execution_count": 101,
   "id": "b7766e8e",
   "metadata": {
    "scrolled": false
   },
   "outputs": [
    {
     "name": "stdout",
     "output_type": "stream",
     "text": [
      "Accuracy is 0.9110036275695285\n"
     ]
    }
   ],
   "source": [
    "acc=accuracy_score(y_test,y_pred)\n",
    "print(f\"Accuracy is {acc}\")"
   ]
  },
  {
   "cell_type": "code",
   "execution_count": 102,
   "id": "885d2caa",
   "metadata": {
    "scrolled": true
   },
   "outputs": [
    {
     "name": "stdout",
     "output_type": "stream",
     "text": [
      "[[3583  204]\n",
      " [ 164  184]]\n"
     ]
    }
   ],
   "source": [
    "cm = confusion_matrix(y_pred,y_test)\n",
    "print(cm)"
   ]
  },
  {
   "cell_type": "code",
   "execution_count": 103,
   "id": "5af0aebb",
   "metadata": {
    "scrolled": true
   },
   "outputs": [
    {
     "data": {
      "text/plain": [
       "<AxesSubplot:>"
      ]
     },
     "execution_count": 103,
     "metadata": {},
     "output_type": "execute_result"
    },
    {
     "data": {
      "image/png": "[encoded data removed]",
      "text/plain": [
       "<Figure size 640x480 with 2 Axes>"
      ]
     },
     "metadata": {},
     "output_type": "display_data"
    }
   ],
   "source": [
    "sns.heatmap(cm,annot=True, fmt=\".1f\")"
   ]
  },
  {
   "cell_type": "code",
   "execution_count": 104,
   "id": "7b606329",
   "metadata": {
    "scrolled": false
   },
   "outputs": [
    {
     "name": "stdout",
     "output_type": "stream",
     "text": [
      "              precision    recall  f1-score   support\n",
      "\n",
      "         0.0       0.95      0.96      0.95      3747\n",
      "         1.0       0.53      0.47      0.50       388\n",
      "\n",
      "    accuracy                           0.91      4135\n",
      "   macro avg       0.74      0.72      0.73      4135\n",
      "weighted avg       0.91      0.91      0.91      4135\n",
      "\n"
     ]
    }
   ],
   "source": [
    "report = classification_report(y_test, y_pred)\n",
    "print(report)"
   ]
  },
  {
   "cell_type": "markdown",
   "id": "e6e2c730",
   "metadata": {},
   "source": [
    "## Sigmoid kernel and C=10.0 "
   ]
  },
  {
   "cell_type": "code",
   "execution_count": 105,
   "id": "0e664e09",
   "metadata": {},
   "outputs": [],
   "source": [
    "svcsigmoid10=SVC(kernel='sigmoid',C=10.0)"
   ]
  },
  {
   "cell_type": "code",
   "execution_count": 106,
   "id": "73f14c0d",
   "metadata": {},
   "outputs": [
    {
     "data": {
      "text/plain": [
       "SVC(C=10.0, kernel='sigmoid')"
      ]
     },
     "execution_count": 106,
     "metadata": {},
     "output_type": "execute_result"
    }
   ],
   "source": [
    "svcsigmoid10.fit(X_train,y_train)"
   ]
  },
  {
   "cell_type": "code",
   "execution_count": 107,
   "id": "15ba61b8",
   "metadata": {},
   "outputs": [],
   "source": [
    "y_pred=svcsigmoid10.predict(X_test)"
   ]
  },
  {
   "cell_type": "code",
   "execution_count": 108,
   "id": "5a9567a4",
   "metadata": {
    "scrolled": false
   },
   "outputs": [
    {
     "name": "stdout",
     "output_type": "stream",
     "text": [
      "Accuracy is 0.9068923821039904\n"
     ]
    }
   ],
   "source": [
    "acc=accuracy_score(y_test,y_pred)\n",
    "print(f\"Accuracy is {acc}\")"
   ]
  },
  {
   "cell_type": "code",
   "execution_count": 109,
   "id": "d8191d1c",
   "metadata": {
    "scrolled": true
   },
   "outputs": [
    {
     "name": "stdout",
     "output_type": "stream",
     "text": [
      "[[3564  202]\n",
      " [ 183  186]]\n"
     ]
    }
   ],
   "source": [
    "cm = confusion_matrix(y_pred,y_test)\n",
    "print(cm)"
   ]
  },
  {
   "cell_type": "code",
   "execution_count": 110,
   "id": "6882447f",
   "metadata": {
    "scrolled": true
   },
   "outputs": [
    {
     "data": {
      "text/plain": [
       "<AxesSubplot:>"
      ]
     },
     "execution_count": 110,
     "metadata": {},
     "output_type": "execute_result"
    },
    {
     "data": {
      "image/png": "[encoded data removed]",
      "text/plain": [
       "<Figure size 640x480 with 2 Axes>"
      ]
     },
     "metadata": {},
     "output_type": "display_data"
    }
   ],
   "source": [
    "sns.heatmap(cm,annot=True, fmt=\".1f\")"
   ]
  },
  {
   "cell_type": "code",
   "execution_count": 112,
   "id": "62c64ebc",
   "metadata": {
    "scrolled": false
   },
   "outputs": [
    {
     "name": "stdout",
     "output_type": "stream",
     "text": [
      "              precision    recall  f1-score   support\n",
      "\n",
      "         0.0       0.95      0.95      0.95      3747\n",
      "         1.0       0.50      0.48      0.49       388\n",
      "\n",
      "    accuracy                           0.91      4135\n",
      "   macro avg       0.73      0.72      0.72      4135\n",
      "weighted avg       0.90      0.91      0.91      4135\n",
      "\n"
     ]
    },
    {
     "data": {
      "image/png": "[encoded data removed]",
      "text/plain": [
       "<Figure size 640x480 with 2 Axes>"
      ]
     },
     "metadata": {},
     "output_type": "display_data"
    }
   ],
   "source": [
    "report = classification_report(y_test, y_pred)\n",
    "print(report)"
   ]
  },
  {
   "cell_type": "markdown",
   "id": "22c141bf",
   "metadata": {},
   "source": [
    "## Sigmoid kernel and C=20.0 "
   ]
  },
  {
   "cell_type": "code",
   "execution_count": 113,
   "id": "5751e3e1",
   "metadata": {},
   "outputs": [],
   "source": [
    "svcsigmoid20=SVC(kernel='sigmoid',C=20.0)"
   ]
  },
  {
   "cell_type": "code",
   "execution_count": 114,
   "id": "0db323fe",
   "metadata": {},
   "outputs": [
    {
     "data": {
      "text/plain": [
       "SVC(C=20.0, kernel='sigmoid')"
      ]
     },
     "execution_count": 114,
     "metadata": {},
     "output_type": "execute_result"
    }
   ],
   "source": [
    "svcsigmoid20.fit(X_train,y_train)"
   ]
  },
  {
   "cell_type": "code",
   "execution_count": 115,
   "id": "f1ef7fba",
   "metadata": {},
   "outputs": [],
   "source": [
    "y_pred=svcsigmoid20.predict(X_test)"
   ]
  },
  {
   "cell_type": "code",
   "execution_count": 116,
   "id": "85ae2a48",
   "metadata": {
    "scrolled": false
   },
   "outputs": [
    {
     "name": "stdout",
     "output_type": "stream",
     "text": [
      "Accuracy is 0.9066505441354292\n"
     ]
    }
   ],
   "source": [
    "acc=accuracy_score(y_test,y_pred)\n",
    "print(f\"Accuracy is {acc}\")"
   ]
  },
  {
   "cell_type": "code",
   "execution_count": 117,
   "id": "3da4791e",
   "metadata": {
    "scrolled": true
   },
   "outputs": [
    {
     "name": "stdout",
     "output_type": "stream",
     "text": [
      "[[3563  202]\n",
      " [ 184  186]]\n"
     ]
    }
   ],
   "source": [
    "cm = confusion_matrix(y_pred,y_test)\n",
    "print(cm)"
   ]
  },
  {
   "cell_type": "code",
   "execution_count": 118,
   "id": "72aac136",
   "metadata": {
    "scrolled": true
   },
   "outputs": [
    {
     "data": {
      "text/plain": [
       "<AxesSubplot:>"
      ]
     },
     "execution_count": 118,
     "metadata": {},
     "output_type": "execute_result"
    },
    {
     "data": {
      "image/png": "[encoded data removed]",
      "text/plain": [
       "<Figure size 640x480 with 2 Axes>"
      ]
     },
     "metadata": {},
     "output_type": "display_data"
    }
   ],
   "source": [
    "sns.heatmap(cm,annot=True, fmt=\".1f\")"
   ]
  },
  {
   "cell_type": "code",
   "execution_count": 119,
   "id": "3106586b",
   "metadata": {
    "scrolled": false
   },
   "outputs": [
    {
     "name": "stdout",
     "output_type": "stream",
     "text": [
      "              precision    recall  f1-score   support\n",
      "\n",
      "         0.0       0.95      0.95      0.95      3747\n",
      "         1.0       0.50      0.48      0.49       388\n",
      "\n",
      "    accuracy                           0.91      4135\n",
      "   macro avg       0.72      0.72      0.72      4135\n",
      "weighted avg       0.90      0.91      0.91      4135\n",
      "\n"
     ]
    }
   ],
   "source": [
    "report = classification_report(y_test, y_pred)\n",
    "print(report)"
   ]
  },
  {
   "cell_type": "code",
   "execution_count": null,
   "id": "c4c6b421",
   "metadata": {},
   "outputs": [],
   "source": []
  },
  {
   "cell_type": "code",
   "execution_count": null,
   "id": "745ac4c9",
   "metadata": {},
   "outputs": [],
   "source": []
  }
 ],
 "metadata": {
  "kernelspec": {
   "display_name": "Python 3 (ipykernel)",
   "language": "python",
   "name": "python3"
  },
  "language_info": {
   "codemirror_mode": {
    "name": "ipython",
    "version": 3
   },
   "file_extension": ".py",
   "mimetype": "text/x-python",
   "name": "python",
   "nbconvert_exporter": "python",
   "pygments_lexer": "ipython3",
   "version": "3.11.5"
  }
 },
 "nbformat": 4,
 "nbformat_minor": 5
}

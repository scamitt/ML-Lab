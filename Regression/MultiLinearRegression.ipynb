{
 "cells": [
  {
   "cell_type": "code",
   "execution_count": 1,
   "id": "f2f6b9c9-5b6b-4fb8-a85f-c5f5dd2110ab",
   "metadata": {},
   "outputs": [],
   "source": [
    "import pandas as pd\n",
    "import numpy as np\n",
    "import matplotlib.pyplot as plt"
   ]
  },
  {
   "cell_type": "code",
   "execution_count": 2,
   "id": "a5b23853-621d-481a-be7e-4a2854a491b7",
   "metadata": {},
   "outputs": [
    {
     "data": {
      "text/html": [
       "<div>\n",
       "<style scoped>\n",
       "    .dataframe tbody tr th:only-of-type {\n",
       "        vertical-align: middle;\n",
       "    }\n",
       "\n",
       "    .dataframe tbody tr th {\n",
       "        vertical-align: top;\n",
       "    }\n",
       "\n",
       "    .dataframe thead th {\n",
       "        text-align: right;\n",
       "    }\n",
       "</style>\n",
       "<table border=\"1\" class=\"dataframe\">\n",
       "  <thead>\n",
       "    <tr style=\"text-align: right;\">\n",
       "      <th></th>\n",
       "      <th>x1</th>\n",
       "      <th>x2</th>\n",
       "      <th>y</th>\n",
       "    </tr>\n",
       "  </thead>\n",
       "  <tbody>\n",
       "    <tr>\n",
       "      <th>0</th>\n",
       "      <td>3</td>\n",
       "      <td>8</td>\n",
       "      <td>-3.7</td>\n",
       "    </tr>\n",
       "    <tr>\n",
       "      <th>1</th>\n",
       "      <td>4</td>\n",
       "      <td>5</td>\n",
       "      <td>3.5</td>\n",
       "    </tr>\n",
       "    <tr>\n",
       "      <th>2</th>\n",
       "      <td>5</td>\n",
       "      <td>7</td>\n",
       "      <td>2.5</td>\n",
       "    </tr>\n",
       "    <tr>\n",
       "      <th>3</th>\n",
       "      <td>6</td>\n",
       "      <td>3</td>\n",
       "      <td>11.5</td>\n",
       "    </tr>\n",
       "    <tr>\n",
       "      <th>4</th>\n",
       "      <td>2</td>\n",
       "      <td>1</td>\n",
       "      <td>5.7</td>\n",
       "    </tr>\n",
       "  </tbody>\n",
       "</table>\n",
       "</div>"
      ],
      "text/plain": [
       "   x1  x2     y\n",
       "0   3   8  -3.7\n",
       "1   4   5   3.5\n",
       "2   5   7   2.5\n",
       "3   6   3  11.5\n",
       "4   2   1   5.7"
      ]
     },
     "execution_count": 2,
     "metadata": {},
     "output_type": "execute_result"
    }
   ],
   "source": [
    "df1 = pd.read_csv('MultiLinReg.csv')\n",
    "df1"
   ]
  },
  {
   "cell_type": "code",
   "execution_count": 3,
   "id": "7f0b3db4-b7bb-4357-b730-997fdf67ae34",
   "metadata": {},
   "outputs": [
    {
     "data": {
      "text/plain": [
       "4.0"
      ]
     },
     "execution_count": 3,
     "metadata": {},
     "output_type": "execute_result"
    }
   ],
   "source": [
    "x1_avg = df1.x1.mean()\n",
    "x1_avg"
   ]
  },
  {
   "cell_type": "code",
   "execution_count": 4,
   "id": "353e9af4-b8db-45a0-a67d-eb5080e4121d",
   "metadata": {},
   "outputs": [
    {
     "data": {
      "text/plain": [
       "4.8"
      ]
     },
     "execution_count": 4,
     "metadata": {},
     "output_type": "execute_result"
    }
   ],
   "source": [
    "x2_avg = df1.x2.mean()\n",
    "x2_avg"
   ]
  },
  {
   "cell_type": "code",
   "execution_count": 5,
   "id": "d17811cd-e78a-418a-ab30-fefcfa3f9123",
   "metadata": {},
   "outputs": [
    {
     "data": {
      "text/plain": [
       "3.9"
      ]
     },
     "execution_count": 5,
     "metadata": {},
     "output_type": "execute_result"
    }
   ],
   "source": [
    "y_avg = df1.y.mean()\n",
    "y_avg"
   ]
  },
  {
   "cell_type": "code",
   "execution_count": 6,
   "id": "5aca2176-677b-4e86-b8ed-bcb850042eea",
   "metadata": {},
   "outputs": [
    {
     "data": {
      "text/html": [
       "<div>\n",
       "<style scoped>\n",
       "    .dataframe tbody tr th:only-of-type {\n",
       "        vertical-align: middle;\n",
       "    }\n",
       "\n",
       "    .dataframe tbody tr th {\n",
       "        vertical-align: top;\n",
       "    }\n",
       "\n",
       "    .dataframe thead th {\n",
       "        text-align: right;\n",
       "    }\n",
       "</style>\n",
       "<table border=\"1\" class=\"dataframe\">\n",
       "  <thead>\n",
       "    <tr style=\"text-align: right;\">\n",
       "      <th></th>\n",
       "      <th>x1</th>\n",
       "      <th>x2</th>\n",
       "      <th>y</th>\n",
       "      <th>x1x1</th>\n",
       "      <th>x2x2</th>\n",
       "      <th>x1x2</th>\n",
       "      <th>x1y</th>\n",
       "      <th>x2y</th>\n",
       "    </tr>\n",
       "  </thead>\n",
       "  <tbody>\n",
       "    <tr>\n",
       "      <th>0</th>\n",
       "      <td>3</td>\n",
       "      <td>8</td>\n",
       "      <td>-3.7</td>\n",
       "      <td>9</td>\n",
       "      <td>64</td>\n",
       "      <td>24</td>\n",
       "      <td>-11.1</td>\n",
       "      <td>-29.6</td>\n",
       "    </tr>\n",
       "    <tr>\n",
       "      <th>1</th>\n",
       "      <td>4</td>\n",
       "      <td>5</td>\n",
       "      <td>3.5</td>\n",
       "      <td>16</td>\n",
       "      <td>25</td>\n",
       "      <td>20</td>\n",
       "      <td>14.0</td>\n",
       "      <td>17.5</td>\n",
       "    </tr>\n",
       "    <tr>\n",
       "      <th>2</th>\n",
       "      <td>5</td>\n",
       "      <td>7</td>\n",
       "      <td>2.5</td>\n",
       "      <td>25</td>\n",
       "      <td>49</td>\n",
       "      <td>35</td>\n",
       "      <td>12.5</td>\n",
       "      <td>17.5</td>\n",
       "    </tr>\n",
       "    <tr>\n",
       "      <th>3</th>\n",
       "      <td>6</td>\n",
       "      <td>3</td>\n",
       "      <td>11.5</td>\n",
       "      <td>36</td>\n",
       "      <td>9</td>\n",
       "      <td>18</td>\n",
       "      <td>69.0</td>\n",
       "      <td>34.5</td>\n",
       "    </tr>\n",
       "    <tr>\n",
       "      <th>4</th>\n",
       "      <td>2</td>\n",
       "      <td>1</td>\n",
       "      <td>5.7</td>\n",
       "      <td>4</td>\n",
       "      <td>1</td>\n",
       "      <td>2</td>\n",
       "      <td>11.4</td>\n",
       "      <td>5.7</td>\n",
       "    </tr>\n",
       "  </tbody>\n",
       "</table>\n",
       "</div>"
      ],
      "text/plain": [
       "   x1  x2     y  x1x1  x2x2  x1x2   x1y   x2y\n",
       "0   3   8  -3.7     9    64    24 -11.1 -29.6\n",
       "1   4   5   3.5    16    25    20  14.0  17.5\n",
       "2   5   7   2.5    25    49    35  12.5  17.5\n",
       "3   6   3  11.5    36     9    18  69.0  34.5\n",
       "4   2   1   5.7     4     1     2  11.4   5.7"
      ]
     },
     "execution_count": 6,
     "metadata": {},
     "output_type": "execute_result"
    }
   ],
   "source": [
    "df1['x1x1'] = df1['x1']**2\n",
    "df1['x2x2'] = df1['x2']**2\n",
    "df1['x1x2'] = df1['x1']*df1['x2']\n",
    "df1['x1y']= df1['x1']*df1['y']\n",
    "df1['x2y']= df1['x2']*df1['y']\n",
    "df1"
   ]
  },
  {
   "cell_type": "code",
   "execution_count": 7,
   "id": "9193628b-96d5-4410-8cdd-fe9fb52d13a5",
   "metadata": {},
   "outputs": [],
   "source": [
    "x1s = df1.x1.sum()\n",
    "x2s = df1.x2.sum()\n",
    "ys = df1.y.sum()\n",
    "x1x1s = df1.x1x1.sum()\n",
    "x2x2s = df1.x2x2.sum()\n",
    "x1x2s = df1.x1x2.sum()\n",
    "x1ys = df1.x1y.sum()\n",
    "x2ys = df1.x2y.sum()"
   ]
  },
  {
   "cell_type": "code",
   "execution_count": 8,
   "id": "66757b19-c191-4039-b91f-001c954e0741",
   "metadata": {},
   "outputs": [],
   "source": [
    "p = x1x1s - (x1s**2)/5\n",
    "q = x2x2s - (x2s**2)/5\n",
    "r = x1ys - (x1s*ys)/5\n",
    "s = x2ys - (x2s*ys)/5\n",
    "t = x1x2s - (x1s*x2s)/5"
   ]
  },
  {
   "cell_type": "code",
   "execution_count": 9,
   "id": "d3313dac-763b-4524-b7a8-74ced826a52b",
   "metadata": {},
   "outputs": [
    {
     "data": {
      "text/plain": [
       "2.2816300940438885"
      ]
     },
     "execution_count": 9,
     "metadata": {},
     "output_type": "execute_result"
    }
   ],
   "source": [
    "b1 = (q*r - t*s)/(p*q-t**2)\n",
    "b1"
   ]
  },
  {
   "cell_type": "code",
   "execution_count": 10,
   "id": "65678435-f651-4c7d-9817-1f404d4e082c",
   "metadata": {},
   "outputs": [
    {
     "data": {
      "text/plain": [
       "-1.6721003134796237"
      ]
     },
     "execution_count": 10,
     "metadata": {},
     "output_type": "execute_result"
    }
   ],
   "source": [
    "b2 = (p*s - t*r)/(p*q-t**2)\n",
    "b2"
   ]
  },
  {
   "cell_type": "code",
   "execution_count": 11,
   "id": "66417ffc-8256-458d-87a9-692368e7871e",
   "metadata": {},
   "outputs": [
    {
     "data": {
      "text/plain": [
       "2.7995611285266406"
      ]
     },
     "execution_count": 11,
     "metadata": {},
     "output_type": "execute_result"
    }
   ],
   "source": [
    "a = y_avg - b1*x1_avg - b2*x2_avg\n",
    "a"
   ]
  },
  {
   "cell_type": "code",
   "execution_count": 12,
   "id": "8dd976d2-9250-4506-af72-6435d303b58c",
   "metadata": {},
   "outputs": [
    {
     "name": "stdout",
     "output_type": "stream",
     "text": [
      "Linear Regression equation: y =  2.7995611285266406  +  2.2816300940438885 x1 +  -1.6721003134796237 x2\n"
     ]
    }
   ],
   "source": [
    "print('Linear Regression equation:','y = ',a,' + ',b1,'x1 + ',b2,'x2')"
   ]
  },
  {
   "cell_type": "code",
   "execution_count": 13,
   "id": "6aaa38aa-7202-498d-9f15-8627f0d882d2",
   "metadata": {},
   "outputs": [
    {
     "name": "stdout",
     "output_type": "stream",
     "text": [
      "When x1=3 and x2=2, y=  6.300250783699058\n"
     ]
    }
   ],
   "source": [
    "y_ = a + b1*3 + b2*2\n",
    "print ('When x1=3 and x2=2, y= ', y_)"
   ]
  },
  {
   "cell_type": "markdown",
   "id": "bcab6fa0-b057-4b08-b4b4-42e668ea00a0",
   "metadata": {},
   "source": [
    "## Q2. Random integer dataset"
   ]
  },
  {
   "cell_type": "code",
   "execution_count": 14,
   "id": "cbd00b9f-585a-4004-ac35-ef62464483b0",
   "metadata": {},
   "outputs": [],
   "source": [
    "import random\n",
    "n=10\n",
    "x2=[]\n",
    "for i in range(n):\n",
    "    x2.append(random.randint(1,10))\n",
    "    \n",
    "y=[]\n",
    "n=10\n",
    "for i in range(n):\n",
    "    y.append(random.randint(5,15))"
   ]
  },
  {
   "cell_type": "code",
   "execution_count": 15,
   "id": "0856cf7a-d0cd-47d9-bda5-30c99f2c2fde",
   "metadata": {},
   "outputs": [
    {
     "data": {
      "text/plain": [
       "[2, 5, 5, 10, 4, 6, 5, 1, 6, 5]"
      ]
     },
     "execution_count": 15,
     "metadata": {},
     "output_type": "execute_result"
    }
   ],
   "source": [
    "x2"
   ]
  },
  {
   "cell_type": "code",
   "execution_count": 16,
   "id": "cac3fd8b-5f7e-4dcd-824d-e48bfe44f111",
   "metadata": {},
   "outputs": [
    {
     "data": {
      "text/plain": [
       "[15, 12, 5, 11, 13, 12, 11, 13, 13, 13]"
      ]
     },
     "execution_count": 16,
     "metadata": {},
     "output_type": "execute_result"
    }
   ],
   "source": [
    "y"
   ]
  },
  {
   "cell_type": "code",
   "execution_count": 17,
   "id": "44cb8e39-de16-472d-8ade-53dadeb13f64",
   "metadata": {},
   "outputs": [
    {
     "data": {
      "text/plain": [
       "{'x1': [1, 2, 3, 4, 5, 6, 7, 8, 9, 10],\n",
       " 'x2': [2, 5, 5, 10, 4, 6, 5, 1, 6, 5],\n",
       " 'y': [15, 12, 5, 11, 13, 12, 11, 13, 13, 13]}"
      ]
     },
     "execution_count": 17,
     "metadata": {},
     "output_type": "execute_result"
    }
   ],
   "source": [
    "mlr = {'x1':[1,2,3,4,5,6,7,8,9,10], 'x2':x2, 'y':y}\n",
    "mlr"
   ]
  },
  {
   "cell_type": "code",
   "execution_count": 18,
   "id": "e74af865-6e99-4c5b-91b6-e027e5c8babd",
   "metadata": {},
   "outputs": [
    {
     "data": {
      "text/html": [
       "<div>\n",
       "<style scoped>\n",
       "    .dataframe tbody tr th:only-of-type {\n",
       "        vertical-align: middle;\n",
       "    }\n",
       "\n",
       "    .dataframe tbody tr th {\n",
       "        vertical-align: top;\n",
       "    }\n",
       "\n",
       "    .dataframe thead th {\n",
       "        text-align: right;\n",
       "    }\n",
       "</style>\n",
       "<table border=\"1\" class=\"dataframe\">\n",
       "  <thead>\n",
       "    <tr style=\"text-align: right;\">\n",
       "      <th></th>\n",
       "      <th>x1</th>\n",
       "      <th>x2</th>\n",
       "      <th>y</th>\n",
       "    </tr>\n",
       "  </thead>\n",
       "  <tbody>\n",
       "    <tr>\n",
       "      <th>0</th>\n",
       "      <td>1</td>\n",
       "      <td>2</td>\n",
       "      <td>15</td>\n",
       "    </tr>\n",
       "    <tr>\n",
       "      <th>1</th>\n",
       "      <td>2</td>\n",
       "      <td>5</td>\n",
       "      <td>12</td>\n",
       "    </tr>\n",
       "    <tr>\n",
       "      <th>2</th>\n",
       "      <td>3</td>\n",
       "      <td>5</td>\n",
       "      <td>5</td>\n",
       "    </tr>\n",
       "    <tr>\n",
       "      <th>3</th>\n",
       "      <td>4</td>\n",
       "      <td>10</td>\n",
       "      <td>11</td>\n",
       "    </tr>\n",
       "    <tr>\n",
       "      <th>4</th>\n",
       "      <td>5</td>\n",
       "      <td>4</td>\n",
       "      <td>13</td>\n",
       "    </tr>\n",
       "    <tr>\n",
       "      <th>5</th>\n",
       "      <td>6</td>\n",
       "      <td>6</td>\n",
       "      <td>12</td>\n",
       "    </tr>\n",
       "    <tr>\n",
       "      <th>6</th>\n",
       "      <td>7</td>\n",
       "      <td>5</td>\n",
       "      <td>11</td>\n",
       "    </tr>\n",
       "    <tr>\n",
       "      <th>7</th>\n",
       "      <td>8</td>\n",
       "      <td>1</td>\n",
       "      <td>13</td>\n",
       "    </tr>\n",
       "    <tr>\n",
       "      <th>8</th>\n",
       "      <td>9</td>\n",
       "      <td>6</td>\n",
       "      <td>13</td>\n",
       "    </tr>\n",
       "    <tr>\n",
       "      <th>9</th>\n",
       "      <td>10</td>\n",
       "      <td>5</td>\n",
       "      <td>13</td>\n",
       "    </tr>\n",
       "  </tbody>\n",
       "</table>\n",
       "</div>"
      ],
      "text/plain": [
       "   x1  x2   y\n",
       "0   1   2  15\n",
       "1   2   5  12\n",
       "2   3   5   5\n",
       "3   4  10  11\n",
       "4   5   4  13\n",
       "5   6   6  12\n",
       "6   7   5  11\n",
       "7   8   1  13\n",
       "8   9   6  13\n",
       "9  10   5  13"
      ]
     },
     "execution_count": 18,
     "metadata": {},
     "output_type": "execute_result"
    }
   ],
   "source": [
    "df2 = pd.DataFrame(mlr) \n",
    "df2"
   ]
  },
  {
   "cell_type": "code",
   "execution_count": 19,
   "id": "5f8cd237-fa76-477e-abf5-5025c8291250",
   "metadata": {},
   "outputs": [
    {
     "data": {
      "text/plain": [
       "5.5"
      ]
     },
     "execution_count": 19,
     "metadata": {},
     "output_type": "execute_result"
    }
   ],
   "source": [
    "x1_avg = df2.x1.mean()\n",
    "x1_avg"
   ]
  },
  {
   "cell_type": "code",
   "execution_count": 20,
   "id": "9e6e65ad-ae1d-4df7-b052-fc37600419ae",
   "metadata": {},
   "outputs": [
    {
     "data": {
      "text/plain": [
       "4.9"
      ]
     },
     "execution_count": 20,
     "metadata": {},
     "output_type": "execute_result"
    }
   ],
   "source": [
    "x2_avg = df2.x2.mean()\n",
    "x2_avg"
   ]
  },
  {
   "cell_type": "code",
   "execution_count": 21,
   "id": "f44db85a-fe92-4a35-b943-e87844851445",
   "metadata": {},
   "outputs": [
    {
     "data": {
      "text/plain": [
       "11.8"
      ]
     },
     "execution_count": 21,
     "metadata": {},
     "output_type": "execute_result"
    }
   ],
   "source": [
    "y_avg = df2.y.mean()\n",
    "y_avg"
   ]
  },
  {
   "cell_type": "code",
   "execution_count": 22,
   "id": "b543c9e0-b6ea-4e2c-90f5-25b2b6254cb0",
   "metadata": {},
   "outputs": [
    {
     "data": {
      "text/html": [
       "<div>\n",
       "<style scoped>\n",
       "    .dataframe tbody tr th:only-of-type {\n",
       "        vertical-align: middle;\n",
       "    }\n",
       "\n",
       "    .dataframe tbody tr th {\n",
       "        vertical-align: top;\n",
       "    }\n",
       "\n",
       "    .dataframe thead th {\n",
       "        text-align: right;\n",
       "    }\n",
       "</style>\n",
       "<table border=\"1\" class=\"dataframe\">\n",
       "  <thead>\n",
       "    <tr style=\"text-align: right;\">\n",
       "      <th></th>\n",
       "      <th>x1</th>\n",
       "      <th>x2</th>\n",
       "      <th>y</th>\n",
       "      <th>x1x1</th>\n",
       "      <th>x2x2</th>\n",
       "      <th>x1x2</th>\n",
       "      <th>x1y</th>\n",
       "      <th>x2y</th>\n",
       "    </tr>\n",
       "  </thead>\n",
       "  <tbody>\n",
       "    <tr>\n",
       "      <th>0</th>\n",
       "      <td>1</td>\n",
       "      <td>2</td>\n",
       "      <td>15</td>\n",
       "      <td>1</td>\n",
       "      <td>4</td>\n",
       "      <td>2</td>\n",
       "      <td>15</td>\n",
       "      <td>30</td>\n",
       "    </tr>\n",
       "    <tr>\n",
       "      <th>1</th>\n",
       "      <td>2</td>\n",
       "      <td>5</td>\n",
       "      <td>12</td>\n",
       "      <td>4</td>\n",
       "      <td>25</td>\n",
       "      <td>10</td>\n",
       "      <td>24</td>\n",
       "      <td>60</td>\n",
       "    </tr>\n",
       "    <tr>\n",
       "      <th>2</th>\n",
       "      <td>3</td>\n",
       "      <td>5</td>\n",
       "      <td>5</td>\n",
       "      <td>9</td>\n",
       "      <td>25</td>\n",
       "      <td>15</td>\n",
       "      <td>15</td>\n",
       "      <td>25</td>\n",
       "    </tr>\n",
       "    <tr>\n",
       "      <th>3</th>\n",
       "      <td>4</td>\n",
       "      <td>10</td>\n",
       "      <td>11</td>\n",
       "      <td>16</td>\n",
       "      <td>100</td>\n",
       "      <td>40</td>\n",
       "      <td>44</td>\n",
       "      <td>110</td>\n",
       "    </tr>\n",
       "    <tr>\n",
       "      <th>4</th>\n",
       "      <td>5</td>\n",
       "      <td>4</td>\n",
       "      <td>13</td>\n",
       "      <td>25</td>\n",
       "      <td>16</td>\n",
       "      <td>20</td>\n",
       "      <td>65</td>\n",
       "      <td>52</td>\n",
       "    </tr>\n",
       "    <tr>\n",
       "      <th>5</th>\n",
       "      <td>6</td>\n",
       "      <td>6</td>\n",
       "      <td>12</td>\n",
       "      <td>36</td>\n",
       "      <td>36</td>\n",
       "      <td>36</td>\n",
       "      <td>72</td>\n",
       "      <td>72</td>\n",
       "    </tr>\n",
       "    <tr>\n",
       "      <th>6</th>\n",
       "      <td>7</td>\n",
       "      <td>5</td>\n",
       "      <td>11</td>\n",
       "      <td>49</td>\n",
       "      <td>25</td>\n",
       "      <td>35</td>\n",
       "      <td>77</td>\n",
       "      <td>55</td>\n",
       "    </tr>\n",
       "    <tr>\n",
       "      <th>7</th>\n",
       "      <td>8</td>\n",
       "      <td>1</td>\n",
       "      <td>13</td>\n",
       "      <td>64</td>\n",
       "      <td>1</td>\n",
       "      <td>8</td>\n",
       "      <td>104</td>\n",
       "      <td>13</td>\n",
       "    </tr>\n",
       "    <tr>\n",
       "      <th>8</th>\n",
       "      <td>9</td>\n",
       "      <td>6</td>\n",
       "      <td>13</td>\n",
       "      <td>81</td>\n",
       "      <td>36</td>\n",
       "      <td>54</td>\n",
       "      <td>117</td>\n",
       "      <td>78</td>\n",
       "    </tr>\n",
       "    <tr>\n",
       "      <th>9</th>\n",
       "      <td>10</td>\n",
       "      <td>5</td>\n",
       "      <td>13</td>\n",
       "      <td>100</td>\n",
       "      <td>25</td>\n",
       "      <td>50</td>\n",
       "      <td>130</td>\n",
       "      <td>65</td>\n",
       "    </tr>\n",
       "  </tbody>\n",
       "</table>\n",
       "</div>"
      ],
      "text/plain": [
       "   x1  x2   y  x1x1  x2x2  x1x2  x1y  x2y\n",
       "0   1   2  15     1     4     2   15   30\n",
       "1   2   5  12     4    25    10   24   60\n",
       "2   3   5   5     9    25    15   15   25\n",
       "3   4  10  11    16   100    40   44  110\n",
       "4   5   4  13    25    16    20   65   52\n",
       "5   6   6  12    36    36    36   72   72\n",
       "6   7   5  11    49    25    35   77   55\n",
       "7   8   1  13    64     1     8  104   13\n",
       "8   9   6  13    81    36    54  117   78\n",
       "9  10   5  13   100    25    50  130   65"
      ]
     },
     "execution_count": 22,
     "metadata": {},
     "output_type": "execute_result"
    }
   ],
   "source": [
    "df2['x1x1'] = df2['x1']**2\n",
    "df2['x2x2'] = df2['x2']**2\n",
    "df2['x1x2'] = df2['x1']*df2['x2']\n",
    "df2['x1y']= df2['x1']*df2['y']\n",
    "df2['x2y']= df2['x2']*df2['y']\n",
    "df2"
   ]
  },
  {
   "cell_type": "code",
   "execution_count": 23,
   "id": "5a90876a-e14e-435e-85c5-4c9de261ef5b",
   "metadata": {},
   "outputs": [],
   "source": [
    "x1s = df2.x1.sum()\n",
    "x2s = df2.x2.sum()\n",
    "ys = df2.y.sum()\n",
    "x1x1s = df2.x1x1.sum()\n",
    "x2x2s = df2.x2x2.sum()\n",
    "x1x2s = df2.x1x2.sum()\n",
    "x1ys = df2.x1y.sum()\n",
    "x2ys = df2.x2y.sum()"
   ]
  },
  {
   "cell_type": "code",
   "execution_count": 24,
   "id": "866ba477-eb6d-4175-ba62-60126cff68f9",
   "metadata": {},
   "outputs": [],
   "source": [
    "p = x1x1s - (x1s**2)/5\n",
    "q = x2x2s - (x2s**2)/5\n",
    "r = x1ys - (x1s*ys)/5\n",
    "s = x2ys - (x2s*ys)/5\n",
    "t = x1x2s - (x1s*x2s)/5"
   ]
  },
  {
   "cell_type": "code",
   "execution_count": 25,
   "id": "c99f3c20-5bb8-45fc-9d0e-d6534c89e0c6",
   "metadata": {},
   "outputs": [
    {
     "data": {
      "text/plain": [
       "1.3330211373769136"
      ]
     },
     "execution_count": 25,
     "metadata": {},
     "output_type": "execute_result"
    }
   ],
   "source": [
    "b1 = (q*r - t*s)/(p*q-t**2)\n",
    "b1"
   ]
  },
  {
   "cell_type": "code",
   "execution_count": 26,
   "id": "a141350e-8ec6-427d-aa1e-400d6d34705d",
   "metadata": {},
   "outputs": [
    {
     "data": {
      "text/plain": [
       "1.2703916348590298"
      ]
     },
     "execution_count": 26,
     "metadata": {},
     "output_type": "execute_result"
    }
   ],
   "source": [
    "b2 = (p*s - t*r)/(p*q-t**2)\n",
    "b2"
   ]
  },
  {
   "cell_type": "code",
   "execution_count": 27,
   "id": "726d26ec-5d41-4b9a-9a4d-ddda72aaebaf",
   "metadata": {},
   "outputs": [
    {
     "data": {
      "text/plain": [
       "-1.7565352663822713"
      ]
     },
     "execution_count": 27,
     "metadata": {},
     "output_type": "execute_result"
    }
   ],
   "source": [
    "a = y_avg - b1*x1_avg - b2*x2_avg\n",
    "a"
   ]
  },
  {
   "cell_type": "code",
   "execution_count": 28,
   "id": "86e2274b-4b78-4ec7-b78e-6c331178e43b",
   "metadata": {},
   "outputs": [
    {
     "name": "stdout",
     "output_type": "stream",
     "text": [
      "Linear Regression equation is:\n",
      "y =  -1.7565352663822713  +  1.3330211373769136 x1 +  1.2703916348590298 x2\n"
     ]
    }
   ],
   "source": [
    "print('Linear Regression equation is:')\n",
    "print('y = ',a,' + ',b1,'x1 + ',b2,'x2')"
   ]
  },
  {
   "cell_type": "code",
   "execution_count": 29,
   "id": "4d828a10-902c-42e7-bc6d-9d2ca7cb1246",
   "metadata": {},
   "outputs": [
    {
     "name": "stdout",
     "output_type": "stream",
     "text": [
      "When x1=6 and x2=-2, y=  3.7008082881611504\n"
     ]
    }
   ],
   "source": [
    "y_ = a + b1*6 + b2*(-2)\n",
    "print ('When x1=6 and x2=-2, y= ', y_)"
   ]
  },
  {
   "cell_type": "markdown",
   "id": "a54e5c29-b630-4e2c-a9b2-a9b2856b581a",
   "metadata": {},
   "source": [
    "## Q3. Random float dataset"
   ]
  },
  {
   "cell_type": "code",
   "execution_count": 30,
   "id": "c2e83d14-f5cf-4ef7-bf8d-c2130064c4cf",
   "metadata": {},
   "outputs": [
    {
     "name": "stdout",
     "output_type": "stream",
     "text": [
      "[6.49, 7.65, 3.32, 4.3, 2.45, 9.72, 4.52, 5.13, 4.78, 5.26]\n",
      "[9.66, 5.94, 14.14, 13.14, 13.85, 8.04, 6.21, 7.15, 6.04, 13.64]\n"
     ]
    }
   ],
   "source": [
    "import random\n",
    "x2=[]\n",
    "n=10\n",
    "for i in range(n):\n",
    "    x2.append(round(random.uniform(1,10),2))\n",
    "    \n",
    "y=[]\n",
    "n=10\n",
    "for i in range(n):\n",
    "    y.append(round(random.uniform(5,15),2))\n"
   ]
  },
  {
   "cell_type": "code",
   "execution_count": 31,
   "id": "beda7b6a-b43c-4f8f-80cf-d4e88a20dc31",
   "metadata": {},
   "outputs": [
    {
     "data": {
      "text/plain": [
       "[6.49, 7.65, 3.32, 4.3, 2.45, 9.72, 4.52, 5.13, 4.78, 5.26]"
      ]
     },
     "execution_count": 31,
     "metadata": {},
     "output_type": "execute_result"
    }
   ],
   "source": [
    "x2"
   ]
  },
  {
   "cell_type": "code",
   "execution_count": 32,
   "id": "f227ced6-68f9-4674-bc7d-cb080cbc001a",
   "metadata": {},
   "outputs": [
    {
     "data": {
      "text/plain": [
       "[9.66, 5.94, 14.14, 13.14, 13.85, 8.04, 6.21, 7.15, 6.04, 13.64]"
      ]
     },
     "execution_count": 32,
     "metadata": {},
     "output_type": "execute_result"
    }
   ],
   "source": [
    "y"
   ]
  },
  {
   "cell_type": "code",
   "execution_count": 33,
   "id": "81f48701-83e7-4acf-a8eb-b122e6ae12db",
   "metadata": {},
   "outputs": [
    {
     "data": {
      "text/plain": [
       "{'x1': [1, 2, 3, 4, 5, 6, 7, 8, 9, 10],\n",
       " 'x2': [6.49, 7.65, 3.32, 4.3, 2.45, 9.72, 4.52, 5.13, 4.78, 5.26],\n",
       " 'y': [9.66, 5.94, 14.14, 13.14, 13.85, 8.04, 6.21, 7.15, 6.04, 13.64]}"
      ]
     },
     "execution_count": 33,
     "metadata": {},
     "output_type": "execute_result"
    }
   ],
   "source": [
    "mlr = {'x1':[1,2,3,4,5,6,7,8,9,10], 'x2':x2, 'y':y}\n",
    "mlr"
   ]
  },
  {
   "cell_type": "code",
   "execution_count": 34,
   "id": "407dca4d-7678-460d-a499-38fc78b79c29",
   "metadata": {},
   "outputs": [
    {
     "data": {
      "text/html": [
       "<div>\n",
       "<style scoped>\n",
       "    .dataframe tbody tr th:only-of-type {\n",
       "        vertical-align: middle;\n",
       "    }\n",
       "\n",
       "    .dataframe tbody tr th {\n",
       "        vertical-align: top;\n",
       "    }\n",
       "\n",
       "    .dataframe thead th {\n",
       "        text-align: right;\n",
       "    }\n",
       "</style>\n",
       "<table border=\"1\" class=\"dataframe\">\n",
       "  <thead>\n",
       "    <tr style=\"text-align: right;\">\n",
       "      <th></th>\n",
       "      <th>x1</th>\n",
       "      <th>x2</th>\n",
       "      <th>y</th>\n",
       "    </tr>\n",
       "  </thead>\n",
       "  <tbody>\n",
       "    <tr>\n",
       "      <th>0</th>\n",
       "      <td>1</td>\n",
       "      <td>6.49</td>\n",
       "      <td>9.66</td>\n",
       "    </tr>\n",
       "    <tr>\n",
       "      <th>1</th>\n",
       "      <td>2</td>\n",
       "      <td>7.65</td>\n",
       "      <td>5.94</td>\n",
       "    </tr>\n",
       "    <tr>\n",
       "      <th>2</th>\n",
       "      <td>3</td>\n",
       "      <td>3.32</td>\n",
       "      <td>14.14</td>\n",
       "    </tr>\n",
       "    <tr>\n",
       "      <th>3</th>\n",
       "      <td>4</td>\n",
       "      <td>4.30</td>\n",
       "      <td>13.14</td>\n",
       "    </tr>\n",
       "    <tr>\n",
       "      <th>4</th>\n",
       "      <td>5</td>\n",
       "      <td>2.45</td>\n",
       "      <td>13.85</td>\n",
       "    </tr>\n",
       "    <tr>\n",
       "      <th>5</th>\n",
       "      <td>6</td>\n",
       "      <td>9.72</td>\n",
       "      <td>8.04</td>\n",
       "    </tr>\n",
       "    <tr>\n",
       "      <th>6</th>\n",
       "      <td>7</td>\n",
       "      <td>4.52</td>\n",
       "      <td>6.21</td>\n",
       "    </tr>\n",
       "    <tr>\n",
       "      <th>7</th>\n",
       "      <td>8</td>\n",
       "      <td>5.13</td>\n",
       "      <td>7.15</td>\n",
       "    </tr>\n",
       "    <tr>\n",
       "      <th>8</th>\n",
       "      <td>9</td>\n",
       "      <td>4.78</td>\n",
       "      <td>6.04</td>\n",
       "    </tr>\n",
       "    <tr>\n",
       "      <th>9</th>\n",
       "      <td>10</td>\n",
       "      <td>5.26</td>\n",
       "      <td>13.64</td>\n",
       "    </tr>\n",
       "  </tbody>\n",
       "</table>\n",
       "</div>"
      ],
      "text/plain": [
       "   x1    x2      y\n",
       "0   1  6.49   9.66\n",
       "1   2  7.65   5.94\n",
       "2   3  3.32  14.14\n",
       "3   4  4.30  13.14\n",
       "4   5  2.45  13.85\n",
       "5   6  9.72   8.04\n",
       "6   7  4.52   6.21\n",
       "7   8  5.13   7.15\n",
       "8   9  4.78   6.04\n",
       "9  10  5.26  13.64"
      ]
     },
     "execution_count": 34,
     "metadata": {},
     "output_type": "execute_result"
    }
   ],
   "source": [
    "df3 = pd.DataFrame(mlr) \n",
    "df3"
   ]
  },
  {
   "cell_type": "code",
   "execution_count": 35,
   "id": "d37f2012-271b-45b6-8fd4-cdce99702495",
   "metadata": {},
   "outputs": [
    {
     "data": {
      "text/plain": [
       "5.5"
      ]
     },
     "execution_count": 35,
     "metadata": {},
     "output_type": "execute_result"
    }
   ],
   "source": [
    "x1_avg = df3.x1.mean()\n",
    "x1_avg"
   ]
  },
  {
   "cell_type": "code",
   "execution_count": 36,
   "id": "4f704dd3-4ff3-4dd0-af9b-1678d119362d",
   "metadata": {},
   "outputs": [
    {
     "data": {
      "text/plain": [
       "5.362"
      ]
     },
     "execution_count": 36,
     "metadata": {},
     "output_type": "execute_result"
    }
   ],
   "source": [
    "x2_avg = df3.x2.mean()\n",
    "x2_avg"
   ]
  },
  {
   "cell_type": "code",
   "execution_count": 37,
   "id": "51705d3c-128a-4ca3-b25d-35adf4bf4900",
   "metadata": {},
   "outputs": [
    {
     "data": {
      "text/plain": [
       "9.781"
      ]
     },
     "execution_count": 37,
     "metadata": {},
     "output_type": "execute_result"
    }
   ],
   "source": [
    "y_avg = df3.y.mean()\n",
    "y_avg"
   ]
  },
  {
   "cell_type": "code",
   "execution_count": 38,
   "id": "8b3a5a4b-75a1-43fd-8b4b-e1ee5e966d00",
   "metadata": {},
   "outputs": [
    {
     "data": {
      "text/html": [
       "<div>\n",
       "<style scoped>\n",
       "    .dataframe tbody tr th:only-of-type {\n",
       "        vertical-align: middle;\n",
       "    }\n",
       "\n",
       "    .dataframe tbody tr th {\n",
       "        vertical-align: top;\n",
       "    }\n",
       "\n",
       "    .dataframe thead th {\n",
       "        text-align: right;\n",
       "    }\n",
       "</style>\n",
       "<table border=\"1\" class=\"dataframe\">\n",
       "  <thead>\n",
       "    <tr style=\"text-align: right;\">\n",
       "      <th></th>\n",
       "      <th>x1</th>\n",
       "      <th>x2</th>\n",
       "      <th>y</th>\n",
       "      <th>x1x1</th>\n",
       "      <th>x2x2</th>\n",
       "      <th>x1x2</th>\n",
       "      <th>x1y</th>\n",
       "      <th>x2y</th>\n",
       "    </tr>\n",
       "  </thead>\n",
       "  <tbody>\n",
       "    <tr>\n",
       "      <th>0</th>\n",
       "      <td>1</td>\n",
       "      <td>6.49</td>\n",
       "      <td>9.66</td>\n",
       "      <td>1</td>\n",
       "      <td>42.1201</td>\n",
       "      <td>6.49</td>\n",
       "      <td>9.66</td>\n",
       "      <td>62.6934</td>\n",
       "    </tr>\n",
       "    <tr>\n",
       "      <th>1</th>\n",
       "      <td>2</td>\n",
       "      <td>7.65</td>\n",
       "      <td>5.94</td>\n",
       "      <td>4</td>\n",
       "      <td>58.5225</td>\n",
       "      <td>15.30</td>\n",
       "      <td>11.88</td>\n",
       "      <td>45.4410</td>\n",
       "    </tr>\n",
       "    <tr>\n",
       "      <th>2</th>\n",
       "      <td>3</td>\n",
       "      <td>3.32</td>\n",
       "      <td>14.14</td>\n",
       "      <td>9</td>\n",
       "      <td>11.0224</td>\n",
       "      <td>9.96</td>\n",
       "      <td>42.42</td>\n",
       "      <td>46.9448</td>\n",
       "    </tr>\n",
       "    <tr>\n",
       "      <th>3</th>\n",
       "      <td>4</td>\n",
       "      <td>4.30</td>\n",
       "      <td>13.14</td>\n",
       "      <td>16</td>\n",
       "      <td>18.4900</td>\n",
       "      <td>17.20</td>\n",
       "      <td>52.56</td>\n",
       "      <td>56.5020</td>\n",
       "    </tr>\n",
       "    <tr>\n",
       "      <th>4</th>\n",
       "      <td>5</td>\n",
       "      <td>2.45</td>\n",
       "      <td>13.85</td>\n",
       "      <td>25</td>\n",
       "      <td>6.0025</td>\n",
       "      <td>12.25</td>\n",
       "      <td>69.25</td>\n",
       "      <td>33.9325</td>\n",
       "    </tr>\n",
       "    <tr>\n",
       "      <th>5</th>\n",
       "      <td>6</td>\n",
       "      <td>9.72</td>\n",
       "      <td>8.04</td>\n",
       "      <td>36</td>\n",
       "      <td>94.4784</td>\n",
       "      <td>58.32</td>\n",
       "      <td>48.24</td>\n",
       "      <td>78.1488</td>\n",
       "    </tr>\n",
       "    <tr>\n",
       "      <th>6</th>\n",
       "      <td>7</td>\n",
       "      <td>4.52</td>\n",
       "      <td>6.21</td>\n",
       "      <td>49</td>\n",
       "      <td>20.4304</td>\n",
       "      <td>31.64</td>\n",
       "      <td>43.47</td>\n",
       "      <td>28.0692</td>\n",
       "    </tr>\n",
       "    <tr>\n",
       "      <th>7</th>\n",
       "      <td>8</td>\n",
       "      <td>5.13</td>\n",
       "      <td>7.15</td>\n",
       "      <td>64</td>\n",
       "      <td>26.3169</td>\n",
       "      <td>41.04</td>\n",
       "      <td>57.20</td>\n",
       "      <td>36.6795</td>\n",
       "    </tr>\n",
       "    <tr>\n",
       "      <th>8</th>\n",
       "      <td>9</td>\n",
       "      <td>4.78</td>\n",
       "      <td>6.04</td>\n",
       "      <td>81</td>\n",
       "      <td>22.8484</td>\n",
       "      <td>43.02</td>\n",
       "      <td>54.36</td>\n",
       "      <td>28.8712</td>\n",
       "    </tr>\n",
       "    <tr>\n",
       "      <th>9</th>\n",
       "      <td>10</td>\n",
       "      <td>5.26</td>\n",
       "      <td>13.64</td>\n",
       "      <td>100</td>\n",
       "      <td>27.6676</td>\n",
       "      <td>52.60</td>\n",
       "      <td>136.40</td>\n",
       "      <td>71.7464</td>\n",
       "    </tr>\n",
       "  </tbody>\n",
       "</table>\n",
       "</div>"
      ],
      "text/plain": [
       "   x1    x2      y  x1x1     x2x2   x1x2     x1y      x2y\n",
       "0   1  6.49   9.66     1  42.1201   6.49    9.66  62.6934\n",
       "1   2  7.65   5.94     4  58.5225  15.30   11.88  45.4410\n",
       "2   3  3.32  14.14     9  11.0224   9.96   42.42  46.9448\n",
       "3   4  4.30  13.14    16  18.4900  17.20   52.56  56.5020\n",
       "4   5  2.45  13.85    25   6.0025  12.25   69.25  33.9325\n",
       "5   6  9.72   8.04    36  94.4784  58.32   48.24  78.1488\n",
       "6   7  4.52   6.21    49  20.4304  31.64   43.47  28.0692\n",
       "7   8  5.13   7.15    64  26.3169  41.04   57.20  36.6795\n",
       "8   9  4.78   6.04    81  22.8484  43.02   54.36  28.8712\n",
       "9  10  5.26  13.64   100  27.6676  52.60  136.40  71.7464"
      ]
     },
     "execution_count": 38,
     "metadata": {},
     "output_type": "execute_result"
    }
   ],
   "source": [
    "df3['x1x1'] = df3['x1']**2\n",
    "df3['x2x2'] = df3['x2']**2\n",
    "df3['x1x2'] = df3['x1']*df3['x2']\n",
    "df3['x1y']= df3['x1']*df3['y']\n",
    "df3['x2y']= df3['x2']*df3['y']\n",
    "df3"
   ]
  },
  {
   "cell_type": "code",
   "execution_count": 39,
   "id": "1a103a60-7172-4ae4-80e5-2da6ab4937e0",
   "metadata": {},
   "outputs": [],
   "source": [
    "x1s = df3.x1.sum()\n",
    "x2s = df3.x2.sum()\n",
    "ys = df3.y.sum()\n",
    "x1x1s = df3.x1x1.sum()\n",
    "x2x2s = df3.x2x2.sum()\n",
    "x1x2s = df3.x1x2.sum()\n",
    "x1ys = df3.x1y.sum()\n",
    "x2ys = df3.x2y.sum()"
   ]
  },
  {
   "cell_type": "code",
   "execution_count": 40,
   "id": "8c62d601-a7ef-4905-8861-ec87c730e86f",
   "metadata": {},
   "outputs": [],
   "source": [
    "p = x1x1s - (x1s**2)/5\n",
    "q = x2x2s - (x2s**2)/5\n",
    "r = x1ys - (x1s*ys)/5\n",
    "s = x2ys - (x2s*ys)/5\n",
    "t = x1x2s - (x1s*x2s)/5"
   ]
  },
  {
   "cell_type": "code",
   "execution_count": 41,
   "id": "f5cdcbe5-92b5-4bc8-bc7b-17aecdeefc44",
   "metadata": {},
   "outputs": [
    {
     "data": {
      "text/plain": [
       "0.8972550794806778"
      ]
     },
     "execution_count": 41,
     "metadata": {},
     "output_type": "execute_result"
    }
   ],
   "source": [
    "b1 = (q*r - t*s)/(p*q-t**2)\n",
    "b1"
   ]
  },
  {
   "cell_type": "code",
   "execution_count": 42,
   "id": "97107510-bc9f-47c1-875c-86ed907b5b1b",
   "metadata": {},
   "outputs": [
    {
     "data": {
      "text/plain": [
       "1.1691188162723543"
      ]
     },
     "execution_count": 42,
     "metadata": {},
     "output_type": "execute_result"
    }
   ],
   "source": [
    "b2 = (p*s - t*r)/(p*q-t**2)\n",
    "b2"
   ]
  },
  {
   "cell_type": "code",
   "execution_count": 43,
   "id": "d5034200-ae52-481b-aa34-67264a086ae5",
   "metadata": {},
   "outputs": [
    {
     "data": {
      "text/plain": [
       "-1.4227180299960915"
      ]
     },
     "execution_count": 43,
     "metadata": {},
     "output_type": "execute_result"
    }
   ],
   "source": [
    "a = y_avg - b1*x1_avg - b2*x2_avg\n",
    "a"
   ]
  },
  {
   "cell_type": "code",
   "execution_count": 44,
   "id": "4cd0ffee-4686-46dd-8cae-a967c68f1a1c",
   "metadata": {},
   "outputs": [
    {
     "name": "stdout",
     "output_type": "stream",
     "text": [
      "Linear Regression equation is: y =  -1.4227180299960915  +  0.8972550794806778 x1 +  1.1691188162723543 x2\n"
     ]
    }
   ],
   "source": [
    "print('Linear Regression equation is:','y = ',a,' + ',b1,'x1 + ',b2,'x2')"
   ]
  },
  {
   "cell_type": "code",
   "execution_count": 45,
   "id": "00821aec-a5f4-4b60-afe9-14a1bc05387f",
   "metadata": {},
   "outputs": [
    {
     "name": "stdout",
     "output_type": "stream",
     "text": [
      "When x1=6.73 and x2=-2.11, y=  2.1489679525742034\n"
     ]
    }
   ],
   "source": [
    "y_ = a + b1*6.73 + b2*(-2.11)\n",
    "print ('When x1=6.73 and x2=-2.11, y= ', y_)"
   ]
  }
 ],
 "metadata": {
  "kernelspec": {
   "display_name": "Python 3 (ipykernel)",
   "language": "python",
   "name": "python3"
  },
  "language_info": {
   "codemirror_mode": {
    "name": "ipython",
    "version": 3
   },
   "file_extension": ".py",
   "mimetype": "text/x-python",
   "name": "python",
   "nbconvert_exporter": "python",
   "pygments_lexer": "ipython3",
   "version": "3.11.4"
  }
 },
 "nbformat": 4,
 "nbformat_minor": 5
}

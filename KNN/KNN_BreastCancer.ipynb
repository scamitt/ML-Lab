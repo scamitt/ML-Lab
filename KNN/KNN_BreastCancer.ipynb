{
 "cells": [
  {
   "cell_type": "code",
   "execution_count": 1,
   "id": "22845058",
   "metadata": {},
   "outputs": [],
   "source": [
    "import pandas as pd\n",
    "import seaborn as sns\n",
    "from matplotlib import pyplot as plt\n",
    "import numpy as np\n",
    "from sklearn.model_selection import train_test_split,cross_val_score\n",
    "from sklearn.neighbors import KNeighborsClassifier \n",
    "from sklearn.metrics import accuracy_score,confusion_matrix,precision_score,recall_score,f1_score,classification_report,roc_curve, roc_auc_score\n",
    "from sklearn.preprocessing import label_binarize\n",
    "import warnings\n",
    "from tabulate import tabulate\n",
    "\n",
    "warnings.filterwarnings(\"ignore\")"
   ]
  },
  {
   "cell_type": "code",
   "execution_count": 2,
   "id": "fa432ce4",
   "metadata": {},
   "outputs": [],
   "source": [
    "df=pd.read_csv(\"breast_cancer.csv\")"
   ]
  },
  {
   "cell_type": "markdown",
   "id": "82928ba7",
   "metadata": {},
   "source": [
    " Rename columns as 'Id', 'Clump_thickness', 'Uniformity_Cell_Size',\n",
    "       'Uniformity_Cell_Shape', 'Marginal_Adhesion',\n",
    "       'Single_Epithelial_Cell_Size', 'Bare_Nuclei', 'Bland_Chromatin',\n",
    "       'Normal_Nucleoli', 'Mitoses', 'Class'"
   ]
  },
  {
   "cell_type": "code",
   "execution_count": 3,
   "id": "16618727",
   "metadata": {},
   "outputs": [],
   "source": [
    "df.columns=['Id', 'Clump_thickness', 'Uniformity_Cell_Size',\n",
    "       'Uniformity_Cell_Shape', 'Marginal_Adhesion',\n",
    "       'Single_Epithelial_Cell_Size', 'Bare_Nuclei', 'Bland_Chromatin','Normal_Nucleoli', 'Mitoses', 'Class']"
   ]
  },
  {
   "cell_type": "code",
   "execution_count": 4,
   "id": "7d497e62",
   "metadata": {
    "scrolled": false
   },
   "outputs": [
    {
     "data": {
      "text/html": [
       "<div>\n",
       "<style scoped>\n",
       "    .dataframe tbody tr th:only-of-type {\n",
       "        vertical-align: middle;\n",
       "    }\n",
       "\n",
       "    .dataframe tbody tr th {\n",
       "        vertical-align: top;\n",
       "    }\n",
       "\n",
       "    .dataframe thead th {\n",
       "        text-align: right;\n",
       "    }\n",
       "</style>\n",
       "<table border=\"1\" class=\"dataframe\">\n",
       "  <thead>\n",
       "    <tr style=\"text-align: right;\">\n",
       "      <th></th>\n",
       "      <th>Id</th>\n",
       "      <th>Clump_thickness</th>\n",
       "      <th>Uniformity_Cell_Size</th>\n",
       "      <th>Uniformity_Cell_Shape</th>\n",
       "      <th>Marginal_Adhesion</th>\n",
       "      <th>Single_Epithelial_Cell_Size</th>\n",
       "      <th>Bare_Nuclei</th>\n",
       "      <th>Bland_Chromatin</th>\n",
       "      <th>Normal_Nucleoli</th>\n",
       "      <th>Mitoses</th>\n",
       "      <th>Class</th>\n",
       "    </tr>\n",
       "  </thead>\n",
       "  <tbody>\n",
       "    <tr>\n",
       "      <th>0</th>\n",
       "      <td>1002945</td>\n",
       "      <td>5</td>\n",
       "      <td>4</td>\n",
       "      <td>4</td>\n",
       "      <td>5</td>\n",
       "      <td>7</td>\n",
       "      <td>10</td>\n",
       "      <td>3</td>\n",
       "      <td>2</td>\n",
       "      <td>1</td>\n",
       "      <td>2</td>\n",
       "    </tr>\n",
       "    <tr>\n",
       "      <th>1</th>\n",
       "      <td>1015425</td>\n",
       "      <td>3</td>\n",
       "      <td>1</td>\n",
       "      <td>1</td>\n",
       "      <td>1</td>\n",
       "      <td>2</td>\n",
       "      <td>2</td>\n",
       "      <td>3</td>\n",
       "      <td>1</td>\n",
       "      <td>1</td>\n",
       "      <td>2</td>\n",
       "    </tr>\n",
       "    <tr>\n",
       "      <th>2</th>\n",
       "      <td>1016277</td>\n",
       "      <td>6</td>\n",
       "      <td>8</td>\n",
       "      <td>8</td>\n",
       "      <td>1</td>\n",
       "      <td>3</td>\n",
       "      <td>4</td>\n",
       "      <td>3</td>\n",
       "      <td>7</td>\n",
       "      <td>1</td>\n",
       "      <td>2</td>\n",
       "    </tr>\n",
       "    <tr>\n",
       "      <th>3</th>\n",
       "      <td>1017023</td>\n",
       "      <td>4</td>\n",
       "      <td>1</td>\n",
       "      <td>1</td>\n",
       "      <td>3</td>\n",
       "      <td>2</td>\n",
       "      <td>1</td>\n",
       "      <td>3</td>\n",
       "      <td>1</td>\n",
       "      <td>1</td>\n",
       "      <td>2</td>\n",
       "    </tr>\n",
       "    <tr>\n",
       "      <th>4</th>\n",
       "      <td>1017122</td>\n",
       "      <td>8</td>\n",
       "      <td>10</td>\n",
       "      <td>10</td>\n",
       "      <td>8</td>\n",
       "      <td>7</td>\n",
       "      <td>10</td>\n",
       "      <td>9</td>\n",
       "      <td>7</td>\n",
       "      <td>1</td>\n",
       "      <td>4</td>\n",
       "    </tr>\n",
       "  </tbody>\n",
       "</table>\n",
       "</div>"
      ],
      "text/plain": [
       "        Id  Clump_thickness  Uniformity_Cell_Size  Uniformity_Cell_Shape  \\\n",
       "0  1002945                5                     4                      4   \n",
       "1  1015425                3                     1                      1   \n",
       "2  1016277                6                     8                      8   \n",
       "3  1017023                4                     1                      1   \n",
       "4  1017122                8                    10                     10   \n",
       "\n",
       "   Marginal_Adhesion  Single_Epithelial_Cell_Size Bare_Nuclei  \\\n",
       "0                  5                            7          10   \n",
       "1                  1                            2           2   \n",
       "2                  1                            3           4   \n",
       "3                  3                            2           1   \n",
       "4                  8                            7          10   \n",
       "\n",
       "   Bland_Chromatin  Normal_Nucleoli  Mitoses  Class  \n",
       "0                3                2        1      2  \n",
       "1                3                1        1      2  \n",
       "2                3                7        1      2  \n",
       "3                3                1        1      2  \n",
       "4                9                7        1      4  "
      ]
     },
     "execution_count": 4,
     "metadata": {},
     "output_type": "execute_result"
    }
   ],
   "source": [
    "df.head()"
   ]
  },
  {
   "cell_type": "markdown",
   "id": "610df70f",
   "metadata": {},
   "source": [
    "Drop redundant column"
   ]
  },
  {
   "cell_type": "code",
   "execution_count": 5,
   "id": "56c8f7ce",
   "metadata": {
    "scrolled": false
   },
   "outputs": [
    {
     "data": {
      "text/html": [
       "<div>\n",
       "<style scoped>\n",
       "    .dataframe tbody tr th:only-of-type {\n",
       "        vertical-align: middle;\n",
       "    }\n",
       "\n",
       "    .dataframe tbody tr th {\n",
       "        vertical-align: top;\n",
       "    }\n",
       "\n",
       "    .dataframe thead th {\n",
       "        text-align: right;\n",
       "    }\n",
       "</style>\n",
       "<table border=\"1\" class=\"dataframe\">\n",
       "  <thead>\n",
       "    <tr style=\"text-align: right;\">\n",
       "      <th></th>\n",
       "      <th>Id</th>\n",
       "      <th>Clump_thickness</th>\n",
       "      <th>Uniformity_Cell_Shape</th>\n",
       "      <th>Marginal_Adhesion</th>\n",
       "      <th>Single_Epithelial_Cell_Size</th>\n",
       "      <th>Bare_Nuclei</th>\n",
       "      <th>Bland_Chromatin</th>\n",
       "      <th>Normal_Nucleoli</th>\n",
       "      <th>Mitoses</th>\n",
       "      <th>Class</th>\n",
       "    </tr>\n",
       "  </thead>\n",
       "  <tbody>\n",
       "    <tr>\n",
       "      <th>0</th>\n",
       "      <td>1002945</td>\n",
       "      <td>5</td>\n",
       "      <td>4</td>\n",
       "      <td>5</td>\n",
       "      <td>7</td>\n",
       "      <td>10</td>\n",
       "      <td>3</td>\n",
       "      <td>2</td>\n",
       "      <td>1</td>\n",
       "      <td>2</td>\n",
       "    </tr>\n",
       "    <tr>\n",
       "      <th>1</th>\n",
       "      <td>1015425</td>\n",
       "      <td>3</td>\n",
       "      <td>1</td>\n",
       "      <td>1</td>\n",
       "      <td>2</td>\n",
       "      <td>2</td>\n",
       "      <td>3</td>\n",
       "      <td>1</td>\n",
       "      <td>1</td>\n",
       "      <td>2</td>\n",
       "    </tr>\n",
       "    <tr>\n",
       "      <th>2</th>\n",
       "      <td>1016277</td>\n",
       "      <td>6</td>\n",
       "      <td>8</td>\n",
       "      <td>1</td>\n",
       "      <td>3</td>\n",
       "      <td>4</td>\n",
       "      <td>3</td>\n",
       "      <td>7</td>\n",
       "      <td>1</td>\n",
       "      <td>2</td>\n",
       "    </tr>\n",
       "    <tr>\n",
       "      <th>3</th>\n",
       "      <td>1017023</td>\n",
       "      <td>4</td>\n",
       "      <td>1</td>\n",
       "      <td>3</td>\n",
       "      <td>2</td>\n",
       "      <td>1</td>\n",
       "      <td>3</td>\n",
       "      <td>1</td>\n",
       "      <td>1</td>\n",
       "      <td>2</td>\n",
       "    </tr>\n",
       "    <tr>\n",
       "      <th>4</th>\n",
       "      <td>1017122</td>\n",
       "      <td>8</td>\n",
       "      <td>10</td>\n",
       "      <td>8</td>\n",
       "      <td>7</td>\n",
       "      <td>10</td>\n",
       "      <td>9</td>\n",
       "      <td>7</td>\n",
       "      <td>1</td>\n",
       "      <td>4</td>\n",
       "    </tr>\n",
       "  </tbody>\n",
       "</table>\n",
       "</div>"
      ],
      "text/plain": [
       "        Id  Clump_thickness  Uniformity_Cell_Shape  Marginal_Adhesion  \\\n",
       "0  1002945                5                      4                  5   \n",
       "1  1015425                3                      1                  1   \n",
       "2  1016277                6                      8                  1   \n",
       "3  1017023                4                      1                  3   \n",
       "4  1017122                8                     10                  8   \n",
       "\n",
       "   Single_Epithelial_Cell_Size Bare_Nuclei  Bland_Chromatin  Normal_Nucleoli  \\\n",
       "0                            7          10                3                2   \n",
       "1                            2           2                3                1   \n",
       "2                            3           4                3                7   \n",
       "3                            2           1                3                1   \n",
       "4                            7          10                9                7   \n",
       "\n",
       "   Mitoses  Class  \n",
       "0        1      2  \n",
       "1        1      2  \n",
       "2        1      2  \n",
       "3        1      2  \n",
       "4        1      4  "
      ]
     },
     "execution_count": 5,
     "metadata": {},
     "output_type": "execute_result"
    }
   ],
   "source": [
    "df=df.drop(columns='Uniformity_Cell_Size',axis=1)\n",
    "df.head()"
   ]
  },
  {
   "cell_type": "markdown",
   "id": "1c41384e",
   "metadata": {},
   "source": [
    "View the summary of the dataset"
   ]
  },
  {
   "cell_type": "code",
   "execution_count": 6,
   "id": "5e100755",
   "metadata": {
    "scrolled": true
   },
   "outputs": [
    {
     "data": {
      "text/html": [
       "<div>\n",
       "<style scoped>\n",
       "    .dataframe tbody tr th:only-of-type {\n",
       "        vertical-align: middle;\n",
       "    }\n",
       "\n",
       "    .dataframe tbody tr th {\n",
       "        vertical-align: top;\n",
       "    }\n",
       "\n",
       "    .dataframe thead th {\n",
       "        text-align: right;\n",
       "    }\n",
       "</style>\n",
       "<table border=\"1\" class=\"dataframe\">\n",
       "  <thead>\n",
       "    <tr style=\"text-align: right;\">\n",
       "      <th></th>\n",
       "      <th>Id</th>\n",
       "      <th>Clump_thickness</th>\n",
       "      <th>Uniformity_Cell_Shape</th>\n",
       "      <th>Marginal_Adhesion</th>\n",
       "      <th>Single_Epithelial_Cell_Size</th>\n",
       "      <th>Bland_Chromatin</th>\n",
       "      <th>Normal_Nucleoli</th>\n",
       "      <th>Mitoses</th>\n",
       "      <th>Class</th>\n",
       "    </tr>\n",
       "  </thead>\n",
       "  <tbody>\n",
       "    <tr>\n",
       "      <th>count</th>\n",
       "      <td>6.980000e+02</td>\n",
       "      <td>698.000000</td>\n",
       "      <td>698.000000</td>\n",
       "      <td>698.000000</td>\n",
       "      <td>698.000000</td>\n",
       "      <td>698.000000</td>\n",
       "      <td>698.000000</td>\n",
       "      <td>698.000000</td>\n",
       "      <td>698.000000</td>\n",
       "    </tr>\n",
       "    <tr>\n",
       "      <th>mean</th>\n",
       "      <td>1.071807e+06</td>\n",
       "      <td>4.416905</td>\n",
       "      <td>3.210602</td>\n",
       "      <td>2.809456</td>\n",
       "      <td>3.217765</td>\n",
       "      <td>3.438395</td>\n",
       "      <td>2.869628</td>\n",
       "      <td>1.590258</td>\n",
       "      <td>2.690544</td>\n",
       "    </tr>\n",
       "    <tr>\n",
       "      <th>std</th>\n",
       "      <td>6.175323e+05</td>\n",
       "      <td>2.817673</td>\n",
       "      <td>2.972867</td>\n",
       "      <td>2.856606</td>\n",
       "      <td>2.215408</td>\n",
       "      <td>2.440056</td>\n",
       "      <td>3.055004</td>\n",
       "      <td>1.716162</td>\n",
       "      <td>0.951596</td>\n",
       "    </tr>\n",
       "    <tr>\n",
       "      <th>min</th>\n",
       "      <td>6.163400e+04</td>\n",
       "      <td>1.000000</td>\n",
       "      <td>1.000000</td>\n",
       "      <td>1.000000</td>\n",
       "      <td>1.000000</td>\n",
       "      <td>1.000000</td>\n",
       "      <td>1.000000</td>\n",
       "      <td>1.000000</td>\n",
       "      <td>2.000000</td>\n",
       "    </tr>\n",
       "    <tr>\n",
       "      <th>25%</th>\n",
       "      <td>8.702582e+05</td>\n",
       "      <td>2.000000</td>\n",
       "      <td>1.000000</td>\n",
       "      <td>1.000000</td>\n",
       "      <td>2.000000</td>\n",
       "      <td>2.000000</td>\n",
       "      <td>1.000000</td>\n",
       "      <td>1.000000</td>\n",
       "      <td>2.000000</td>\n",
       "    </tr>\n",
       "    <tr>\n",
       "      <th>50%</th>\n",
       "      <td>1.171710e+06</td>\n",
       "      <td>4.000000</td>\n",
       "      <td>1.000000</td>\n",
       "      <td>1.000000</td>\n",
       "      <td>2.000000</td>\n",
       "      <td>3.000000</td>\n",
       "      <td>1.000000</td>\n",
       "      <td>1.000000</td>\n",
       "      <td>2.000000</td>\n",
       "    </tr>\n",
       "    <tr>\n",
       "      <th>75%</th>\n",
       "      <td>1.238354e+06</td>\n",
       "      <td>6.000000</td>\n",
       "      <td>5.000000</td>\n",
       "      <td>4.000000</td>\n",
       "      <td>4.000000</td>\n",
       "      <td>5.000000</td>\n",
       "      <td>4.000000</td>\n",
       "      <td>1.000000</td>\n",
       "      <td>4.000000</td>\n",
       "    </tr>\n",
       "    <tr>\n",
       "      <th>max</th>\n",
       "      <td>1.345435e+07</td>\n",
       "      <td>10.000000</td>\n",
       "      <td>10.000000</td>\n",
       "      <td>10.000000</td>\n",
       "      <td>10.000000</td>\n",
       "      <td>10.000000</td>\n",
       "      <td>10.000000</td>\n",
       "      <td>10.000000</td>\n",
       "      <td>4.000000</td>\n",
       "    </tr>\n",
       "  </tbody>\n",
       "</table>\n",
       "</div>"
      ],
      "text/plain": [
       "                 Id  Clump_thickness  Uniformity_Cell_Shape  \\\n",
       "count  6.980000e+02       698.000000             698.000000   \n",
       "mean   1.071807e+06         4.416905               3.210602   \n",
       "std    6.175323e+05         2.817673               2.972867   \n",
       "min    6.163400e+04         1.000000               1.000000   \n",
       "25%    8.702582e+05         2.000000               1.000000   \n",
       "50%    1.171710e+06         4.000000               1.000000   \n",
       "75%    1.238354e+06         6.000000               5.000000   \n",
       "max    1.345435e+07        10.000000              10.000000   \n",
       "\n",
       "       Marginal_Adhesion  Single_Epithelial_Cell_Size  Bland_Chromatin  \\\n",
       "count         698.000000                   698.000000       698.000000   \n",
       "mean            2.809456                     3.217765         3.438395   \n",
       "std             2.856606                     2.215408         2.440056   \n",
       "min             1.000000                     1.000000         1.000000   \n",
       "25%             1.000000                     2.000000         2.000000   \n",
       "50%             1.000000                     2.000000         3.000000   \n",
       "75%             4.000000                     4.000000         5.000000   \n",
       "max            10.000000                    10.000000        10.000000   \n",
       "\n",
       "       Normal_Nucleoli     Mitoses       Class  \n",
       "count       698.000000  698.000000  698.000000  \n",
       "mean          2.869628    1.590258    2.690544  \n",
       "std           3.055004    1.716162    0.951596  \n",
       "min           1.000000    1.000000    2.000000  \n",
       "25%           1.000000    1.000000    2.000000  \n",
       "50%           1.000000    1.000000    2.000000  \n",
       "75%           4.000000    1.000000    4.000000  \n",
       "max          10.000000   10.000000    4.000000  "
      ]
     },
     "execution_count": 6,
     "metadata": {},
     "output_type": "execute_result"
    }
   ],
   "source": [
    "df.describe()"
   ]
  },
  {
   "cell_type": "code",
   "execution_count": 7,
   "id": "9dcd1913",
   "metadata": {
    "scrolled": false
   },
   "outputs": [
    {
     "name": "stdout",
     "output_type": "stream",
     "text": [
      "<class 'pandas.core.frame.DataFrame'>\n",
      "RangeIndex: 698 entries, 0 to 697\n",
      "Data columns (total 10 columns):\n",
      " #   Column                       Non-Null Count  Dtype \n",
      "---  ------                       --------------  ----- \n",
      " 0   Id                           698 non-null    int64 \n",
      " 1   Clump_thickness              698 non-null    int64 \n",
      " 2   Uniformity_Cell_Shape        698 non-null    int64 \n",
      " 3   Marginal_Adhesion            698 non-null    int64 \n",
      " 4   Single_Epithelial_Cell_Size  698 non-null    int64 \n",
      " 5   Bare_Nuclei                  698 non-null    object\n",
      " 6   Bland_Chromatin              698 non-null    int64 \n",
      " 7   Normal_Nucleoli              698 non-null    int64 \n",
      " 8   Mitoses                      698 non-null    int64 \n",
      " 9   Class                        698 non-null    int64 \n",
      "dtypes: int64(9), object(1)\n",
      "memory usage: 54.7+ KB\n"
     ]
    }
   ],
   "source": [
    "df.info()"
   ]
  },
  {
   "cell_type": "markdown",
   "id": "9ab5c910",
   "metadata": {},
   "source": [
    "Convert the data type of Bare_Nuclei to an integer"
   ]
  },
  {
   "cell_type": "code",
   "execution_count": 8,
   "id": "9dda72e4",
   "metadata": {},
   "outputs": [],
   "source": [
    "df['Bare_Nuclei']=df['Bare_Nuclei'].replace('?',\"0\")"
   ]
  },
  {
   "cell_type": "code",
   "execution_count": 9,
   "id": "9eb8d5a1",
   "metadata": {
    "scrolled": true
   },
   "outputs": [],
   "source": [
    "df['Bare_Nuclei']=df['Bare_Nuclei'].astype(int)"
   ]
  },
  {
   "cell_type": "code",
   "execution_count": 10,
   "id": "6c3cd278",
   "metadata": {},
   "outputs": [],
   "source": [
    "df['Bare_Nuclei']=df['Bare_Nuclei'].replace(0,np.NaN)"
   ]
  },
  {
   "cell_type": "markdown",
   "id": "c02c9bd6",
   "metadata": {},
   "source": [
    "Check data types of columns of data frame"
   ]
  },
  {
   "cell_type": "code",
   "execution_count": 11,
   "id": "d0858d8c",
   "metadata": {
    "scrolled": true
   },
   "outputs": [
    {
     "name": "stdout",
     "output_type": "stream",
     "text": [
      "<class 'pandas.core.frame.DataFrame'>\n",
      "RangeIndex: 698 entries, 0 to 697\n",
      "Data columns (total 10 columns):\n",
      " #   Column                       Non-Null Count  Dtype  \n",
      "---  ------                       --------------  -----  \n",
      " 0   Id                           698 non-null    int64  \n",
      " 1   Clump_thickness              698 non-null    int64  \n",
      " 2   Uniformity_Cell_Shape        698 non-null    int64  \n",
      " 3   Marginal_Adhesion            698 non-null    int64  \n",
      " 4   Single_Epithelial_Cell_Size  698 non-null    int64  \n",
      " 5   Bare_Nuclei                  682 non-null    float64\n",
      " 6   Bland_Chromatin              698 non-null    int64  \n",
      " 7   Normal_Nucleoli              698 non-null    int64  \n",
      " 8   Mitoses                      698 non-null    int64  \n",
      " 9   Class                        698 non-null    int64  \n",
      "dtypes: float64(1), int64(9)\n",
      "memory usage: 54.7 KB\n"
     ]
    }
   ],
   "source": [
    "df.info()"
   ]
  },
  {
   "cell_type": "code",
   "execution_count": 12,
   "id": "3f3e5da6",
   "metadata": {
    "scrolled": false
   },
   "outputs": [
    {
     "data": {
      "text/html": [
       "<div>\n",
       "<style scoped>\n",
       "    .dataframe tbody tr th:only-of-type {\n",
       "        vertical-align: middle;\n",
       "    }\n",
       "\n",
       "    .dataframe tbody tr th {\n",
       "        vertical-align: top;\n",
       "    }\n",
       "\n",
       "    .dataframe thead th {\n",
       "        text-align: right;\n",
       "    }\n",
       "</style>\n",
       "<table border=\"1\" class=\"dataframe\">\n",
       "  <thead>\n",
       "    <tr style=\"text-align: right;\">\n",
       "      <th></th>\n",
       "      <th>Id</th>\n",
       "      <th>Clump_thickness</th>\n",
       "      <th>Uniformity_Cell_Shape</th>\n",
       "      <th>Marginal_Adhesion</th>\n",
       "      <th>Single_Epithelial_Cell_Size</th>\n",
       "      <th>Bare_Nuclei</th>\n",
       "      <th>Bland_Chromatin</th>\n",
       "      <th>Normal_Nucleoli</th>\n",
       "      <th>Mitoses</th>\n",
       "      <th>Class</th>\n",
       "    </tr>\n",
       "  </thead>\n",
       "  <tbody>\n",
       "    <tr>\n",
       "      <th>0</th>\n",
       "      <td>1002945</td>\n",
       "      <td>5</td>\n",
       "      <td>4</td>\n",
       "      <td>5</td>\n",
       "      <td>7</td>\n",
       "      <td>10.0</td>\n",
       "      <td>3</td>\n",
       "      <td>2</td>\n",
       "      <td>1</td>\n",
       "      <td>2</td>\n",
       "    </tr>\n",
       "    <tr>\n",
       "      <th>1</th>\n",
       "      <td>1015425</td>\n",
       "      <td>3</td>\n",
       "      <td>1</td>\n",
       "      <td>1</td>\n",
       "      <td>2</td>\n",
       "      <td>2.0</td>\n",
       "      <td>3</td>\n",
       "      <td>1</td>\n",
       "      <td>1</td>\n",
       "      <td>2</td>\n",
       "    </tr>\n",
       "    <tr>\n",
       "      <th>2</th>\n",
       "      <td>1016277</td>\n",
       "      <td>6</td>\n",
       "      <td>8</td>\n",
       "      <td>1</td>\n",
       "      <td>3</td>\n",
       "      <td>4.0</td>\n",
       "      <td>3</td>\n",
       "      <td>7</td>\n",
       "      <td>1</td>\n",
       "      <td>2</td>\n",
       "    </tr>\n",
       "    <tr>\n",
       "      <th>3</th>\n",
       "      <td>1017023</td>\n",
       "      <td>4</td>\n",
       "      <td>1</td>\n",
       "      <td>3</td>\n",
       "      <td>2</td>\n",
       "      <td>1.0</td>\n",
       "      <td>3</td>\n",
       "      <td>1</td>\n",
       "      <td>1</td>\n",
       "      <td>2</td>\n",
       "    </tr>\n",
       "    <tr>\n",
       "      <th>4</th>\n",
       "      <td>1017122</td>\n",
       "      <td>8</td>\n",
       "      <td>10</td>\n",
       "      <td>8</td>\n",
       "      <td>7</td>\n",
       "      <td>10.0</td>\n",
       "      <td>9</td>\n",
       "      <td>7</td>\n",
       "      <td>1</td>\n",
       "      <td>4</td>\n",
       "    </tr>\n",
       "    <tr>\n",
       "      <th>5</th>\n",
       "      <td>1018099</td>\n",
       "      <td>1</td>\n",
       "      <td>1</td>\n",
       "      <td>1</td>\n",
       "      <td>2</td>\n",
       "      <td>10.0</td>\n",
       "      <td>3</td>\n",
       "      <td>1</td>\n",
       "      <td>1</td>\n",
       "      <td>2</td>\n",
       "    </tr>\n",
       "    <tr>\n",
       "      <th>6</th>\n",
       "      <td>1018561</td>\n",
       "      <td>2</td>\n",
       "      <td>2</td>\n",
       "      <td>1</td>\n",
       "      <td>2</td>\n",
       "      <td>1.0</td>\n",
       "      <td>3</td>\n",
       "      <td>1</td>\n",
       "      <td>1</td>\n",
       "      <td>2</td>\n",
       "    </tr>\n",
       "    <tr>\n",
       "      <th>7</th>\n",
       "      <td>1033078</td>\n",
       "      <td>2</td>\n",
       "      <td>1</td>\n",
       "      <td>1</td>\n",
       "      <td>2</td>\n",
       "      <td>1.0</td>\n",
       "      <td>1</td>\n",
       "      <td>1</td>\n",
       "      <td>5</td>\n",
       "      <td>2</td>\n",
       "    </tr>\n",
       "    <tr>\n",
       "      <th>8</th>\n",
       "      <td>1033078</td>\n",
       "      <td>4</td>\n",
       "      <td>1</td>\n",
       "      <td>1</td>\n",
       "      <td>2</td>\n",
       "      <td>1.0</td>\n",
       "      <td>2</td>\n",
       "      <td>1</td>\n",
       "      <td>1</td>\n",
       "      <td>2</td>\n",
       "    </tr>\n",
       "    <tr>\n",
       "      <th>9</th>\n",
       "      <td>1035283</td>\n",
       "      <td>1</td>\n",
       "      <td>1</td>\n",
       "      <td>1</td>\n",
       "      <td>1</td>\n",
       "      <td>1.0</td>\n",
       "      <td>3</td>\n",
       "      <td>1</td>\n",
       "      <td>1</td>\n",
       "      <td>2</td>\n",
       "    </tr>\n",
       "    <tr>\n",
       "      <th>10</th>\n",
       "      <td>1036172</td>\n",
       "      <td>2</td>\n",
       "      <td>1</td>\n",
       "      <td>1</td>\n",
       "      <td>2</td>\n",
       "      <td>1.0</td>\n",
       "      <td>2</td>\n",
       "      <td>1</td>\n",
       "      <td>1</td>\n",
       "      <td>2</td>\n",
       "    </tr>\n",
       "    <tr>\n",
       "      <th>11</th>\n",
       "      <td>1041801</td>\n",
       "      <td>5</td>\n",
       "      <td>3</td>\n",
       "      <td>3</td>\n",
       "      <td>2</td>\n",
       "      <td>3.0</td>\n",
       "      <td>4</td>\n",
       "      <td>4</td>\n",
       "      <td>1</td>\n",
       "      <td>4</td>\n",
       "    </tr>\n",
       "    <tr>\n",
       "      <th>12</th>\n",
       "      <td>1043999</td>\n",
       "      <td>1</td>\n",
       "      <td>1</td>\n",
       "      <td>1</td>\n",
       "      <td>2</td>\n",
       "      <td>3.0</td>\n",
       "      <td>3</td>\n",
       "      <td>1</td>\n",
       "      <td>1</td>\n",
       "      <td>2</td>\n",
       "    </tr>\n",
       "    <tr>\n",
       "      <th>13</th>\n",
       "      <td>1044572</td>\n",
       "      <td>8</td>\n",
       "      <td>5</td>\n",
       "      <td>10</td>\n",
       "      <td>7</td>\n",
       "      <td>9.0</td>\n",
       "      <td>5</td>\n",
       "      <td>5</td>\n",
       "      <td>4</td>\n",
       "      <td>4</td>\n",
       "    </tr>\n",
       "    <tr>\n",
       "      <th>14</th>\n",
       "      <td>1047630</td>\n",
       "      <td>7</td>\n",
       "      <td>6</td>\n",
       "      <td>4</td>\n",
       "      <td>6</td>\n",
       "      <td>1.0</td>\n",
       "      <td>4</td>\n",
       "      <td>3</td>\n",
       "      <td>1</td>\n",
       "      <td>4</td>\n",
       "    </tr>\n",
       "    <tr>\n",
       "      <th>15</th>\n",
       "      <td>1048672</td>\n",
       "      <td>4</td>\n",
       "      <td>1</td>\n",
       "      <td>1</td>\n",
       "      <td>2</td>\n",
       "      <td>1.0</td>\n",
       "      <td>2</td>\n",
       "      <td>1</td>\n",
       "      <td>1</td>\n",
       "      <td>2</td>\n",
       "    </tr>\n",
       "    <tr>\n",
       "      <th>16</th>\n",
       "      <td>1049815</td>\n",
       "      <td>4</td>\n",
       "      <td>1</td>\n",
       "      <td>1</td>\n",
       "      <td>2</td>\n",
       "      <td>1.0</td>\n",
       "      <td>3</td>\n",
       "      <td>1</td>\n",
       "      <td>1</td>\n",
       "      <td>2</td>\n",
       "    </tr>\n",
       "    <tr>\n",
       "      <th>17</th>\n",
       "      <td>1050670</td>\n",
       "      <td>10</td>\n",
       "      <td>7</td>\n",
       "      <td>6</td>\n",
       "      <td>4</td>\n",
       "      <td>10.0</td>\n",
       "      <td>4</td>\n",
       "      <td>1</td>\n",
       "      <td>2</td>\n",
       "      <td>4</td>\n",
       "    </tr>\n",
       "    <tr>\n",
       "      <th>18</th>\n",
       "      <td>1050718</td>\n",
       "      <td>6</td>\n",
       "      <td>1</td>\n",
       "      <td>1</td>\n",
       "      <td>2</td>\n",
       "      <td>1.0</td>\n",
       "      <td>3</td>\n",
       "      <td>1</td>\n",
       "      <td>1</td>\n",
       "      <td>2</td>\n",
       "    </tr>\n",
       "    <tr>\n",
       "      <th>19</th>\n",
       "      <td>1054590</td>\n",
       "      <td>7</td>\n",
       "      <td>2</td>\n",
       "      <td>10</td>\n",
       "      <td>5</td>\n",
       "      <td>10.0</td>\n",
       "      <td>5</td>\n",
       "      <td>4</td>\n",
       "      <td>4</td>\n",
       "      <td>4</td>\n",
       "    </tr>\n",
       "    <tr>\n",
       "      <th>20</th>\n",
       "      <td>1054593</td>\n",
       "      <td>10</td>\n",
       "      <td>5</td>\n",
       "      <td>3</td>\n",
       "      <td>6</td>\n",
       "      <td>7.0</td>\n",
       "      <td>7</td>\n",
       "      <td>10</td>\n",
       "      <td>1</td>\n",
       "      <td>4</td>\n",
       "    </tr>\n",
       "    <tr>\n",
       "      <th>21</th>\n",
       "      <td>1056784</td>\n",
       "      <td>3</td>\n",
       "      <td>1</td>\n",
       "      <td>1</td>\n",
       "      <td>2</td>\n",
       "      <td>1.0</td>\n",
       "      <td>2</td>\n",
       "      <td>1</td>\n",
       "      <td>1</td>\n",
       "      <td>2</td>\n",
       "    </tr>\n",
       "    <tr>\n",
       "      <th>22</th>\n",
       "      <td>1057013</td>\n",
       "      <td>8</td>\n",
       "      <td>5</td>\n",
       "      <td>1</td>\n",
       "      <td>2</td>\n",
       "      <td>NaN</td>\n",
       "      <td>7</td>\n",
       "      <td>3</td>\n",
       "      <td>1</td>\n",
       "      <td>4</td>\n",
       "    </tr>\n",
       "    <tr>\n",
       "      <th>23</th>\n",
       "      <td>1059552</td>\n",
       "      <td>1</td>\n",
       "      <td>1</td>\n",
       "      <td>1</td>\n",
       "      <td>2</td>\n",
       "      <td>1.0</td>\n",
       "      <td>3</td>\n",
       "      <td>1</td>\n",
       "      <td>1</td>\n",
       "      <td>2</td>\n",
       "    </tr>\n",
       "    <tr>\n",
       "      <th>24</th>\n",
       "      <td>1065726</td>\n",
       "      <td>5</td>\n",
       "      <td>3</td>\n",
       "      <td>4</td>\n",
       "      <td>2</td>\n",
       "      <td>7.0</td>\n",
       "      <td>3</td>\n",
       "      <td>6</td>\n",
       "      <td>1</td>\n",
       "      <td>4</td>\n",
       "    </tr>\n",
       "  </tbody>\n",
       "</table>\n",
       "</div>"
      ],
      "text/plain": [
       "         Id  Clump_thickness  Uniformity_Cell_Shape  Marginal_Adhesion  \\\n",
       "0   1002945                5                      4                  5   \n",
       "1   1015425                3                      1                  1   \n",
       "2   1016277                6                      8                  1   \n",
       "3   1017023                4                      1                  3   \n",
       "4   1017122                8                     10                  8   \n",
       "5   1018099                1                      1                  1   \n",
       "6   1018561                2                      2                  1   \n",
       "7   1033078                2                      1                  1   \n",
       "8   1033078                4                      1                  1   \n",
       "9   1035283                1                      1                  1   \n",
       "10  1036172                2                      1                  1   \n",
       "11  1041801                5                      3                  3   \n",
       "12  1043999                1                      1                  1   \n",
       "13  1044572                8                      5                 10   \n",
       "14  1047630                7                      6                  4   \n",
       "15  1048672                4                      1                  1   \n",
       "16  1049815                4                      1                  1   \n",
       "17  1050670               10                      7                  6   \n",
       "18  1050718                6                      1                  1   \n",
       "19  1054590                7                      2                 10   \n",
       "20  1054593               10                      5                  3   \n",
       "21  1056784                3                      1                  1   \n",
       "22  1057013                8                      5                  1   \n",
       "23  1059552                1                      1                  1   \n",
       "24  1065726                5                      3                  4   \n",
       "\n",
       "    Single_Epithelial_Cell_Size  Bare_Nuclei  Bland_Chromatin  \\\n",
       "0                             7         10.0                3   \n",
       "1                             2          2.0                3   \n",
       "2                             3          4.0                3   \n",
       "3                             2          1.0                3   \n",
       "4                             7         10.0                9   \n",
       "5                             2         10.0                3   \n",
       "6                             2          1.0                3   \n",
       "7                             2          1.0                1   \n",
       "8                             2          1.0                2   \n",
       "9                             1          1.0                3   \n",
       "10                            2          1.0                2   \n",
       "11                            2          3.0                4   \n",
       "12                            2          3.0                3   \n",
       "13                            7          9.0                5   \n",
       "14                            6          1.0                4   \n",
       "15                            2          1.0                2   \n",
       "16                            2          1.0                3   \n",
       "17                            4         10.0                4   \n",
       "18                            2          1.0                3   \n",
       "19                            5         10.0                5   \n",
       "20                            6          7.0                7   \n",
       "21                            2          1.0                2   \n",
       "22                            2          NaN                7   \n",
       "23                            2          1.0                3   \n",
       "24                            2          7.0                3   \n",
       "\n",
       "    Normal_Nucleoli  Mitoses  Class  \n",
       "0                 2        1      2  \n",
       "1                 1        1      2  \n",
       "2                 7        1      2  \n",
       "3                 1        1      2  \n",
       "4                 7        1      4  \n",
       "5                 1        1      2  \n",
       "6                 1        1      2  \n",
       "7                 1        5      2  \n",
       "8                 1        1      2  \n",
       "9                 1        1      2  \n",
       "10                1        1      2  \n",
       "11                4        1      4  \n",
       "12                1        1      2  \n",
       "13                5        4      4  \n",
       "14                3        1      4  \n",
       "15                1        1      2  \n",
       "16                1        1      2  \n",
       "17                1        2      4  \n",
       "18                1        1      2  \n",
       "19                4        4      4  \n",
       "20               10        1      4  \n",
       "21                1        1      2  \n",
       "22                3        1      4  \n",
       "23                1        1      2  \n",
       "24                6        1      4  "
      ]
     },
     "execution_count": 12,
     "metadata": {},
     "output_type": "execute_result"
    }
   ],
   "source": [
    "df.head(25)"
   ]
  },
  {
   "cell_type": "markdown",
   "id": "e3f504df",
   "metadata": {},
   "source": [
    "Identify Missing values, NAN in variables"
   ]
  },
  {
   "cell_type": "code",
   "execution_count": 13,
   "id": "aad047bc",
   "metadata": {
    "scrolled": false
   },
   "outputs": [
    {
     "data": {
      "text/plain": [
       "Id                              0\n",
       "Clump_thickness                 0\n",
       "Uniformity_Cell_Shape           0\n",
       "Marginal_Adhesion               0\n",
       "Single_Epithelial_Cell_Size     0\n",
       "Bare_Nuclei                    16\n",
       "Bland_Chromatin                 0\n",
       "Normal_Nucleoli                 0\n",
       "Mitoses                         0\n",
       "Class                           0\n",
       "dtype: int64"
      ]
     },
     "execution_count": 13,
     "metadata": {},
     "output_type": "execute_result"
    }
   ],
   "source": [
    "df.isnull().sum()"
   ]
  },
  {
   "cell_type": "markdown",
   "id": "c2799a11",
   "metadata": {},
   "source": [
    "Check the distribution of variables using histograms"
   ]
  },
  {
   "cell_type": "code",
   "execution_count": 14,
   "id": "b3195dac",
   "metadata": {},
   "outputs": [],
   "source": [
    "df_hist=df.drop(columns='Id',axis=1)\n"
   ]
  },
  {
   "cell_type": "code",
   "execution_count": 15,
   "id": "8e76c9cd",
   "metadata": {
    "scrolled": false
   },
   "outputs": [
    {
     "data": {
      "image/png": "[encoded data removed]",
      "text/plain": [
       "<Figure size 640x480 with 1 Axes>"
      ]
     },
     "metadata": {},
     "output_type": "display_data"
    },
    {
     "data": {
      "image/png": "[encoded data removed]",
      "text/plain": [
       "<Figure size 640x480 with 1 Axes>"
      ]
     },
     "metadata": {},
     "output_type": "display_data"
    },
    {
     "data": {
      "image/png": "[encoded data removed]",
      "text/plain": [
       "<Figure size 640x480 with 1 Axes>"
      ]
     },
     "metadata": {},
     "output_type": "display_data"
    },
    {
     "data": {
      "image/png": "[encoded data removed]",
      "text/plain": [
       "<Figure size 640x480 with 1 Axes>"
      ]
     },
     "metadata": {},
     "output_type": "display_data"
    },
    {
     "data": {
      "image/png": "[encoded data removed]",
      "text/plain": [
       "<Figure size 640x480 with 1 Axes>"
      ]
     },
     "metadata": {},
     "output_type": "display_data"
    },
    {
     "data": {
      "image/png": "[encoded data removed]",
      "text/plain": [
       "<Figure size 640x480 with 1 Axes>"
      ]
     },
     "metadata": {},
     "output_type": "display_data"
    },
    {
     "data": {
      "image/png": "[encoded data removed]",
      "text/plain": [
       "<Figure size 640x480 with 1 Axes>"
      ]
     },
     "metadata": {},
     "output_type": "display_data"
    },
    {
     "data": {
      "image/png": "[encoded data removed]",
      "text/plain": [
       "<Figure size 640x480 with 1 Axes>"
      ]
     },
     "metadata": {},
     "output_type": "display_data"
    },
    {
     "data": {
      "image/png": "[encoded data removed]",
      "text/plain": [
       "<Figure size 640x480 with 1 Axes>"
      ]
     },
     "metadata": {},
     "output_type": "display_data"
    }
   ],
   "source": [
    "for col in df_hist.columns:\n",
    "    plt.hist(df_hist[col])\n",
    "    plt.title(col)\n",
    "    plt.show()"
   ]
  },
  {
   "cell_type": "markdown",
   "id": "18635f9b",
   "metadata": {},
   "source": [
    "Estimate correlation coefficients and represent using heatmaps"
   ]
  },
  {
   "cell_type": "code",
   "execution_count": 16,
   "id": "4fe815b2",
   "metadata": {
    "scrolled": true
   },
   "outputs": [
    {
     "data": {
      "text/html": [
       "<div>\n",
       "<style scoped>\n",
       "    .dataframe tbody tr th:only-of-type {\n",
       "        vertical-align: middle;\n",
       "    }\n",
       "\n",
       "    .dataframe tbody tr th {\n",
       "        vertical-align: top;\n",
       "    }\n",
       "\n",
       "    .dataframe thead th {\n",
       "        text-align: right;\n",
       "    }\n",
       "</style>\n",
       "<table border=\"1\" class=\"dataframe\">\n",
       "  <thead>\n",
       "    <tr style=\"text-align: right;\">\n",
       "      <th></th>\n",
       "      <th>Clump_thickness</th>\n",
       "      <th>Uniformity_Cell_Shape</th>\n",
       "      <th>Marginal_Adhesion</th>\n",
       "      <th>Single_Epithelial_Cell_Size</th>\n",
       "      <th>Bare_Nuclei</th>\n",
       "      <th>Bland_Chromatin</th>\n",
       "      <th>Normal_Nucleoli</th>\n",
       "      <th>Mitoses</th>\n",
       "      <th>Class</th>\n",
       "    </tr>\n",
       "  </thead>\n",
       "  <tbody>\n",
       "    <tr>\n",
       "      <th>Clump_thickness</th>\n",
       "      <td>1.000000</td>\n",
       "      <td>0.655089</td>\n",
       "      <td>0.486699</td>\n",
       "      <td>0.522108</td>\n",
       "      <td>0.593524</td>\n",
       "      <td>0.558511</td>\n",
       "      <td>0.536176</td>\n",
       "      <td>0.350176</td>\n",
       "      <td>0.716509</td>\n",
       "    </tr>\n",
       "    <tr>\n",
       "      <th>Uniformity_Cell_Shape</th>\n",
       "      <td>0.655089</td>\n",
       "      <td>1.000000</td>\n",
       "      <td>0.682871</td>\n",
       "      <td>0.719524</td>\n",
       "      <td>0.713661</td>\n",
       "      <td>0.736066</td>\n",
       "      <td>0.719272</td>\n",
       "      <td>0.438756</td>\n",
       "      <td>0.818794</td>\n",
       "    </tr>\n",
       "    <tr>\n",
       "      <th>Marginal_Adhesion</th>\n",
       "      <td>0.486699</td>\n",
       "      <td>0.682871</td>\n",
       "      <td>1.000000</td>\n",
       "      <td>0.599402</td>\n",
       "      <td>0.670434</td>\n",
       "      <td>0.666759</td>\n",
       "      <td>0.603132</td>\n",
       "      <td>0.417476</td>\n",
       "      <td>0.696605</td>\n",
       "    </tr>\n",
       "    <tr>\n",
       "      <th>Single_Epithelial_Cell_Size</th>\n",
       "      <td>0.522108</td>\n",
       "      <td>0.719524</td>\n",
       "      <td>0.599402</td>\n",
       "      <td>1.000000</td>\n",
       "      <td>0.585489</td>\n",
       "      <td>0.616108</td>\n",
       "      <td>0.628704</td>\n",
       "      <td>0.478975</td>\n",
       "      <td>0.682618</td>\n",
       "    </tr>\n",
       "    <tr>\n",
       "      <th>Bare_Nuclei</th>\n",
       "      <td>0.593524</td>\n",
       "      <td>0.713661</td>\n",
       "      <td>0.670434</td>\n",
       "      <td>0.585489</td>\n",
       "      <td>1.000000</td>\n",
       "      <td>0.680689</td>\n",
       "      <td>0.584022</td>\n",
       "      <td>0.339005</td>\n",
       "      <td>0.822563</td>\n",
       "    </tr>\n",
       "    <tr>\n",
       "      <th>Bland_Chromatin</th>\n",
       "      <td>0.558511</td>\n",
       "      <td>0.736066</td>\n",
       "      <td>0.666759</td>\n",
       "      <td>0.616108</td>\n",
       "      <td>0.680689</td>\n",
       "      <td>1.000000</td>\n",
       "      <td>0.665914</td>\n",
       "      <td>0.344118</td>\n",
       "      <td>0.756732</td>\n",
       "    </tr>\n",
       "    <tr>\n",
       "      <th>Normal_Nucleoli</th>\n",
       "      <td>0.536176</td>\n",
       "      <td>0.719272</td>\n",
       "      <td>0.603132</td>\n",
       "      <td>0.628704</td>\n",
       "      <td>0.584022</td>\n",
       "      <td>0.665914</td>\n",
       "      <td>1.000000</td>\n",
       "      <td>0.428185</td>\n",
       "      <td>0.712067</td>\n",
       "    </tr>\n",
       "    <tr>\n",
       "      <th>Mitoses</th>\n",
       "      <td>0.350176</td>\n",
       "      <td>0.438756</td>\n",
       "      <td>0.417476</td>\n",
       "      <td>0.478975</td>\n",
       "      <td>0.339005</td>\n",
       "      <td>0.344118</td>\n",
       "      <td>0.428185</td>\n",
       "      <td>1.000000</td>\n",
       "      <td>0.423008</td>\n",
       "    </tr>\n",
       "    <tr>\n",
       "      <th>Class</th>\n",
       "      <td>0.716509</td>\n",
       "      <td>0.818794</td>\n",
       "      <td>0.696605</td>\n",
       "      <td>0.682618</td>\n",
       "      <td>0.822563</td>\n",
       "      <td>0.756732</td>\n",
       "      <td>0.712067</td>\n",
       "      <td>0.423008</td>\n",
       "      <td>1.000000</td>\n",
       "    </tr>\n",
       "  </tbody>\n",
       "</table>\n",
       "</div>"
      ],
      "text/plain": [
       "                             Clump_thickness  Uniformity_Cell_Shape  \\\n",
       "Clump_thickness                     1.000000               0.655089   \n",
       "Uniformity_Cell_Shape               0.655089               1.000000   \n",
       "Marginal_Adhesion                   0.486699               0.682871   \n",
       "Single_Epithelial_Cell_Size         0.522108               0.719524   \n",
       "Bare_Nuclei                         0.593524               0.713661   \n",
       "Bland_Chromatin                     0.558511               0.736066   \n",
       "Normal_Nucleoli                     0.536176               0.719272   \n",
       "Mitoses                             0.350176               0.438756   \n",
       "Class                               0.716509               0.818794   \n",
       "\n",
       "                             Marginal_Adhesion  Single_Epithelial_Cell_Size  \\\n",
       "Clump_thickness                       0.486699                     0.522108   \n",
       "Uniformity_Cell_Shape                 0.682871                     0.719524   \n",
       "Marginal_Adhesion                     1.000000                     0.599402   \n",
       "Single_Epithelial_Cell_Size           0.599402                     1.000000   \n",
       "Bare_Nuclei                           0.670434                     0.585489   \n",
       "Bland_Chromatin                       0.666759                     0.616108   \n",
       "Normal_Nucleoli                       0.603132                     0.628704   \n",
       "Mitoses                               0.417476                     0.478975   \n",
       "Class                                 0.696605                     0.682618   \n",
       "\n",
       "                             Bare_Nuclei  Bland_Chromatin  Normal_Nucleoli  \\\n",
       "Clump_thickness                 0.593524         0.558511         0.536176   \n",
       "Uniformity_Cell_Shape           0.713661         0.736066         0.719272   \n",
       "Marginal_Adhesion               0.670434         0.666759         0.603132   \n",
       "Single_Epithelial_Cell_Size     0.585489         0.616108         0.628704   \n",
       "Bare_Nuclei                     1.000000         0.680689         0.584022   \n",
       "Bland_Chromatin                 0.680689         1.000000         0.665914   \n",
       "Normal_Nucleoli                 0.584022         0.665914         1.000000   \n",
       "Mitoses                         0.339005         0.344118         0.428185   \n",
       "Class                           0.822563         0.756732         0.712067   \n",
       "\n",
       "                              Mitoses     Class  \n",
       "Clump_thickness              0.350176  0.716509  \n",
       "Uniformity_Cell_Shape        0.438756  0.818794  \n",
       "Marginal_Adhesion            0.417476  0.696605  \n",
       "Single_Epithelial_Cell_Size  0.478975  0.682618  \n",
       "Bare_Nuclei                  0.339005  0.822563  \n",
       "Bland_Chromatin              0.344118  0.756732  \n",
       "Normal_Nucleoli              0.428185  0.712067  \n",
       "Mitoses                      1.000000  0.423008  \n",
       "Class                        0.423008  1.000000  "
      ]
     },
     "execution_count": 16,
     "metadata": {},
     "output_type": "execute_result"
    }
   ],
   "source": [
    "df_hist.corr()"
   ]
  },
  {
   "cell_type": "code",
   "execution_count": 17,
   "id": "4541f1ae",
   "metadata": {
    "scrolled": true
   },
   "outputs": [
    {
     "data": {
      "text/plain": [
       "<Axes: >"
      ]
     },
     "execution_count": 17,
     "metadata": {},
     "output_type": "execute_result"
    },
    {
     "data": {
      "image/png": "[encoded data removed]",
      "text/plain": [
       "<Figure size 640x480 with 2 Axes>"
      ]
     },
     "metadata": {},
     "output_type": "display_data"
    }
   ],
   "source": [
    "sns.heatmap(df_hist.corr(),annot=True)"
   ]
  },
  {
   "cell_type": "code",
   "execution_count": 18,
   "id": "49eca0f4",
   "metadata": {},
   "outputs": [
    {
     "data": {
      "text/plain": [
       "10"
      ]
     },
     "execution_count": 18,
     "metadata": {},
     "output_type": "execute_result"
    }
   ],
   "source": [
    "df['Uniformity_Cell_Shape'].max()"
   ]
  },
  {
   "cell_type": "markdown",
   "id": "beab20d7",
   "metadata": {},
   "source": [
    "Declare feature vector and target variable"
   ]
  },
  {
   "cell_type": "code",
   "execution_count": 19,
   "id": "757543e8",
   "metadata": {},
   "outputs": [],
   "source": [
    "x=df[['Uniformity_Cell_Shape','Normal_Nucleoli','Clump_thickness','Bland_Chromatin']]\n",
    "y=df['Class']"
   ]
  },
  {
   "cell_type": "markdown",
   "id": "31bac6fa",
   "metadata": {},
   "source": [
    "Split data into separate training and test set"
   ]
  },
  {
   "cell_type": "code",
   "execution_count": 20,
   "id": "f508bb5b",
   "metadata": {},
   "outputs": [],
   "source": [
    "x_train, x_test, y_train, y_test = train_test_split(x, y, test_size = 0.3, random_state = 0) "
   ]
  },
  {
   "cell_type": "markdown",
   "id": "89779899",
   "metadata": {},
   "source": [
    "Fit the K Neighbours Classifier to the training set"
   ]
  },
  {
   "cell_type": "code",
   "execution_count": 21,
   "id": "e828331d",
   "metadata": {
    "scrolled": false
   },
   "outputs": [
    {
     "data": {
      "text/html": [
       "<style>#sk-container-id-1 {color: black;}#sk-container-id-1 pre{padding: 0;}#sk-container-id-1 div.sk-toggleable {background-color: white;}#sk-container-id-1 label.sk-toggleable__label {cursor: pointer;display: block;width: 100%;margin-bottom: 0;padding: 0.3em;box-sizing: border-box;text-align: center;}#sk-container-id-1 label.sk-toggleable__label-arrow:before {content: \"▸\";float: left;margin-right: 0.25em;color: #696969;}#sk-container-id-1 label.sk-toggleable__label-arrow:hover:before {color: black;}#sk-container-id-1 div.sk-estimator:hover label.sk-toggleable__label-arrow:before {color: black;}#sk-container-id-1 div.sk-toggleable__content {max-height: 0;max-width: 0;overflow: hidden;text-align: left;background-color: #f0f8ff;}#sk-container-id-1 div.sk-toggleable__content pre {margin: 0.2em;color: black;border-radius: 0.25em;background-color: #f0f8ff;}#sk-container-id-1 input.sk-toggleable__control:checked~div.sk-toggleable__content {max-height: 200px;max-width: 100%;overflow: auto;}#sk-container-id-1 input.sk-toggleable__control:checked~label.sk-toggleable__label-arrow:before {content: \"▾\";}#sk-container-id-1 div.sk-estimator input.sk-toggleable__control:checked~label.sk-toggleable__label {background-color: #d4ebff;}#sk-container-id-1 div.sk-label input.sk-toggleable__control:checked~label.sk-toggleable__label {background-color: #d4ebff;}#sk-container-id-1 input.sk-hidden--visually {border: 0;clip: rect(1px 1px 1px 1px);clip: rect(1px, 1px, 1px, 1px);height: 1px;margin: -1px;overflow: hidden;padding: 0;position: absolute;width: 1px;}#sk-container-id-1 div.sk-estimator {font-family: monospace;background-color: #f0f8ff;border: 1px dotted black;border-radius: 0.25em;box-sizing: border-box;margin-bottom: 0.5em;}#sk-container-id-1 div.sk-estimator:hover {background-color: #d4ebff;}#sk-container-id-1 div.sk-parallel-item::after {content: \"\";width: 100%;border-bottom: 1px solid gray;flex-grow: 1;}#sk-container-id-1 div.sk-label:hover label.sk-toggleable__label {background-color: #d4ebff;}#sk-container-id-1 div.sk-serial::before {content: \"\";position: absolute;border-left: 1px solid gray;box-sizing: border-box;top: 0;bottom: 0;left: 50%;z-index: 0;}#sk-container-id-1 div.sk-serial {display: flex;flex-direction: column;align-items: center;background-color: white;padding-right: 0.2em;padding-left: 0.2em;position: relative;}#sk-container-id-1 div.sk-item {position: relative;z-index: 1;}#sk-container-id-1 div.sk-parallel {display: flex;align-items: stretch;justify-content: center;background-color: white;position: relative;}#sk-container-id-1 div.sk-item::before, #sk-container-id-1 div.sk-parallel-item::before {content: \"\";position: absolute;border-left: 1px solid gray;box-sizing: border-box;top: 0;bottom: 0;left: 50%;z-index: -1;}#sk-container-id-1 div.sk-parallel-item {display: flex;flex-direction: column;z-index: 1;position: relative;background-color: white;}#sk-container-id-1 div.sk-parallel-item:first-child::after {align-self: flex-end;width: 50%;}#sk-container-id-1 div.sk-parallel-item:last-child::after {align-self: flex-start;width: 50%;}#sk-container-id-1 div.sk-parallel-item:only-child::after {width: 0;}#sk-container-id-1 div.sk-dashed-wrapped {border: 1px dashed gray;margin: 0 0.4em 0.5em 0.4em;box-sizing: border-box;padding-bottom: 0.4em;background-color: white;}#sk-container-id-1 div.sk-label label {font-family: monospace;font-weight: bold;display: inline-block;line-height: 1.2em;}#sk-container-id-1 div.sk-label-container {text-align: center;}#sk-container-id-1 div.sk-container {/* jupyter's `normalize.less` sets `[hidden] { display: none; }` but bootstrap.min.css set `[hidden] { display: none !important; }` so we also need the `!important` here to be able to override the default hidden behavior on the sphinx rendered scikit-learn.org. See: https://github.com/scikit-learn/scikit-learn/issues/21755 */display: inline-block !important;position: relative;}#sk-container-id-1 div.sk-text-repr-fallback {display: none;}</style><div id=\"sk-container-id-1\" class=\"sk-top-container\"><div class=\"sk-text-repr-fallback\"><pre>KNeighborsClassifier(n_neighbors=3)</pre><b>In a Jupyter environment, please rerun this cell to show the HTML representation or trust the notebook. <br />On GitHub, the HTML representation is unable to render, please try loading this page with nbviewer.org.</b></div><div class=\"sk-container\" hidden><div class=\"sk-item\"><div class=\"sk-estimator sk-toggleable\"><input class=\"sk-toggleable__control sk-hidden--visually\" id=\"sk-estimator-id-1\" type=\"checkbox\" checked><label for=\"sk-estimator-id-1\" class=\"sk-toggleable__label sk-toggleable__label-arrow\">KNeighborsClassifier</label><div class=\"sk-toggleable__content\"><pre>KNeighborsClassifier(n_neighbors=3)</pre></div></div></div></div></div>"
      ],
      "text/plain": [
       "KNeighborsClassifier(n_neighbors=3)"
      ]
     },
     "execution_count": 21,
     "metadata": {},
     "output_type": "execute_result"
    }
   ],
   "source": [
    "k=3\n",
    "model = KNeighborsClassifier(n_neighbors = k) \n",
    "model.fit(x_train, y_train) "
   ]
  },
  {
   "cell_type": "markdown",
   "id": "fe4aee2a",
   "metadata": {},
   "source": [
    " Predict test-set results "
   ]
  },
  {
   "cell_type": "code",
   "execution_count": 22,
   "id": "c339d00c",
   "metadata": {
    "scrolled": true
   },
   "outputs": [],
   "source": [
    "y_pred_test=model.predict(x_test)"
   ]
  },
  {
   "cell_type": "markdown",
   "id": "ca9e3c06",
   "metadata": {},
   "source": [
    "Check the accuracy score"
   ]
  },
  {
   "cell_type": "code",
   "execution_count": 23,
   "id": "67ea1f3b",
   "metadata": {},
   "outputs": [],
   "source": [
    "acc_test=accuracy_score(y_test,y_pred_test)"
   ]
  },
  {
   "cell_type": "code",
   "execution_count": 24,
   "id": "d2c5e0ab",
   "metadata": {
    "scrolled": true
   },
   "outputs": [
    {
     "name": "stdout",
     "output_type": "stream",
     "text": [
      "Accuracy is: 0.9523809523809523\n"
     ]
    }
   ],
   "source": [
    "print(f\"Accuracy is: {acc_test}\")"
   ]
  },
  {
   "cell_type": "markdown",
   "id": "e833e3a4",
   "metadata": {},
   "source": [
    "Compare the train-set and test-set accuracy"
   ]
  },
  {
   "cell_type": "code",
   "execution_count": 25,
   "id": "61d3df6a",
   "metadata": {
    "scrolled": true
   },
   "outputs": [],
   "source": [
    "y_pred_train=model.predict(x_train)"
   ]
  },
  {
   "cell_type": "code",
   "execution_count": 26,
   "id": "9cf31cb0",
   "metadata": {},
   "outputs": [],
   "source": [
    "acc_train=accuracy_score(y_train,y_pred_train)"
   ]
  },
  {
   "cell_type": "markdown",
   "id": "d285035e",
   "metadata": {},
   "source": [
    "or"
   ]
  },
  {
   "cell_type": "code",
   "execution_count": 27,
   "id": "023106ce",
   "metadata": {},
   "outputs": [
    {
     "name": "stdout",
     "output_type": "stream",
     "text": [
      "Accuracy is: 0.9754098360655737\n"
     ]
    }
   ],
   "source": [
    "print(f\"Accuracy is: {acc_train}\")"
   ]
  },
  {
   "cell_type": "code",
   "execution_count": 28,
   "id": "04bce00a",
   "metadata": {},
   "outputs": [
    {
     "data": {
      "text/plain": [
       "0.9754098360655737"
      ]
     },
     "execution_count": 28,
     "metadata": {},
     "output_type": "execute_result"
    }
   ],
   "source": [
    "model.score(x_train,y_train)"
   ]
  },
  {
   "cell_type": "code",
   "execution_count": 29,
   "id": "cbfcba7f",
   "metadata": {},
   "outputs": [
    {
     "data": {
      "text/plain": [
       "0.9523809523809523"
      ]
     },
     "execution_count": 29,
     "metadata": {},
     "output_type": "execute_result"
    }
   ],
   "source": [
    "model.score(x_test,y_test)"
   ]
  },
  {
   "cell_type": "markdown",
   "id": "d904085f",
   "metadata": {},
   "source": [
    "Rebuild the kNN Classification model using different values of k (3,4,5,6,7,8,9) USING TABULATE:,\n",
    "Tabulate the results using the Tabulate package"
   ]
  },
  {
   "cell_type": "code",
   "execution_count": 30,
   "id": "8e0efa21",
   "metadata": {},
   "outputs": [],
   "source": [
    "splits = [0.2, 0.25, 0.3]\n",
    "k_values = [3, 4, 5, 6, 7, 8, 9]\n",
    "results = []"
   ]
  },
  {
   "cell_type": "code",
   "execution_count": 31,
   "id": "d19c9f10",
   "metadata": {
    "scrolled": false
   },
   "outputs": [
    {
     "name": "stdout",
     "output_type": "stream",
     "text": [
      "+---+------------+-----------+--------------------+--------------------+--------------------+--------------------+\n",
      "| k | Train Size | Test Size |     Precision      |       Recall       |      F1 Score      |      Accuracy      |\n",
      "+---+------------+-----------+--------------------+--------------------+--------------------+--------------------+\n",
      "| 3 |    0.8     |    0.2    | 0.9572605880348236 | 0.9571428571428572 | 0.9569952011812477 | 0.9571428571428572 |\n",
      "| 3 |    0.75    |   0.25    | 0.9657142857142857 | 0.9657142857142857 | 0.9657142857142857 | 0.9657142857142857 |\n",
      "| 3 |    0.7     |    0.3    | 0.9522962962962963 | 0.9523809523809523 | 0.9522453521864364 | 0.9523809523809523 |\n",
      "| 4 |    0.8     |    0.2    | 0.9436628584017878 | 0.9428571428571428 | 0.9424357901911578 | 0.9428571428571428 |\n",
      "| 4 |    0.75    |   0.25    | 0.9599499582985822 |        0.96        | 0.959941789958768  |        0.96        |\n",
      "| 4 |    0.7     |    0.3    | 0.9522962962962963 | 0.9523809523809523 | 0.9522453521864364 | 0.9523809523809523 |\n",
      "| 5 |    0.8     |    0.2    | 0.9642703334563801 | 0.9642857142857143 | 0.9642263150230317 | 0.9642857142857143 |\n",
      "| 5 |    0.75    |   0.25    | 0.9661611781710223 | 0.9657142857142857 | 0.9658061729364642 | 0.9657142857142857 |\n",
      "| 5 |    0.7     |    0.3    | 0.9673397435897437 | 0.9666666666666667 | 0.9667950239358052 | 0.9666666666666667 |\n",
      "| 6 |    0.8     |    0.2    | 0.9642703334563801 | 0.9642857142857143 | 0.9642263150230317 | 0.9642857142857143 |\n",
      "| 6 |    0.75    |   0.25    | 0.960175920835624  |        0.96        | 0.9600551248923341 |        0.96        |\n",
      "| 6 |    0.7     |    0.3    | 0.9573038073038074 | 0.9571428571428572 | 0.9572002434570906 | 0.9571428571428572 |\n",
      "| 7 |    0.8     |    0.2    | 0.9714285714285714 | 0.9714285714285714 | 0.9714285714285714 | 0.9714285714285714 |\n",
      "| 7 |    0.75    |   0.25    | 0.9722448979591837 | 0.9714285714285714 | 0.9715401900453818 | 0.9714285714285714 |\n",
      "| 7 |    0.7     |    0.3    | 0.9622894321512545 | 0.9619047619047619 | 0.9620046620046621 | 0.9619047619047619 |\n",
      "| 8 |    0.8     |    0.2    | 0.9642703334563801 | 0.9642857142857143 | 0.9642263150230317 | 0.9642857142857143 |\n",
      "| 8 |    0.75    |   0.25    | 0.9661611781710223 | 0.9657142857142857 | 0.9658061729364642 | 0.9657142857142857 |\n",
      "| 8 |    0.7     |    0.3    | 0.9622894321512545 | 0.9619047619047619 | 0.9620046620046621 | 0.9619047619047619 |\n",
      "| 9 |    0.8     |    0.2    | 0.9787414965986394 | 0.9785714285714285 | 0.9786045555276323 | 0.9785714285714285 |\n",
      "| 9 |    0.75    |   0.25    | 0.9722448979591837 | 0.9714285714285714 | 0.9715401900453818 | 0.9714285714285714 |\n",
      "| 9 |    0.7     |    0.3    | 0.9673397435897437 | 0.9666666666666667 | 0.9667950239358052 | 0.9666666666666667 |\n",
      "+---+------------+-----------+--------------------+--------------------+--------------------+--------------------+\n"
     ]
    }
   ],
   "source": [
    "for k in k_values:\n",
    "    for i in splits:\n",
    "        x_train, x_test, y_train, y_test = train_test_split(x, y, test_size=i, random_state=0)\n",
    "        model = KNeighborsClassifier(n_neighbors=k)\n",
    "        model.fit(x_train, y_train)\n",
    "        y_pred = model.predict(x_test)\n",
    "\n",
    "        precision = precision_score(y_test, y_pred, average='weighted')\n",
    "        recall = recall_score(y_test, y_pred, average='weighted')\n",
    "        f1 = f1_score(y_test, y_pred, average='weighted')\n",
    "        accuracy = accuracy_score(y_test, y_pred)\n",
    "\n",
    "        results.append([k, 1 - i, i, precision, recall, f1, accuracy])\n",
    "\n",
    "headers = [\"k\", \"Train Size\", \"Test Size\", \"Precision\", \"Recall\", \"F1 Score\", \"Accuracy\"]\n",
    "\n",
    "table = tabulate(results, headers=headers, tablefmt=\"pretty\")\n",
    "print(table)"
   ]
  },
  {
   "cell_type": "markdown",
   "id": "50a549fb",
   "metadata": {},
   "source": [
    "Display confusion matrix"
   ]
  },
  {
   "cell_type": "code",
   "execution_count": 32,
   "id": "f4f19360",
   "metadata": {
    "scrolled": false
   },
   "outputs": [
    {
     "name": "stdout",
     "output_type": "stream",
     "text": [
      "Confusion Matrix for k=3:\n",
      "[[129   4]\n",
      " [  6  71]]\n"
     ]
    }
   ],
   "source": [
    "cm = confusion_matrix(y_test, y_pred_test)\n",
    "print(\"Confusion Matrix for k=3:\")\n",
    "print(cm)"
   ]
  },
  {
   "cell_type": "markdown",
   "id": "994989d4",
   "metadata": {},
   "source": [
    "Generate classification report"
   ]
  },
  {
   "cell_type": "code",
   "execution_count": 33,
   "id": "8b5d5443",
   "metadata": {
    "scrolled": true
   },
   "outputs": [
    {
     "name": "stdout",
     "output_type": "stream",
     "text": [
      "Classification Report for k=3:\n",
      "              precision    recall  f1-score   support\n",
      "\n",
      "           2       0.96      0.97      0.96       133\n",
      "           4       0.95      0.92      0.93        77\n",
      "\n",
      "    accuracy                           0.95       210\n",
      "   macro avg       0.95      0.95      0.95       210\n",
      "weighted avg       0.95      0.95      0.95       210\n",
      "\n"
     ]
    }
   ],
   "source": [
    "report = classification_report(y_test, y_pred_test)\n",
    "print(\"Classification Report for k=3:\")\n",
    "print(report)"
   ]
  },
  {
   "cell_type": "markdown",
   "id": "a119bdb2",
   "metadata": {},
   "source": [
    "Evaluate classification error"
   ]
  },
  {
   "cell_type": "code",
   "execution_count": 34,
   "id": "b4e896e4",
   "metadata": {},
   "outputs": [
    {
     "name": "stdout",
     "output_type": "stream",
     "text": [
      "Classification Error: 0.04761904761904767\n"
     ]
    }
   ],
   "source": [
    "classification_error = 1 - accuracy_score(y_test, y_pred_test)\n",
    "print(\"Classification Error:\", classification_error)\n"
   ]
  },
  {
   "cell_type": "markdown",
   "id": "0c2196d7",
   "metadata": {},
   "source": [
    "Generate ROC curve and ROC AUC score."
   ]
  },
  {
   "cell_type": "code",
   "execution_count": 35,
   "id": "f36a98db",
   "metadata": {
    "scrolled": false
   },
   "outputs": [
    {
     "data": {
      "image/png": "[encoded data removed]",
      "text/plain": [
       "<Figure size 800x600 with 1 Axes>"
      ]
     },
     "metadata": {},
     "output_type": "display_data"
    },
    {
     "name": "stdout",
     "output_type": "stream",
     "text": [
      "ROC AUC Score: 0.9950688409335027\n"
     ]
    }
   ],
   "source": [
    "y_train_binary = label_binarize(y_train, classes=[2, 4])\n",
    "y_test_binary = label_binarize(y_test, classes=[2, 4])\n",
    "\n",
    "k = 3\n",
    "model.fit(x_train, y_train)\n",
    "\n",
    "y_probs = model.predict_proba(x_test)[:, 1]\n",
    "\n",
    "fpr, tpr, thresholds = roc_curve(y_test_binary, y_probs)\n",
    "roc_auc = roc_auc_score(y_test_binary, y_probs)\n",
    "\n",
    "plt.figure(figsize=(8, 6))\n",
    "plt.plot(fpr, tpr, label=f'ROC Curve (AUC = {roc_auc:.2f})')\n",
    "plt.plot([0, 1], [0, 1], 'k--', label='Random')\n",
    "plt.xlabel('False Positive Rate')\n",
    "plt.ylabel('True Positive Rate')\n",
    "plt.title('Receiver Operating Characteristic (ROC) Curve')\n",
    "plt.legend()\n",
    "plt.show()\n",
    "\n",
    "print(\"ROC AUC Score:\", roc_auc)"
   ]
  },
  {
   "cell_type": "markdown",
   "id": "d0096734",
   "metadata": {},
   "source": [
    "Perform k-fold validation"
   ]
  },
  {
   "cell_type": "code",
   "execution_count": 36,
   "id": "77dc0b92",
   "metadata": {},
   "outputs": [
    {
     "name": "stdout",
     "output_type": "stream",
     "text": [
      "Cross-Validation Scores (k=5): [0.93571429 0.92142857 0.97857143 0.97841727 0.97841727]\n",
      "Mean Accuracy: 0.96\n"
     ]
    }
   ],
   "source": [
    "k_fold = 5\n",
    "cv_scores = cross_val_score(model, x, y, cv=k_fold, scoring='accuracy')\n",
    "\n",
    "print(f'Cross-Validation Scores (k={k_fold}):', cv_scores)\n",
    "print(f'Mean Accuracy: {cv_scores.mean():.2f}')"
   ]
  }
 ],
 "metadata": {
  "kernelspec": {
   "display_name": "Python 3 (ipykernel)",
   "language": "python",
   "name": "python3"
  },
  "language_info": {
   "codemirror_mode": {
    "name": "ipython",
    "version": 3
   },
   "file_extension": ".py",
   "mimetype": "text/x-python",
   "name": "python",
   "nbconvert_exporter": "python",
   "pygments_lexer": "ipython3",
   "version": "3.11.5"
  }
 },
 "nbformat": 4,
 "nbformat_minor": 5
}
